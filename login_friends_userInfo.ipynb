{
 "cells": [
  {
   "cell_type": "code",
   "execution_count": 1,
   "metadata": {},
   "outputs": [
    {
     "name": "stdout",
     "output_type": "stream",
     "text": [
      "Collecting selenium==4.18.1 (from -r requirements.txt (line 1))\n",
      "  Downloading selenium-4.18.1-py3-none-any.whl.metadata (6.9 kB)\n",
      "Requirement already satisfied: pandas in c:\\users\\administrator\\appdata\\local\\programs\\python\\python39\\lib\\site-packages (from -r requirements.txt (line 2)) (1.5.3)\n",
      "Requirement already satisfied: urllib3<3,>=1.26 in c:\\users\\administrator\\appdata\\local\\programs\\python\\python39\\lib\\site-packages (from urllib3[socks]<3,>=1.26->selenium==4.18.1->-r requirements.txt (line 1)) (1.26.17)\n",
      "Requirement already satisfied: trio~=0.17 in c:\\users\\administrator\\appdata\\local\\programs\\python\\python39\\lib\\site-packages (from selenium==4.18.1->-r requirements.txt (line 1)) (0.19.0)\n",
      "Requirement already satisfied: trio-websocket~=0.9 in c:\\users\\administrator\\appdata\\local\\programs\\python\\python39\\lib\\site-packages (from selenium==4.18.1->-r requirements.txt (line 1)) (0.9.2)\n",
      "Collecting certifi>=2021.10.8 (from selenium==4.18.1->-r requirements.txt (line 1))\n",
      "  Downloading certifi-2024.2.2-py3-none-any.whl.metadata (2.2 kB)\n",
      "Collecting typing_extensions>=4.9.0 (from selenium==4.18.1->-r requirements.txt (line 1))\n",
      "  Downloading typing_extensions-4.10.0-py3-none-any.whl.metadata (3.0 kB)\n",
      "Requirement already satisfied: python-dateutil>=2.8.1 in c:\\users\\administrator\\appdata\\local\\programs\\python\\python39\\lib\\site-packages (from pandas->-r requirements.txt (line 2)) (2.8.2)\n",
      "Requirement already satisfied: pytz>=2020.1 in c:\\users\\administrator\\appdata\\local\\programs\\python\\python39\\lib\\site-packages (from pandas->-r requirements.txt (line 2)) (2022.7.1)\n",
      "Requirement already satisfied: numpy>=1.20.3 in c:\\users\\administrator\\appdata\\local\\programs\\python\\python39\\lib\\site-packages (from pandas->-r requirements.txt (line 2)) (1.22.4)\n",
      "Requirement already satisfied: six>=1.5 in c:\\users\\administrator\\appdata\\local\\programs\\python\\python39\\lib\\site-packages (from python-dateutil>=2.8.1->pandas->-r requirements.txt (line 2)) (1.16.0)\n",
      "Requirement already satisfied: attrs>=19.2.0 in c:\\users\\administrator\\appdata\\local\\programs\\python\\python39\\lib\\site-packages (from trio~=0.17->selenium==4.18.1->-r requirements.txt (line 1)) (21.2.0)\n",
      "Requirement already satisfied: sortedcontainers in c:\\users\\administrator\\appdata\\local\\programs\\python\\python39\\lib\\site-packages (from trio~=0.17->selenium==4.18.1->-r requirements.txt (line 1)) (2.4.0)\n",
      "Requirement already satisfied: async-generator>=1.9 in c:\\users\\administrator\\appdata\\local\\programs\\python\\python39\\lib\\site-packages (from trio~=0.17->selenium==4.18.1->-r requirements.txt (line 1)) (1.10)\n",
      "Requirement already satisfied: idna in c:\\users\\administrator\\appdata\\local\\programs\\python\\python39\\lib\\site-packages (from trio~=0.17->selenium==4.18.1->-r requirements.txt (line 1)) (2.10)\n",
      "Requirement already satisfied: outcome in c:\\users\\administrator\\appdata\\local\\programs\\python\\python39\\lib\\site-packages (from trio~=0.17->selenium==4.18.1->-r requirements.txt (line 1)) (1.1.0)\n",
      "Requirement already satisfied: sniffio in c:\\users\\administrator\\appdata\\local\\programs\\python\\python39\\lib\\site-packages (from trio~=0.17->selenium==4.18.1->-r requirements.txt (line 1)) (1.2.0)\n",
      "Requirement already satisfied: cffi>=1.14 in c:\\users\\administrator\\appdata\\local\\programs\\python\\python39\\lib\\site-packages (from trio~=0.17->selenium==4.18.1->-r requirements.txt (line 1)) (1.15.0)\n",
      "Requirement already satisfied: wsproto>=0.14 in c:\\users\\administrator\\appdata\\local\\programs\\python\\python39\\lib\\site-packages (from trio-websocket~=0.9->selenium==4.18.1->-r requirements.txt (line 1)) (1.0.0)\n",
      "Collecting PySocks!=1.5.7,<2.0,>=1.5.6 (from urllib3[socks]<3,>=1.26->selenium==4.18.1->-r requirements.txt (line 1))\n",
      "  Downloading PySocks-1.7.1-py3-none-any.whl.metadata (13 kB)\n",
      "Requirement already satisfied: pycparser in c:\\users\\administrator\\appdata\\local\\programs\\python\\python39\\lib\\site-packages (from cffi>=1.14->trio~=0.17->selenium==4.18.1->-r requirements.txt (line 1)) (2.21)\n",
      "Requirement already satisfied: h11<1,>=0.9.0 in c:\\users\\administrator\\appdata\\local\\programs\\python\\python39\\lib\\site-packages (from wsproto>=0.14->trio-websocket~=0.9->selenium==4.18.1->-r requirements.txt (line 1)) (0.14.0)\n",
      "Downloading selenium-4.18.1-py3-none-any.whl (10.0 MB)\n",
      "   ---------------------------------------- 10.0/10.0 MB 1.7 MB/s eta 0:00:00\n",
      "Downloading certifi-2024.2.2-py3-none-any.whl (163 kB)\n",
      "   ---------------------------------------- 163.8/163.8 kB 1.6 MB/s eta 0:00:00\n",
      "Downloading typing_extensions-4.10.0-py3-none-any.whl (33 kB)\n",
      "Downloading PySocks-1.7.1-py3-none-any.whl (16 kB)\n",
      "Installing collected packages: typing_extensions, PySocks, certifi, selenium\n",
      "  Attempting uninstall: typing_extensions\n",
      "    Found existing installation: typing_extensions 4.5.0\n",
      "    Uninstalling typing_extensions-4.5.0:\n",
      "      Successfully uninstalled typing_extensions-4.5.0\n",
      "  Attempting uninstall: certifi\n",
      "    Found existing installation: certifi 2020.12.5\n",
      "    Uninstalling certifi-2020.12.5:\n",
      "      Successfully uninstalled certifi-2020.12.5\n",
      "  Attempting uninstall: selenium\n",
      "    Found existing installation: selenium 4.1.0\n",
      "    Uninstalling selenium-4.1.0:\n",
      "      Successfully uninstalled selenium-4.1.0\n",
      "Successfully installed PySocks-1.7.1 certifi-2024.2.2 selenium-4.18.1 typing_extensions-4.10.0\n"
     ]
    },
    {
     "name": "stderr",
     "output_type": "stream",
     "text": [
      "WARNING: Ignoring invalid distribution -cipy (c:\\users\\administrator\\appdata\\local\\programs\\python\\python39\\lib\\site-packages)\n",
      "WARNING: Ignoring invalid distribution -cipy (c:\\users\\administrator\\appdata\\local\\programs\\python\\python39\\lib\\site-packages)\n",
      "DEPRECATION: textract 1.6.5 has a non-standard dependency specifier extract-msg<=0.29.*. pip 24.0 will enforce this behaviour change. A possible replacement is to upgrade to a newer version of textract or contact the author to suggest that they release a version with a conforming dependency specifiers. Discussion can be found at https://github.com/pypa/pip/issues/12063\n",
      "ERROR: pip's dependency resolver does not currently take into account all the packages that are installed. This behaviour is the source of the following dependency conflicts.\n",
      "gradio 3.35.2 requires huggingface-hub>=0.14.0, but you have huggingface-hub 0.10.1 which is incompatible.\n",
      "gradio-client 0.2.7 requires huggingface-hub>=0.13.0, but you have huggingface-hub 0.10.1 which is incompatible.\n",
      "spacy 3.3.3 requires typing-extensions<4.6.0,>=3.7.4.1, but you have typing-extensions 4.10.0 which is incompatible.\n",
      "tensorflow 2.9.0 requires keras<2.10.0,>=2.9.0rc0, but you have keras 3.0.2 which is incompatible.\n",
      "\n",
      "[notice] A new release of pip is available: 23.3.2 -> 24.0\n",
      "[notice] To update, run: python.exe -m pip install --upgrade pip\n"
     ]
    }
   ],
   "source": [
    "!pip install -r requirements.txt"
   ]
  },
  {
   "cell_type": "code",
   "execution_count": 5,
   "metadata": {},
   "outputs": [],
   "source": [
    "!conda env export > env.yaml"
   ]
  },
  {
   "cell_type": "code",
   "execution_count": 1,
   "metadata": {},
   "outputs": [],
   "source": [
    "import selenium\n",
    "from selenium import webdriver\n",
    "from selenium.webdriver.common.by import By\n",
    "from selenium.webdriver.common.keys import Keys\n",
    "from time import sleep\n",
    "import getpass\n",
    "from selenium.webdriver.chrome.options import Options\n",
    "from selenium.common.exceptions import TimeoutException\n",
    "from selenium.webdriver.support.wait import WebDriverWait\n",
    "from selenium.webdriver.support import expected_conditions as EC\n",
    "import re"
   ]
  },
  {
   "cell_type": "code",
   "execution_count": 2,
   "metadata": {},
   "outputs": [],
   "source": [
    "option = Options()\n",
    "option.add_argument(\"--disable-infobars\")\n",
    "option.add_argument(\"start-maximized\")\n",
    "option.add_argument(\"--disable-extensions\")\n",
    "option.add_experimental_option(\n",
    "    \"prefs\", {\"profile.default_content_setting_values.notifications\": 1}\n",
    ")"
   ]
  },
  {
   "cell_type": "code",
   "execution_count": 3,
   "metadata": {},
   "outputs": [],
   "source": [
    "PATH =\"extensions\\chromedriver.exe\"\n",
    "driver = webdriver.Chrome(options=option)\n",
    "driver.get(\"https://www.facebook.com/\")\n",
    "driver.maximize_window()"
   ]
  },
  {
   "cell_type": "code",
   "execution_count": 4,
   "metadata": {},
   "outputs": [],
   "source": [
    "# Login\n",
    "user_name = driver.find_element(By.XPATH,\"//input[@name='email']\")\n",
    "user_name.send_keys(\"yelan482@gmail.com\")\n",
    "password = driver.find_element(By.XPATH,\"//input[@name='pass']\")\n",
    "password.send_keys('Linhcute542002')\n",
    "\n",
    "log_in_button = driver.find_element(By.XPATH,\"//button[@type='submit']\")\n",
    "log_in_button.click()"
   ]
  },
  {
   "cell_type": "code",
   "execution_count": 5,
   "metadata": {},
   "outputs": [],
   "source": [
    "driver.get('https://www.facebook.com/profile.php?id=100093944898219')"
   ]
  },
  {
   "cell_type": "code",
   "execution_count": 6,
   "metadata": {},
   "outputs": [],
   "source": [
    "friendsTab = driver.find_element(By.XPATH,\"//span[text()='Friends']\")\n",
    "friendsTab.click()"
   ]
  },
  {
   "cell_type": "code",
   "execution_count": 15,
   "metadata": {},
   "outputs": [],
   "source": [
    "a = driver.find_elements(By.XPATH, \"/html/body/div[1]/div/div[1]/div/div[3]/div/div/div[1]/div[1]/div/div/div[4]/div/div/div/div[2]/div/div/div/div/div[1]/div/div/div/h2/span/a\")"
   ]
  },
  {
   "cell_type": "code",
   "execution_count": 19,
   "metadata": {},
   "outputs": [],
   "source": [
    "test_photos= WebDriverWait(driver, 5).until(EC.presence_of_element_located((By.XPATH, \"/html/body/div[1]/div/div[1]/div/div[3]/div/div/div[1]/div[1]/div/div/div[4]/div/div/div/div[2]/div/div/div/div/div[1]/div/div/div/h2/span/a\")))\n",
    "abc = test_photos.get_attribute(\"href\")"
   ]
  },
  {
   "cell_type": "code",
   "execution_count": 20,
   "metadata": {},
   "outputs": [
    {
     "data": {
      "text/plain": [
       "'https://www.facebook.com/profile.php?id=100093944898219&sk=photos'"
      ]
     },
     "execution_count": 20,
     "metadata": {},
     "output_type": "execute_result"
    }
   ],
   "source": [
    "abc"
   ]
  },
  {
   "cell_type": "code",
   "execution_count": 26,
   "metadata": {},
   "outputs": [
    {
     "data": {
      "text/plain": [
       "18"
      ]
     },
     "execution_count": 26,
     "metadata": {},
     "output_type": "execute_result"
    }
   ],
   "source": [
    "def _get_friends_list():\n",
    "    return driver.find_elements(By.CSS_SELECTOR, \".x1iyjqo2.x1pi30zi [href]\")\n",
    "len(_get_friends_list())"
   ]
  },
  {
   "cell_type": "code",
   "execution_count": 27,
   "metadata": {},
   "outputs": [
    {
     "name": "stdout",
     "output_type": "stream",
     "text": [
      "26\n",
      "33\n"
     ]
    }
   ],
   "source": [
    "### Check lại cách load bạn bè\n",
    "\n",
    "num_of_loaded_friends = len(_get_friends_list())\n",
    "while True:\n",
    "    driver.execute_script(\"window.scrollTo(0, document.body.scrollHeight);\")\n",
    "    try:\n",
    "        WebDriverWait(driver, 2).until(lambda driver: len(_get_friends_list()) > num_of_loaded_friends)\n",
    "        num_of_loaded_friends = len(_get_friends_list())\n",
    "        print(num_of_loaded_friends)\n",
    "    except TimeoutException:\n",
    "        break  # no more friends loaded"
   ]
  },
  {
   "cell_type": "code",
   "execution_count": 28,
   "metadata": {},
   "outputs": [
    {
     "data": {
      "text/plain": [
       "33"
      ]
     },
     "execution_count": 28,
     "metadata": {},
     "output_type": "execute_result"
    }
   ],
   "source": [
    "num_of_loaded_friends"
   ]
  },
  {
   "cell_type": "code",
   "execution_count": 29,
   "metadata": {},
   "outputs": [],
   "source": [
    "newfriend = [i.text for i in _get_friends_list()[1:]]\n",
    "newurl = [i.get_attribute(\"href\") for i in _get_friends_list()[1:]]"
   ]
  },
  {
   "cell_type": "code",
   "execution_count": 30,
   "metadata": {},
   "outputs": [
    {
     "data": {
      "text/html": [
       "<div>\n",
       "<style scoped>\n",
       "    .dataframe tbody tr th:only-of-type {\n",
       "        vertical-align: middle;\n",
       "    }\n",
       "\n",
       "    .dataframe tbody tr th {\n",
       "        vertical-align: top;\n",
       "    }\n",
       "\n",
       "    .dataframe thead th {\n",
       "        text-align: right;\n",
       "    }\n",
       "</style>\n",
       "<table border=\"1\" class=\"dataframe\">\n",
       "  <thead>\n",
       "    <tr style=\"text-align: right;\">\n",
       "      <th></th>\n",
       "      <th>Name</th>\n",
       "      <th>url</th>\n",
       "    </tr>\n",
       "  </thead>\n",
       "  <tbody>\n",
       "    <tr>\n",
       "      <th>0</th>\n",
       "      <td>Ngocc Hann</td>\n",
       "      <td>https://www.facebook.com/profile.php?id=100093...</td>\n",
       "    </tr>\n",
       "    <tr>\n",
       "      <th>1</th>\n",
       "      <td>Nguyynn Haan</td>\n",
       "      <td>https://www.facebook.com/profile.php?id=100081...</td>\n",
       "    </tr>\n",
       "    <tr>\n",
       "      <th>2</th>\n",
       "      <td>Lê Ngọc</td>\n",
       "      <td>https://www.facebook.com/profile.php?id=100088...</td>\n",
       "    </tr>\n",
       "    <tr>\n",
       "      <th>3</th>\n",
       "      <td>Catt Tuongg</td>\n",
       "      <td>https://www.facebook.com/profile.php?id=100084...</td>\n",
       "    </tr>\n",
       "    <tr>\n",
       "      <th>4</th>\n",
       "      <td>Nguyễn Thị Ngọc Hân</td>\n",
       "      <td>https://www.facebook.com/profile.php?id=100059...</td>\n",
       "    </tr>\n",
       "    <tr>\n",
       "      <th>5</th>\n",
       "      <td>Bui Nhu Yi</td>\n",
       "      <td>https://www.facebook.com/profile.php?id=100088...</td>\n",
       "    </tr>\n",
       "    <tr>\n",
       "      <th>6</th>\n",
       "      <td>Viên Lê Sinh</td>\n",
       "      <td>https://www.facebook.com/vien.lesinh.3</td>\n",
       "    </tr>\n",
       "    <tr>\n",
       "      <th>7</th>\n",
       "      <td>Tr Tphuong</td>\n",
       "      <td>https://www.facebook.com/profile.php?id=100071...</td>\n",
       "    </tr>\n",
       "    <tr>\n",
       "      <th>8</th>\n",
       "      <td>Han Bow</td>\n",
       "      <td>https://www.facebook.com/profile.php?id=100095...</td>\n",
       "    </tr>\n",
       "    <tr>\n",
       "      <th>9</th>\n",
       "      <td>Bích Ngọc</td>\n",
       "      <td>https://www.facebook.com/profile.php?id=100058...</td>\n",
       "    </tr>\n",
       "    <tr>\n",
       "      <th>10</th>\n",
       "      <td>Lg Thao</td>\n",
       "      <td>https://www.facebook.com/profile.php?id=100086...</td>\n",
       "    </tr>\n",
       "    <tr>\n",
       "      <th>11</th>\n",
       "      <td>Hoài Thanh</td>\n",
       "      <td>https://www.facebook.com/profile.php?id=100094...</td>\n",
       "    </tr>\n",
       "    <tr>\n",
       "      <th>12</th>\n",
       "      <td>Nguyễn Phan Hải Hà</td>\n",
       "      <td>https://www.facebook.com/profile.php?id=100093...</td>\n",
       "    </tr>\n",
       "    <tr>\n",
       "      <th>13</th>\n",
       "      <td>Yun Chang</td>\n",
       "      <td>https://www.facebook.com/profile.php?id=100093...</td>\n",
       "    </tr>\n",
       "    <tr>\n",
       "      <th>14</th>\n",
       "      <td>Chí Bảo</td>\n",
       "      <td>https://www.facebook.com/profile.php?id=100092...</td>\n",
       "    </tr>\n",
       "    <tr>\n",
       "      <th>15</th>\n",
       "      <td>Nguyễn Hồng</td>\n",
       "      <td>https://www.facebook.com/profile.php?id=100092...</td>\n",
       "    </tr>\n",
       "    <tr>\n",
       "      <th>16</th>\n",
       "      <td>Ban KinhTe PG Huế</td>\n",
       "      <td>https://www.facebook.com/profile.php?id=100090...</td>\n",
       "    </tr>\n",
       "    <tr>\n",
       "      <th>17</th>\n",
       "      <td>Thanh Trucc</td>\n",
       "      <td>https://www.facebook.com/thanhtruc22023</td>\n",
       "    </tr>\n",
       "    <tr>\n",
       "      <th>18</th>\n",
       "      <td>Nguyễn Dũng</td>\n",
       "      <td>https://www.facebook.com/profile.php?id=100084...</td>\n",
       "    </tr>\n",
       "    <tr>\n",
       "      <th>19</th>\n",
       "      <td>Nguyễn Nhật Linh</td>\n",
       "      <td>https://www.facebook.com/profile.php?id=100083...</td>\n",
       "    </tr>\n",
       "    <tr>\n",
       "      <th>20</th>\n",
       "      <td>Phuong Lam</td>\n",
       "      <td>https://www.facebook.com/profile.php?id=100079...</td>\n",
       "    </tr>\n",
       "    <tr>\n",
       "      <th>21</th>\n",
       "      <td>Lưu Vanpelé</td>\n",
       "      <td>https://www.facebook.com/profile.php?id=100074...</td>\n",
       "    </tr>\n",
       "    <tr>\n",
       "      <th>22</th>\n",
       "      <td>Nhạt Phong</td>\n",
       "      <td>https://www.facebook.com/profile.php?id=100073...</td>\n",
       "    </tr>\n",
       "    <tr>\n",
       "      <th>23</th>\n",
       "      <td>Thanhh Phan</td>\n",
       "      <td>https://www.facebook.com/profile.php?id=100071...</td>\n",
       "    </tr>\n",
       "    <tr>\n",
       "      <th>24</th>\n",
       "      <td>Yew Nắng</td>\n",
       "      <td>https://www.facebook.com/profile.php?id=100065...</td>\n",
       "    </tr>\n",
       "    <tr>\n",
       "      <th>25</th>\n",
       "      <td>Khánh Lynhh</td>\n",
       "      <td>https://www.facebook.com/Lynhhchuche</td>\n",
       "    </tr>\n",
       "    <tr>\n",
       "      <th>26</th>\n",
       "      <td>Nguyễn Ngọc Hiền</td>\n",
       "      <td>https://www.facebook.com/profile.php?id=100044...</td>\n",
       "    </tr>\n",
       "    <tr>\n",
       "      <th>27</th>\n",
       "      <td>Phung Thi Nguyenn</td>\n",
       "      <td>https://www.facebook.com/chapnhan.sotiep</td>\n",
       "    </tr>\n",
       "    <tr>\n",
       "      <th>28</th>\n",
       "      <td>Bao Anh Lê</td>\n",
       "      <td>https://www.facebook.com/baoanh.le.3939503</td>\n",
       "    </tr>\n",
       "    <tr>\n",
       "      <th>29</th>\n",
       "      <td>Thanh Nga</td>\n",
       "      <td>https://www.facebook.com/thanhnga.240</td>\n",
       "    </tr>\n",
       "    <tr>\n",
       "      <th>30</th>\n",
       "      <td>Nguyễn Lê Trúc Bình</td>\n",
       "      <td>https://www.facebook.com/profile.php?id=615553...</td>\n",
       "    </tr>\n",
       "    <tr>\n",
       "      <th>31</th>\n",
       "      <td>Chinhh Ngocc</td>\n",
       "      <td>https://www.facebook.com/profile.php?id=615542...</td>\n",
       "    </tr>\n",
       "  </tbody>\n",
       "</table>\n",
       "</div>"
      ],
      "text/plain": [
       "                   Name                                                url\n",
       "0            Ngocc Hann  https://www.facebook.com/profile.php?id=100093...\n",
       "1          Nguyynn Haan  https://www.facebook.com/profile.php?id=100081...\n",
       "2               Lê Ngọc  https://www.facebook.com/profile.php?id=100088...\n",
       "3           Catt Tuongg  https://www.facebook.com/profile.php?id=100084...\n",
       "4   Nguyễn Thị Ngọc Hân  https://www.facebook.com/profile.php?id=100059...\n",
       "5            Bui Nhu Yi  https://www.facebook.com/profile.php?id=100088...\n",
       "6          Viên Lê Sinh             https://www.facebook.com/vien.lesinh.3\n",
       "7            Tr Tphuong  https://www.facebook.com/profile.php?id=100071...\n",
       "8               Han Bow  https://www.facebook.com/profile.php?id=100095...\n",
       "9             Bích Ngọc  https://www.facebook.com/profile.php?id=100058...\n",
       "10              Lg Thao  https://www.facebook.com/profile.php?id=100086...\n",
       "11           Hoài Thanh  https://www.facebook.com/profile.php?id=100094...\n",
       "12   Nguyễn Phan Hải Hà  https://www.facebook.com/profile.php?id=100093...\n",
       "13            Yun Chang  https://www.facebook.com/profile.php?id=100093...\n",
       "14              Chí Bảo  https://www.facebook.com/profile.php?id=100092...\n",
       "15          Nguyễn Hồng  https://www.facebook.com/profile.php?id=100092...\n",
       "16    Ban KinhTe PG Huế  https://www.facebook.com/profile.php?id=100090...\n",
       "17          Thanh Trucc            https://www.facebook.com/thanhtruc22023\n",
       "18          Nguyễn Dũng  https://www.facebook.com/profile.php?id=100084...\n",
       "19     Nguyễn Nhật Linh  https://www.facebook.com/profile.php?id=100083...\n",
       "20           Phuong Lam  https://www.facebook.com/profile.php?id=100079...\n",
       "21          Lưu Vanpelé  https://www.facebook.com/profile.php?id=100074...\n",
       "22           Nhạt Phong  https://www.facebook.com/profile.php?id=100073...\n",
       "23          Thanhh Phan  https://www.facebook.com/profile.php?id=100071...\n",
       "24             Yew Nắng  https://www.facebook.com/profile.php?id=100065...\n",
       "25          Khánh Lynhh               https://www.facebook.com/Lynhhchuche\n",
       "26     Nguyễn Ngọc Hiền  https://www.facebook.com/profile.php?id=100044...\n",
       "27    Phung Thi Nguyenn           https://www.facebook.com/chapnhan.sotiep\n",
       "28           Bao Anh Lê         https://www.facebook.com/baoanh.le.3939503\n",
       "29            Thanh Nga              https://www.facebook.com/thanhnga.240\n",
       "30  Nguyễn Lê Trúc Bình  https://www.facebook.com/profile.php?id=615553...\n",
       "31         Chinhh Ngocc  https://www.facebook.com/profile.php?id=615542..."
      ]
     },
     "execution_count": 30,
     "metadata": {},
     "output_type": "execute_result"
    }
   ],
   "source": [
    "import pandas as pd\n",
    "df = pd.DataFrame(list(zip(newfriend, newurl)),\n",
    "               columns =['Name', 'url'])\n",
    "df"
   ]
  },
  {
   "cell_type": "code",
   "execution_count": null,
   "metadata": {},
   "outputs": [],
   "source": []
  },
  {
   "cell_type": "markdown",
   "metadata": {},
   "source": [
    "# Infor"
   ]
  },
  {
   "cell_type": "code",
   "execution_count": null,
   "metadata": {},
   "outputs": [],
   "source": [
    "def get_name(url):\n",
    "    url = url\n",
    "    driver.get(url)\n",
    "    driver.maximize_window()\n",
    "    # name = driver.find_element(By.XPATH, '//h1[@class = \"x1heor9g x1qlqyl8 x1pd3egz x1a2a7pz\"]').text\n",
    "    name = WebDriverWait(driver, 2).until(\n",
    "        EC.presence_of_element_located((By.XPATH, '//h1[@class = \"x1heor9g x1qlqyl8 x1pd3egz x1a2a7pz\"]'))\n",
    "    ).text\n",
    "    return name\n",
    "\n",
    "def get_about_place(url):\n",
    "    url = url + '/about_places'    \n",
    "    driver.get(url)\n",
    "    driver.maximize_window()\n",
    "    # place = driver.find_element(By.XPATH, \"//span[@class = 'xt0psk2']\").text\n",
    "    place = WebDriverWait(driver, 2).until(\n",
    "        EC.presence_of_element_located((By.XPATH, \"//span[@class = 'xt0psk2']\"))\n",
    "    ).text\n",
    "    return place\n",
    "\n",
    "def get_gender(url):\n",
    "    url = url + '/about_contact_and_basic_info'\n",
    "    driver.get(url)\n",
    "    driver.maximize_window()\n",
    "    try:\n",
    "        # /div[3]/div/div[2]/div/div/div[2]/div/div/div/div/div[1]/span\n",
    "        # xyamay9 xqmdsaz x1gan7if x1swvt13 div[2]/div/div[1]/div/div/div[1]/div/div/\n",
    "        # gender = driver.find_element(By.XPATH, \"//div[@class='x1hq5gj4']/div/div/div[2]/div/div/div/div/div/span\").text\n",
    "        gender = WebDriverWait(driver, 2).until(\n",
    "            EC.presence_of_element_located((By.XPATH, \"//div[@class='xyamay9 xqmdsaz x1gan7if x1swvt13']/div[3]/div/div[2]/div/div/div[2]/div/div/div/div/div[1]/span\"))\n",
    "        ).text\n",
    "    except:\n",
    "        gender = None\n",
    "    return gender\n",
    "\n",
    "def get_date_of_birth(url):\n",
    "    url = url + '/about_contact_and_basic_info'\n",
    "    driver.get(url)\n",
    "    driver.maximize_window()\n",
    "    try:\n",
    "        # date_month = driver.find_element(By.XPATH, \"//div[@class = 'x1hq5gj4']/../div[3]/div/div/div[2]/div/div/div/div/div/span\").text\n",
    "        date_month = WebDriverWait(driver, 2).until(\n",
    "            EC.presence_of_element_located((By.XPATH, \"//div[@class = 'x1hq5gj4']/../div[3]/div/div/div[2]/div/div/div/div/div/span\"))\n",
    "        ).text\n",
    "        year = WebDriverWait(driver, 2).until(\n",
    "            EC.presence_of_element_located((By.XPATH, \"//div[@class = 'x1hq5gj4']/../div[3]/div/div/div[2]/div[2]/div/div/div/div/span\"))\n",
    "        ).text\n",
    "    except:\n",
    "        date_month = None\n",
    "        year = None\n",
    "    return date_month, year\n",
    "\n",
    "url = \"https://www.facebook.com/ngphuoctthue\"\n",
    "\n",
    "name = get_name(url)\n",
    "place = get_about_place(url)\n",
    "gender = get_gender(url)\n",
    "date_of_birth = get_date_of_birth(url)[0]\n",
    "year = get_date_of_birth(url)[1]\n",
    "print(name)\n",
    "print(place)\n",
    "print(gender)\n",
    "print(date_of_birth)\n",
    "print(year)\n",
    "\n",
    "data = [\n",
    "    {'name': name, 'place': place, 'gender': gender, 'date_of_birth': date_of_birth, 'year': year}\n",
    "]"
   ]
  },
  {
   "cell_type": "code",
   "execution_count": null,
   "metadata": {},
   "outputs": [],
   "source": [
    "class UserInfor():\n",
    "    def self.__init__():\n",
    "        self.url = URL\n",
    "        self.name = name\n",
    "        \n",
    "    def _get_name():\n",
    "        pass\n",
    "\n",
    "    def _get_gender():\n",
    "        pass\n",
    "\n",
    "    def _get_friend():\n",
    "        pass\n",
    "\n",
    "    def _get_date_of_birth():\n",
    "        self.year = year \n",
    "        pass\n",
    "\n",
    "\n",
    "      \n",
    "\n",
    "\n"
   ]
  },
  {
   "cell_type": "code",
   "execution_count": null,
   "metadata": {},
   "outputs": [],
   "source": []
  },
  {
   "cell_type": "code",
   "execution_count": null,
   "metadata": {},
   "outputs": [],
   "source": []
  },
  {
   "cell_type": "code",
   "execution_count": null,
   "metadata": {},
   "outputs": [],
   "source": []
  },
  {
   "cell_type": "code",
   "execution_count": null,
   "metadata": {},
   "outputs": [
    {
     "data": {
      "text/html": [
       "<div>\n",
       "<style scoped>\n",
       "    .dataframe tbody tr th:only-of-type {\n",
       "        vertical-align: middle;\n",
       "    }\n",
       "\n",
       "    .dataframe tbody tr th {\n",
       "        vertical-align: top;\n",
       "    }\n",
       "\n",
       "    .dataframe thead th {\n",
       "        text-align: right;\n",
       "    }\n",
       "</style>\n",
       "<table border=\"1\" class=\"dataframe\">\n",
       "  <thead>\n",
       "    <tr style=\"text-align: right;\">\n",
       "      <th></th>\n",
       "      <th>0</th>\n",
       "      <th>1</th>\n",
       "    </tr>\n",
       "  </thead>\n",
       "  <tbody>\n",
       "    <tr>\n",
       "      <th>0</th>\n",
       "      <td>Minh Anh Lê</td>\n",
       "      <td>Tình nguyện viên tại Khát Vọng</td>\n",
       "    </tr>\n",
       "    <tr>\n",
       "      <th>1</th>\n",
       "      <td>Nguyễn Thắng</td>\n",
       "      <td>Làm việc tại NYX Basketball</td>\n",
       "    </tr>\n",
       "    <tr>\n",
       "      <th>2</th>\n",
       "      <td>Hữuu Đạtt</td>\n",
       "      <td>Huế</td>\n",
       "    </tr>\n",
       "    <tr>\n",
       "      <th>3</th>\n",
       "      <td>Đàm Lệ</td>\n",
       "      <td>Marketing tại Youth+ - Định hướng, đảm bảo việ...</td>\n",
       "    </tr>\n",
       "    <tr>\n",
       "      <th>4</th>\n",
       "      <td>Kỳ Diệu Thi</td>\n",
       "      <td>THPT Chuyên Quốc Học Huế</td>\n",
       "    </tr>\n",
       "    <tr>\n",
       "      <th>...</th>\n",
       "      <td>...</td>\n",
       "      <td>...</td>\n",
       "    </tr>\n",
       "    <tr>\n",
       "      <th>312</th>\n",
       "      <td>Thanh Nhàn</td>\n",
       "      <td>Đại Học Ngoại Ngữ Huế</td>\n",
       "    </tr>\n",
       "    <tr>\n",
       "      <th>313</th>\n",
       "      <td>Thu Hằng</td>\n",
       "      <td>Làm việc tại VietSeeds Foundation</td>\n",
       "    </tr>\n",
       "    <tr>\n",
       "      <th>314</th>\n",
       "      <td>Phong Nguyễn</td>\n",
       "      <td>Boss tại Huế</td>\n",
       "    </tr>\n",
       "    <tr>\n",
       "      <th>315</th>\n",
       "      <td>Nguyễn Thị Thùy Linh</td>\n",
       "      <td>None</td>\n",
       "    </tr>\n",
       "    <tr>\n",
       "      <th>316</th>\n",
       "      <td>Diệu Thi</td>\n",
       "      <td>Trường THPT Phan Đăng Lưu - Huế</td>\n",
       "    </tr>\n",
       "  </tbody>\n",
       "</table>\n",
       "<p>317 rows × 2 columns</p>\n",
       "</div>"
      ],
      "text/plain": [
       "                        0                                                  1\n",
       "0             Minh Anh Lê                     Tình nguyện viên tại Khát Vọng\n",
       "1            Nguyễn Thắng                        Làm việc tại NYX Basketball\n",
       "2               Hữuu Đạtt                                                Huế\n",
       "3                  Đàm Lệ  Marketing tại Youth+ - Định hướng, đảm bảo việ...\n",
       "4             Kỳ Diệu Thi                           THPT Chuyên Quốc Học Huế\n",
       "..                    ...                                                ...\n",
       "312            Thanh Nhàn                              Đại Học Ngoại Ngữ Huế\n",
       "313              Thu Hằng                  Làm việc tại VietSeeds Foundation\n",
       "314          Phong Nguyễn                                       Boss tại Huế\n",
       "315  Nguyễn Thị Thùy Linh                                               None\n",
       "316              Diệu Thi                    Trường THPT Phan Đăng Lưu - Huế\n",
       "\n",
       "[317 rows x 2 columns]"
      ]
     },
     "execution_count": 104,
     "metadata": {},
     "output_type": "execute_result"
    }
   ],
   "source": [
    "df_new"
   ]
  }
 ],
 "metadata": {
  "kernelspec": {
   "display_name": "Python 3.9.1 64-bit",
   "language": "python",
   "name": "python3"
  },
  "language_info": {
   "codemirror_mode": {
    "name": "ipython",
    "version": 3
   },
   "file_extension": ".py",
   "mimetype": "text/x-python",
   "name": "python",
   "nbconvert_exporter": "python",
   "pygments_lexer": "ipython3",
   "version": "3.9.1"
  },
  "orig_nbformat": 4,
  "vscode": {
   "interpreter": {
    "hash": "6fff98fc3b3d81bd655c2cc48858186e4d9e2db7b515bf1c3221888f12a62f87"
   }
  }
 },
 "nbformat": 4,
 "nbformat_minor": 2
}
