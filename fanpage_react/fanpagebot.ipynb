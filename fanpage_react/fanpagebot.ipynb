{
 "cells": [
  {
   "cell_type": "code",
   "execution_count": 23,
   "metadata": {},
   "outputs": [],
   "source": [
    "from selenium.webdriver.common.by import By\n",
    "from selenium.webdriver import ChromeOptions, Chrome\n",
    "from selenium.webdriver.chrome.service import Service\n",
    "\n",
    "from selenium.common.exceptions import NoSuchElementException\n",
    "\n",
    "\n",
    "from selenium.webdriver.common.action_chains import ActionChains\n",
    "import re\n",
    "import pandas as pd\n",
    "from time import sleep\n",
    "import random\n",
    "import csv"
   ]
  },
  {
   "cell_type": "code",
   "execution_count": 24,
   "metadata": {},
   "outputs": [],
   "source": [
    "driver_location = '/usr/bin/chromedriver'\n",
    "binary_location = '/usr/bin/google-chrome'\n",
    "\n",
    "options = ChromeOptions()\n",
    "options.binary_location = binary_location\n",
    "\n",
    "service = Service(executable_path=driver_location)\n",
    "\n",
    "browser = Chrome(service=service, options=options)\n",
    "actions = ActionChains(browser)"
   ]
  },
  {
   "cell_type": "code",
   "execution_count": 25,
   "metadata": {},
   "outputs": [],
   "source": [
    "options = ChromeOptions()\n",
    "options.add_experimental_option(\"detach\", True)\n",
    "options.add_argument(\"--disable-extensions\")\n",
    "# options.add_argument(\"--headless\")\n",
    "options.add_argument(\"--incognito\")\n",
    "options.add_argument(\"--window-size=1920x1080\")"
   ]
  },
  {
   "cell_type": "code",
   "execution_count": 26,
   "metadata": {},
   "outputs": [],
   "source": [
    "browser.get(\"https://www.facebook.com/huet.hueuni\")"
   ]
  },
  {
   "cell_type": "code",
   "execution_count": 27,
   "metadata": {},
   "outputs": [],
   "source": [
    "try:\n",
    "    # Thử tìm và nhấp vào phần tử\n",
    "    browser.find_element(By.XPATH, \"/html/body/div[1]/div/div[1]/div/div[5]/div/div/div[1]/div/div[2]/div/div/div/div[1]/div\").click()\n",
    "except NoSuchElementException:\n",
    "    # Nếu phần tử không tồn tại, đợi 5 giây trước khi thử lại\n",
    "    sleep(5)\n",
    "    try:\n",
    "        browser.find_element(By.XPATH, \"/html/body/div[1]/div/div[1]/div/div[5]/div/div/div[1]/div/div[2]/div/div/div/div[1]/div\").click()\n",
    "    except NoSuchElementException:\n",
    "        # Nếu vẫn không tìm thấy, bỏ qua và tiếp tục\n",
    "        pass"
   ]
  },
  {
   "cell_type": "code",
   "execution_count": 28,
   "metadata": {},
   "outputs": [],
   "source": [
    "browser.execute_script(\"window.scrollTo(0, 1000);\")"
   ]
  },
  {
   "cell_type": "code",
   "execution_count": 29,
   "metadata": {},
   "outputs": [],
   "source": [
    "browser.execute_script(\"window.scrollTo(0, document.body.scrollHeight);\")"
   ]
  },
  {
   "cell_type": "code",
   "execution_count": 30,
   "metadata": {},
   "outputs": [
    {
     "name": "stdout",
     "output_type": "stream",
     "text": [
      "https://www.facebook.com/huet.hueuni/posts/pfbid0Tw2UrqU9T7gymaEqPoaLS7jhKq1FbYU6R9R8akEJThKmnTSmQaRVKqayZd8oZp87l?\n",
      "https://www.facebook.com/huet.hueuni/posts/pfbid0zA4qe4UTe59DkHHGpd9oHUotcorvfQ3Ys75wQrgqgSn6PMhGaTzbH22D4uY52zual?\n",
      "https://www.facebook.com/huet.hueuni/posts/pfbid0y4Q1TuTrQB4MXRq2LYU9xv6ePc1TuWfXcizHLjkugSM3KBaYCfiRpiNd8hTRxsCKl?\n",
      "https://www.facebook.com/huet.hueuni/posts/pfbid02q5tfpPG9KmoS1nGVvqEDZ4yVoe5ot535sPAsuEojtQEZxcBMgN2j2N9XAPzKantQl?\n",
      "https://www.facebook.com/huet.hueuni/posts/pfbid0tRdaP94VgSBRvN1DsvyQYMNEujbTusNUhwXBJ2NP4Zm5JUjMcKbFSwCdKaAkVyLKl?\n",
      "https://www.facebook.com/huet.hueuni/posts/pfbid031Apa7sd3fqQ7rtSqG5kTRjihCFy817wL7RCqs3HUu22S4L4AXdvvEpdvGW2iGEqwl?\n",
      "https://www.facebook.com/huet.hueuni/posts/pfbid0W8N9D9VMvpinf9myc7MoJ2Hj69AjGe2iquuWh11i8mRr68LfTzgSjTcA2KLosbxxl?\n",
      "https://www.facebook.com/huet.hueuni/posts/pfbid02bYEXvPhUdhSVckJ4VJvuS4upuwuNdRtxBgk1cvsSWvV4N6fBhrzemWqbWziEWusrl?\n",
      "https://www.facebook.com/huet.hueuni/posts/pfbid0ENc1HRd4G5hwZugNAfACagmMR8kiguZX8eSN8ZQ4QjErkBGqh33YHh5reLSTLHh1l?\n",
      "https://www.facebook.com/events/1069498110880909/?\n",
      "https://www.facebook.com/events/411413064718116/?\n",
      "https://www.facebook.com/huet.hueuni/posts/pfbid0s5SJJ2fry6YATH9inGnpzzLkbdimoSJnmTMRbHHHn4jzvXghBqB2VTEZejhu3ZTKl?\n",
      "https://www.facebook.com/huet.hueuni/posts/pfbid02PE7Hm9VC2MJH1Q8JhGfZ5bPcApDryBYunYxiGWLYyebqYh81hhWw1BbRL8gKC6ryl?\n",
      "https://www.facebook.com/huet.hueuni/posts/pfbid02Ym9dih718JSaeUP96FkZP81sQZsbBi7wW9AiPbEegiUmVcDbicnsHc7UerJVH39sl?\n",
      "https://www.facebook.com/huet.hueuni/posts/pfbid02G2pN4keLis6e6jJMFooAohrcVan742o2NjRpcvMVoFwowEgJVmZpUrjXC2SAVxyDl?\n"
     ]
    }
   ],
   "source": [
    "browser.execute_script(\"window.scrollTo(0, document.body.scrollHeight);\")\n",
    "post_link = []\n",
    "for i in range(1,50):\n",
    "    try:\n",
    "        browser.execute_script(\"window.scrollTo(0, 1000);\")\n",
    "        # Hover chuột vào post\n",
    "        post = browser.find_element(By.XPATH,\n",
    "                                    f\"/html/body/div[1]/div/div[1]/div/div[3]/div/div/div[1]/div[1]/div/div/div[4]/div[2]/div/div[2]/div/div[{i}]/div/div/div/div/div/div/div/div/div/div/div[2]/div/div/div[2]/div/div[2]/div/div[2]/span/span/span[2]/span\"\n",
    "                                    )\n",
    "        actions.move_to_element(post).perform()\n",
    "        browser.execute_script(\"window.scrollTo(0, 1000);\")\n",
    "\n",
    "        # Lấy link từ post và in ra \n",
    "        a_tag = post.find_element(By.XPATH, \".//a\")\n",
    "        link = a_tag.get_attribute(\"href\")\n",
    "        link = re.sub(r\"__cft__.*\", \"\", link)\n",
    "        print(link)\n",
    "        post_link.append(link)\n",
    "        sleep(2)\n",
    "    except:\n",
    "        browser.execute_script(\"window.scrollTo(0, 1000);\")\n",
    "    if len(post_link) >= 15: break "
   ]
  }
 ],
 "metadata": {
  "kernelspec": {
   "display_name": "fb_crawl",
   "language": "python",
   "name": "python3"
  },
  "language_info": {
   "codemirror_mode": {
    "name": "ipython",
    "version": 3
   },
   "file_extension": ".py",
   "mimetype": "text/x-python",
   "name": "python",
   "nbconvert_exporter": "python",
   "pygments_lexer": "ipython3",
   "version": "3.9.18"
  }
 },
 "nbformat": 4,
 "nbformat_minor": 2
}
