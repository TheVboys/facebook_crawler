{
 "cells": [
  {
   "cell_type": "code",
   "execution_count": 23,
   "metadata": {},
   "outputs": [],
   "source": [
    "from selenium.webdriver.common.by import By\n",
    "from selenium.webdriver import ChromeOptions, Chrome\n",
    "from selenium.webdriver.chrome.service import Service\n",
    "\n",
    "from selenium.common.exceptions import NoSuchElementException\n",
    "\n",
    "\n",
    "from selenium.webdriver.common.action_chains import ActionChains\n",
    "import re\n",
    "import pandas as pd\n",
    "from time import sleep\n",
    "import random\n",
    "import csv"
   ]
  },
  {
   "cell_type": "code",
   "execution_count": 24,
   "metadata": {},
   "outputs": [],
   "source": [
    "driver_location = '/usr/bin/chromedriver'\n",
    "binary_location = '/usr/bin/google-chrome'\n",
    "\n",
    "options = ChromeOptions()\n",
    "options.binary_location = binary_location\n",
    "\n",
    "service = Service(executable_path=driver_location)\n",
    "\n",
    "browser = Chrome(service=service, options=options)\n",
    "actions = ActionChains(browser)"
   ]
  },
  {
   "cell_type": "code",
   "execution_count": 25,
   "metadata": {},
   "outputs": [],
   "source": [
    "options = ChromeOptions()\n",
    "options.add_experimental_option(\"detach\", True)\n",
    "options.add_argument(\"--disable-extensions\")\n",
    "# options.add_argument(\"--headless\")\n",
    "options.add_argument(\"--incognito\")\n",
    "options.add_argument(\"--window-size=1920x1080\")"
   ]
  },
  {
   "cell_type": "code",
   "execution_count": 26,
   "metadata": {},
   "outputs": [],
   "source": [
    "browser.get(\"https://www.facebook.com/huet.hueuni\")"
   ]
  },
  {
   "cell_type": "code",
   "execution_count": 27,
   "metadata": {},
   "outputs": [],
   "source": [
    "try:\n",
    "    # Thử tìm và nhấp vào phần tử\n",
    "    browser.find_element(By.XPATH, \"/html/body/div[1]/div/div[1]/div/div[5]/div/div/div[1]/div/div[2]/div/div/div/div[1]/div\").click()\n",
    "except NoSuchElementException:\n",
    "    # Nếu phần tử không tồn tại, đợi 5 giây trước khi thử lại\n",
    "    sleep(5)\n",
    "    try:\n",
    "        browser.find_element(By.XPATH, \"/html/body/div[1]/div/div[1]/div/div[5]/div/div/div[1]/div/div[2]/div/div/div/div[1]/div\").click()\n",
    "    except NoSuchElementException:\n",
    "        # Nếu vẫn không tìm thấy, bỏ qua và tiếp tục\n",
    "        pass"
   ]
  },
  {
   "cell_type": "code",
   "execution_count": 28,
   "metadata": {},
   "outputs": [],
   "source": [
    "browser.execute_script(\"window.scrollTo(0, 1000);\")"
   ]
  },
  {
   "cell_type": "code",
   "execution_count": 29,
   "metadata": {},
   "outputs": [],
   "source": [
    "browser.execute_script(\"window.scrollTo(0, document.body.scrollHeight);\")"
   ]
  },
  {
   "cell_type": "code",
   "execution_count": 30,
   "metadata": {},
   "outputs": [
    {
     "name": "stdout",
     "output_type": "stream",
     "text": [
      "https://www.facebook.com/huet.hueuni/posts/pfbid0Tw2UrqU9T7gymaEqPoaLS7jhKq1FbYU6R9R8akEJThKmnTSmQaRVKqayZd8oZp87l?\n",
      "https://www.facebook.com/huet.hueuni/posts/pfbid0zA4qe4UTe59DkHHGpd9oHUotcorvfQ3Ys75wQrgqgSn6PMhGaTzbH22D4uY52zual?\n",
      "https://www.facebook.com/huet.hueuni/posts/pfbid0y4Q1TuTrQB4MXRq2LYU9xv6ePc1TuWfXcizHLjkugSM3KBaYCfiRpiNd8hTRxsCKl?\n",
      "https://www.facebook.com/huet.hueuni/posts/pfbid02q5tfpPG9KmoS1nGVvqEDZ4yVoe5ot535sPAsuEojtQEZxcBMgN2j2N9XAPzKantQl?\n",
      "https://www.facebook.com/huet.hueuni/posts/pfbid0tRdaP94VgSBRvN1DsvyQYMNEujbTusNUhwXBJ2NP4Zm5JUjMcKbFSwCdKaAkVyLKl?\n",
      "https://www.facebook.com/huet.hueuni/posts/pfbid031Apa7sd3fqQ7rtSqG5kTRjihCFy817wL7RCqs3HUu22S4L4AXdvvEpdvGW2iGEqwl?\n",
      "https://www.facebook.com/huet.hueuni/posts/pfbid0W8N9D9VMvpinf9myc7MoJ2Hj69AjGe2iquuWh11i8mRr68LfTzgSjTcA2KLosbxxl?\n",
      "https://www.facebook.com/huet.hueuni/posts/pfbid02bYEXvPhUdhSVckJ4VJvuS4upuwuNdRtxBgk1cvsSWvV4N6fBhrzemWqbWziEWusrl?\n",
      "https://www.facebook.com/huet.hueuni/posts/pfbid0ENc1HRd4G5hwZugNAfACagmMR8kiguZX8eSN8ZQ4QjErkBGqh33YHh5reLSTLHh1l?\n",
      "https://www.facebook.com/events/1069498110880909/?\n",
      "https://www.facebook.com/events/411413064718116/?\n",
      "https://www.facebook.com/huet.hueuni/posts/pfbid0s5SJJ2fry6YATH9inGnpzzLkbdimoSJnmTMRbHHHn4jzvXghBqB2VTEZejhu3ZTKl?\n",
      "https://www.facebook.com/huet.hueuni/posts/pfbid02PE7Hm9VC2MJH1Q8JhGfZ5bPcApDryBYunYxiGWLYyebqYh81hhWw1BbRL8gKC6ryl?\n",
      "https://www.facebook.com/huet.hueuni/posts/pfbid02Ym9dih718JSaeUP96FkZP81sQZsbBi7wW9AiPbEegiUmVcDbicnsHc7UerJVH39sl?\n",
      "https://www.facebook.com/huet.hueuni/posts/pfbid02G2pN4keLis6e6jJMFooAohrcVan742o2NjRpcvMVoFwowEgJVmZpUrjXC2SAVxyDl?\n"
     ]
    }
   ],
   "source": [
    "browser.execute_script(\"window.scrollTo(0, document.body.scrollHeight);\")\n",
    "post_link = []\n",
    "for i in range(1,50):\n",
    "    try:\n",
    "        browser.execute_script(\"window.scrollTo(0, 1000);\")\n",
    "        # Hover chuột vào post\n",
    "        post = browser.find_element(By.XPATH,\n",
    "                                    f\"/html/body/div[1]/div/div[1]/div/div[3]/div/div/div[1]/div[1]/div/div/div[4]/div[2]/div/div[2]/div/div[{i}]/div/div/div/div/div/div/div/div/div/div/div[2]/div/div/div[2]/div/div[2]/div/div[2]/span/span/span[2]/span\"\n",
    "                                    )\n",
    "        actions.move_to_element(post).perform()\n",
    "        browser.execute_script(\"window.scrollTo(0, 1000);\")\n",
    "\n",
    "        # Lấy link từ post và in ra \n",
    "        a_tag = post.find_element(By.XPATH, \".//a\")\n",
    "        link = a_tag.get_attribute(\"href\")\n",
    "        link = re.sub(r\"__cft__.*\", \"\", link)\n",
    "        print(link)\n",
    "        post_link.append(link)\n",
    "        sleep(2)\n",
    "    except:\n",
    "        browser.execute_script(\"window.scrollTo(0, 1000);\")\n",
    "    if len(post_link) >= 15: break "
   ]
  },
  {
   "cell_type": "code",
   "execution_count": 2,
   "metadata": {},
   "outputs": [
    {
     "name": "stdout",
     "output_type": "stream",
     "text": [
      "Post ID from url1: pfbid0VcLGNeaSU2EVABiBMcTswuZY6nFWbxiwJz2bmVJAMwkF4onVsZKuicMAwqx5EUwpl\n",
      "Post ID from url2: pfbid0QgXhaGSEvUUppimJJrchAokfYo7K2s21HBJnXphR19vg9SrLid9rGHssRjPTRbenl\n",
      "Post ID from url3: 2008246392704353\n",
      "Post ID from url4: 1588004321936628\n"
     ]
    }
   ],
   "source": [
    "import re\n",
    "\n",
    "def extract_post_id(url):\n",
    "    # Define the regular expression pattern to match the post ID\n",
    "    pattern = r\"(?:story_fbid=|posts/|id=|videos/)([^/&?]+)\"\n",
    "    # Search for the pattern in the URL\n",
    "    match = re.search(pattern, url)\n",
    "    # If a match is found, extract the post ID\n",
    "    if match:\n",
    "        post_id = match.group(1)\n",
    "        # Remove any trailing characters after the post ID\n",
    "        post_id = post_id.split(\":\")[0]\n",
    "        return post_id\n",
    "    else:\n",
    "        return None\n",
    "\n",
    "# Test the function with the given URLs\n",
    "url1 = \"https://www.facebook.com/permalink.php?story_fbid=pfbid0VcLGNeaSU2EVABiBMcTswuZY6nFWbxiwJz2bmVJAMwkF4onVsZKuicMAwqx5EUwpl&id=100085371855630&\"\n",
    "url2 = \"https://www.facebook.com/THPTBinhDien.Hue/posts/pfbid0QgXhaGSEvUUppimJJrchAokfYo7K2s21HBJnXphR19vg9SrLid9rGHssRjPTRbenl?\"\n",
    "url3 = \"https://www.facebook.com/THPTBinhDien.Hue/posts/2008246392704353:2008246392704353?\"\n",
    "url4 = \"https://www.facebook.com/doantruongthptALuoi/videos/1588004321936628/?\"\n",
    "\n",
    "post_id1 = extract_post_id(url1)\n",
    "post_id2 = extract_post_id(url2)\n",
    "post_id3 = extract_post_id(url3)\n",
    "post_id4 = extract_post_id(url4)\n",
    "\n",
    "print(\"Post ID from url1:\", post_id1)\n",
    "print(\"Post ID from url2:\", post_id2)\n",
    "print(\"Post ID from url3:\", post_id3)\n",
    "print(\"Post ID from url4:\", post_id4)\n"
   ]
  },
  {
   "cell_type": "code",
   "execution_count": 5,
   "metadata": {},
   "outputs": [
    {
     "data": {
      "text/html": [
       "<div>\n",
       "<style scoped>\n",
       "    .dataframe tbody tr th:only-of-type {\n",
       "        vertical-align: middle;\n",
       "    }\n",
       "\n",
       "    .dataframe tbody tr th {\n",
       "        vertical-align: top;\n",
       "    }\n",
       "\n",
       "    .dataframe thead th {\n",
       "        text-align: right;\n",
       "    }\n",
       "</style>\n",
       "<table border=\"1\" class=\"dataframe\">\n",
       "  <thead>\n",
       "    <tr style=\"text-align: right;\">\n",
       "      <th></th>\n",
       "      <th>post_links</th>\n",
       "      <th>fanpage</th>\n",
       "    </tr>\n",
       "  </thead>\n",
       "  <tbody>\n",
       "    <tr>\n",
       "      <th>0</th>\n",
       "      <td>https://www.facebook.com/doantruongthptALuoi/v...</td>\n",
       "      <td>Đoàn trường THPT A Lưới</td>\n",
       "    </tr>\n",
       "    <tr>\n",
       "      <th>1</th>\n",
       "      <td>https://www.facebook.com/doantruongthptALuoi/p...</td>\n",
       "      <td>Đoàn trường THPT A Lưới</td>\n",
       "    </tr>\n",
       "    <tr>\n",
       "      <th>2</th>\n",
       "      <td>https://www.facebook.com/doantruongthptALuoi/v...</td>\n",
       "      <td>Đoàn trường THPT A Lưới</td>\n",
       "    </tr>\n",
       "    <tr>\n",
       "      <th>3</th>\n",
       "      <td>https://www.facebook.com/doantruongthptALuoi/v...</td>\n",
       "      <td>Đoàn trường THPT A Lưới</td>\n",
       "    </tr>\n",
       "    <tr>\n",
       "      <th>4</th>\n",
       "      <td>https://www.facebook.com/doantruongthptALuoi/p...</td>\n",
       "      <td>Đoàn trường THPT A Lưới</td>\n",
       "    </tr>\n",
       "    <tr>\n",
       "      <th>...</th>\n",
       "      <td>...</td>\n",
       "      <td>...</td>\n",
       "    </tr>\n",
       "    <tr>\n",
       "      <th>1265</th>\n",
       "      <td>https://www.facebook.com/DoantruongQuocHoc/pos...</td>\n",
       "      <td>Đoàn trường THPT Chuyên Quốc Học Huế</td>\n",
       "    </tr>\n",
       "    <tr>\n",
       "      <th>1266</th>\n",
       "      <td>https://www.facebook.com/DoantruongQuocHoc/pos...</td>\n",
       "      <td>Đoàn trường THPT Chuyên Quốc Học Huế</td>\n",
       "    </tr>\n",
       "    <tr>\n",
       "      <th>1267</th>\n",
       "      <td>https://www.facebook.com/DoantruongQuocHoc/pos...</td>\n",
       "      <td>Đoàn trường THPT Chuyên Quốc Học Huế</td>\n",
       "    </tr>\n",
       "    <tr>\n",
       "      <th>1268</th>\n",
       "      <td>https://www.facebook.com/DoantruongQuocHoc/pos...</td>\n",
       "      <td>Đoàn trường THPT Chuyên Quốc Học Huế</td>\n",
       "    </tr>\n",
       "    <tr>\n",
       "      <th>1269</th>\n",
       "      <td>https://www.facebook.com/DoantruongQuocHoc/pos...</td>\n",
       "      <td>Đoàn trường THPT Chuyên Quốc Học Huế</td>\n",
       "    </tr>\n",
       "  </tbody>\n",
       "</table>\n",
       "<p>1270 rows × 2 columns</p>\n",
       "</div>"
      ],
      "text/plain": [
       "                                             post_links  \\\n",
       "0     https://www.facebook.com/doantruongthptALuoi/v...   \n",
       "1     https://www.facebook.com/doantruongthptALuoi/p...   \n",
       "2     https://www.facebook.com/doantruongthptALuoi/v...   \n",
       "3     https://www.facebook.com/doantruongthptALuoi/v...   \n",
       "4     https://www.facebook.com/doantruongthptALuoi/p...   \n",
       "...                                                 ...   \n",
       "1265  https://www.facebook.com/DoantruongQuocHoc/pos...   \n",
       "1266  https://www.facebook.com/DoantruongQuocHoc/pos...   \n",
       "1267  https://www.facebook.com/DoantruongQuocHoc/pos...   \n",
       "1268  https://www.facebook.com/DoantruongQuocHoc/pos...   \n",
       "1269  https://www.facebook.com/DoantruongQuocHoc/pos...   \n",
       "\n",
       "                                    fanpage  \n",
       "0                  Đoàn trường THPT A Lưới   \n",
       "1                  Đoàn trường THPT A Lưới   \n",
       "2                  Đoàn trường THPT A Lưới   \n",
       "3                  Đoàn trường THPT A Lưới   \n",
       "4                  Đoàn trường THPT A Lưới   \n",
       "...                                     ...  \n",
       "1265  Đoàn trường THPT Chuyên Quốc Học Huế   \n",
       "1266  Đoàn trường THPT Chuyên Quốc Học Huế   \n",
       "1267  Đoàn trường THPT Chuyên Quốc Học Huế   \n",
       "1268  Đoàn trường THPT Chuyên Quốc Học Huế   \n",
       "1269  Đoàn trường THPT Chuyên Quốc Học Huế   \n",
       "\n",
       "[1270 rows x 2 columns]"
      ]
     },
     "execution_count": 5,
     "metadata": {},
     "output_type": "execute_result"
    }
   ],
   "source": [
    "import pandas as pd\n",
    "\n",
    "df = pd.read_csv(\"../datasets/post_fanpage.csv\")\n",
    "df"
   ]
  },
  {
   "cell_type": "code",
   "execution_count": null,
   "metadata": {},
   "outputs": [],
   "source": []
  }
 ],
 "metadata": {
  "kernelspec": {
   "display_name": "fb_crawl",
   "language": "python",
   "name": "python3"
  },
  "language_info": {
   "codemirror_mode": {
    "name": "ipython",
    "version": 3
   },
   "file_extension": ".py",
   "mimetype": "text/x-python",
   "name": "python",
   "nbconvert_exporter": "python",
   "pygments_lexer": "ipython3",
   "version": "3.9.18"
  }
 },
 "nbformat": 4,
 "nbformat_minor": 2
}
