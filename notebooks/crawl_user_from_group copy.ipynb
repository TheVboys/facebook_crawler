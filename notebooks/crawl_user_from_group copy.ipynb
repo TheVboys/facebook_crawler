{
 "cells": [
  {
   "cell_type": "code",
   "execution_count": 1,
   "metadata": {},
   "outputs": [
    {
     "name": "stdout",
     "output_type": "stream",
     "text": [
      "c:\\Users\\LENOVO\\Desktop\\facebook_crawler\\src\n"
     ]
    }
   ],
   "source": [
    "%cd ../src"
   ]
  },
  {
   "cell_type": "code",
   "execution_count": 2,
   "metadata": {},
   "outputs": [],
   "source": [
    "from selenium import webdriver\n",
    "from selenium.webdriver.chrome.options import Options\n",
    "\n",
    "import re\n",
    "from time import sleep\n",
    "import getpass\n",
    "\n",
    "\n",
    "option = Options()\n",
    "option.add_argument(\"--disable-infobars\")\n",
    "option.add_argument(\"start-maximized\")\n",
    "# option.add_argument(\"--auto-open-devtools-for-tabs\")\n",
    "option.add_argument(\"--disable-extensions\")\n",
    "option.add_experimental_option(\n",
    "    \"prefs\", {\"profile.default_content_setting_values.notifications\": 1}\n",
    ")\n",
    "browser = webdriver.Chrome(options=option)\n",
    "\n",
    "from selenium.webdriver.common.action_chains import ActionChains\n",
    "actions = ActionChains(browser)\n",
    "\n",
    "base_url = \"https://www.facebook.com/\"\n",
    "browser.get(base_url)"
   ]
  },
  {
   "cell_type": "code",
   "execution_count": 3,
   "metadata": {},
   "outputs": [
    {
     "name": "stdout",
     "output_type": "stream",
     "text": [
      "17:13:05 utils.Login: Login Successfull\n"
     ]
    }
   ],
   "source": [
    "username = \"yelan482@gmail.com\"\n",
    "password  = 'Linhcute542002'\n",
    "\n",
    "from utils.login import login\n",
    "login(browser, username, password)"
   ]
  },
  {
   "cell_type": "code",
   "execution_count": 4,
   "metadata": {},
   "outputs": [
    {
     "ename": "AttributeError",
     "evalue": "'NoneType' object has no attribute 'text'",
     "output_type": "error",
     "traceback": [
      "\u001b[1;31m---------------------------------------------------------------------------\u001b[0m",
      "\u001b[1;31mAttributeError\u001b[0m                            Traceback (most recent call last)",
      "Cell \u001b[1;32mIn[4], line 15\u001b[0m\n\u001b[0;32m     12\u001b[0m group_crawler \u001b[38;5;241m=\u001b[39m group\u001b[38;5;241m.\u001b[39mGroup(browser\u001b[38;5;241m=\u001b[39mbrowser)\n\u001b[0;32m     14\u001b[0m \u001b[38;5;28;01mfor\u001b[39;00m url_group \u001b[38;5;129;01min\u001b[39;00m group_urls:\n\u001b[1;32m---> 15\u001b[0m     member_urls \u001b[38;5;241m=\u001b[39m \u001b[43mgroup_crawler\u001b[49m\u001b[38;5;241;43m.\u001b[39;49m\u001b[43mget_url_from_members\u001b[49m\u001b[43m(\u001b[49m\u001b[43murl_group\u001b[49m\u001b[43m,\u001b[49m\u001b[43m \u001b[49m\u001b[43mcommon\u001b[49m\u001b[38;5;241;43m=\u001b[39;49m\u001b[38;5;28;43;01mTrue\u001b[39;49;00m\u001b[43m,\u001b[49m\u001b[43m \u001b[49m\u001b[43mmax_user\u001b[49m\u001b[38;5;241;43m=\u001b[39;49m\u001b[38;5;241;43m20\u001b[39;49m\u001b[43m)\u001b[49m\n\u001b[0;32m     16\u001b[0m     \u001b[38;5;66;03m# Read the existing CSV file into a DataFrame\u001b[39;00m\n\u001b[0;32m     17\u001b[0m     file_name \u001b[38;5;241m=\u001b[39m \u001b[38;5;124m'\u001b[39m\u001b[38;5;124m../datasets/user_from_group_2.csv\u001b[39m\u001b[38;5;124m'\u001b[39m\n",
      "File \u001b[1;32mc:\\Users\\LENOVO\\Desktop\\facebook_crawler\\src\\group.py:51\u001b[0m, in \u001b[0;36mGroup.get_url_from_members\u001b[1;34m(self, url_group, max_user, time_limit, common)\u001b[0m\n\u001b[0;32m     49\u001b[0m \u001b[38;5;66;03m# print(xPath_group_name)\u001b[39;00m\n\u001b[0;32m     50\u001b[0m \u001b[38;5;28mself\u001b[39m\u001b[38;5;241m.\u001b[39mgroup_name \u001b[38;5;241m=\u001b[39m get_element\u001b[38;5;241m.\u001b[39mget_element(browser\u001b[38;5;241m=\u001b[39m\u001b[38;5;28mself\u001b[39m\u001b[38;5;241m.\u001b[39mbrowser, xpath\u001b[38;5;241m=\u001b[39mxPath_group_name)\u001b[38;5;241m.\u001b[39mtext\n\u001b[1;32m---> 51\u001b[0m group_member \u001b[38;5;241m=\u001b[39m \u001b[43mget_element\u001b[49m\u001b[38;5;241;43m.\u001b[39;49m\u001b[43mget_element\u001b[49m\u001b[43m(\u001b[49m\u001b[43mbrowser\u001b[49m\u001b[38;5;241;43m=\u001b[39;49m\u001b[38;5;28;43mself\u001b[39;49m\u001b[38;5;241;43m.\u001b[39;49m\u001b[43mbrowser\u001b[49m\u001b[43m,\u001b[49m\u001b[43m \u001b[49m\u001b[43mxpath\u001b[49m\u001b[38;5;241;43m=\u001b[39;49m\u001b[43mxPath_group_max_members\u001b[49m\u001b[43m)\u001b[49m\u001b[38;5;241;43m.\u001b[39;49m\u001b[43mtext\u001b[49m\n\u001b[0;32m     52\u001b[0m \u001b[38;5;28mprint\u001b[39m(group_member)\n\u001b[0;32m     53\u001b[0m \u001b[38;5;28mself\u001b[39m\u001b[38;5;241m.\u001b[39mgroup_member \u001b[38;5;241m=\u001b[39m \u001b[38;5;28mint\u001b[39m(re\u001b[38;5;241m.\u001b[39msub(\u001b[38;5;124m'\u001b[39m\u001b[38;5;124m[^0-9]\u001b[39m\u001b[38;5;124m'\u001b[39m,\u001b[38;5;124m'\u001b[39m\u001b[38;5;124m'\u001b[39m, group_member))\n",
      "\u001b[1;31mAttributeError\u001b[0m: 'NoneType' object has no attribute 'text'"
     ]
    }
   ],
   "source": [
    "\n",
    "\n",
    "\n",
    "\n",
    "import group\n",
    "import pandas as pd\n",
    "\n",
    "\n",
    "group_crawler = group.Group(browser=browser)\n",
    "\n",
    "for url_group in group_urls:\n",
    "    member_urls = group_crawler.get_url_from_members(url_group, common=True, max_user=20)\n",
    "    # Read the existing CSV file into a DataFrame\n",
    "    file_name = '../datasets/user_from_group_2.csv'\n",
    "    existing_df = pd.read_csv(file_name)\n",
    "\n",
    "    data = {\n",
    "        'group': [group_crawler.group_name] * len(member_urls),\n",
    "        'member_url': member_urls\n",
    "    }\n",
    "    new_data = pd.DataFrame(data)\n",
    "    updated_df = pd.concat([existing_df, new_data], ignore_index=True)\n",
    "\n",
    "    # Save the updated DataFrame back to the CSV file\n",
    "    updated_df.to_csv(file_name, index=False)\n",
    "\n",
    "print('finish')\n"
   ]
  },
  {
   "cell_type": "markdown",
   "metadata": {},
   "source": [
    "===6085/8980\n",
    "===6095/8980\n",
    "===6105/8980\n",
    "===6115/8980\n",
    "Output is truncated. View as a scrollable element or open in a text editor. Adjust cell output settings...\n",
    "---------------------------------------------------------------------------\n",
    "KeyboardInterrupt                         Traceback (most recent call last)\n",
    "Cell In[8], line 17\n",
    "     14 group_crawler = group.Group(browser=browser)\n",
    "     16 for url_group in group_urls:\n",
    "---> 17     member_urls = group_crawler.get_url_from_members(url_group)\n",
    "     18     # Read the existing CSV file into a DataFrame\n",
    "     19     file_name = '../datasets/user_from_group.csv'\n",
    "\n",
    "File g:\\KHDL_TTNT\\Nghiencuukhoahoc\\facebook_crawler\\src\\group.py:64, in Group.get_url_from_members(self, url_group, max_user, time_limit)\n",
    "     62 while len(members) < max_user:   \n",
    "     63     self.browser.execute_script(\"window.scrollTo(0, document.body.scrollHeight);\")\n",
    "---> 64     sleep(random.randint(3, 5)) \n",
    "     65     members = get_element.get_element_list(self.browser, xpath=xPath_group_members)\n",
    "     67     print(f'==={len(members)}/{max_user}')"
   ]
  },
  {
   "cell_type": "code",
   "execution_count": null,
   "metadata": {},
   "outputs": [],
   "source": []
  }
 ],
 "metadata": {
  "kernelspec": {
   "display_name": "Python 3.12.0 64-bit",
   "language": "python",
   "name": "python3"
  },
  "language_info": {
   "codemirror_mode": {
    "name": "ipython",
    "version": 3
   },
   "file_extension": ".py",
   "mimetype": "text/x-python",
   "name": "python",
   "nbconvert_exporter": "python",
   "pygments_lexer": "ipython3",
   "version": "3.9.18"
  },
  "vscode": {
   "interpreter": {
    "hash": "32e8181fce7c3e359c2790b917cd539742ff129bf629b8ad82002a107951ad4e"
   }
  }
 },
 "nbformat": 4,
 "nbformat_minor": 2
}
