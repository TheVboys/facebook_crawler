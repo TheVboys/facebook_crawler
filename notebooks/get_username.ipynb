{
 "cells": [
  {
   "cell_type": "code",
   "execution_count": 1,
   "metadata": {},
   "outputs": [
    {
     "name": "stderr",
     "output_type": "stream",
     "text": [
      "/home/admin1/anaconda3/envs/fb_crawl/lib/python3.9/site-packages/tqdm/auto.py:21: TqdmWarning: IProgress not found. Please update jupyter and ipywidgets. See https://ipywidgets.readthedocs.io/en/stable/user_install.html\n",
      "  from .autonotebook import tqdm as notebook_tqdm\n"
     ]
    }
   ],
   "source": [
    "from facebook_scraper import get_profile\n",
    "import pandas as pd"
   ]
  },
  {
   "cell_type": "code",
   "execution_count": 2,
   "metadata": {},
   "outputs": [
    {
     "data": {
      "text/html": [
       "<div>\n",
       "<style scoped>\n",
       "    .dataframe tbody tr th:only-of-type {\n",
       "        vertical-align: middle;\n",
       "    }\n",
       "\n",
       "    .dataframe tbody tr th {\n",
       "        vertical-align: top;\n",
       "    }\n",
       "\n",
       "    .dataframe thead th {\n",
       "        text-align: right;\n",
       "    }\n",
       "</style>\n",
       "<table border=\"1\" class=\"dataframe\">\n",
       "  <thead>\n",
       "    <tr style=\"text-align: right;\">\n",
       "      <th></th>\n",
       "      <th>group</th>\n",
       "      <th>member_url</th>\n",
       "    </tr>\n",
       "  </thead>\n",
       "  <tbody>\n",
       "    <tr>\n",
       "      <th>0</th>\n",
       "      <td>AN LUONG DONG HIGH SCHOOL</td>\n",
       "      <td>https://www.facebook.com/profile.php?id=100053...</td>\n",
       "    </tr>\n",
       "    <tr>\n",
       "      <th>1</th>\n",
       "      <td>AN LUONG DONG HIGH SCHOOL</td>\n",
       "      <td>https://www.facebook.com/profile.php?id=100052...</td>\n",
       "    </tr>\n",
       "    <tr>\n",
       "      <th>2</th>\n",
       "      <td>AN LUONG DONG HIGH SCHOOL</td>\n",
       "      <td>https://www.facebook.com/profile.php?id=100003...</td>\n",
       "    </tr>\n",
       "    <tr>\n",
       "      <th>3</th>\n",
       "      <td>AN LUONG DONG HIGH SCHOOL</td>\n",
       "      <td>https://www.facebook.com/profile.php?id=100002...</td>\n",
       "    </tr>\n",
       "    <tr>\n",
       "      <th>4</th>\n",
       "      <td>AN LUONG DONG HIGH SCHOOL</td>\n",
       "      <td>https://www.facebook.com/profile.php?id=100009...</td>\n",
       "    </tr>\n",
       "    <tr>\n",
       "      <th>...</th>\n",
       "      <td>...</td>\n",
       "      <td>...</td>\n",
       "    </tr>\n",
       "    <tr>\n",
       "      <th>42806</th>\n",
       "      <td>Đoàn trường THPT Bình Điền</td>\n",
       "      <td>https://facebook.com/06.th01</td>\n",
       "    </tr>\n",
       "    <tr>\n",
       "      <th>42807</th>\n",
       "      <td>Vinh Xuân confessions</td>\n",
       "      <td>https://facebook.com/0346675010hoi</td>\n",
       "    </tr>\n",
       "    <tr>\n",
       "      <th>42808</th>\n",
       "      <td>Đoàn trường THPT A Lưới</td>\n",
       "      <td>https://facebook.com/02th205</td>\n",
       "    </tr>\n",
       "    <tr>\n",
       "      <th>42809</th>\n",
       "      <td>THPT Phú Lộc Confessions</td>\n",
       "      <td>https://facebook.com/027430740h</td>\n",
       "    </tr>\n",
       "    <tr>\n",
       "      <th>42810</th>\n",
       "      <td>CLB Bóng rổ The Beast - THPT Bùi Thị Xuân</td>\n",
       "      <td>https://facebook.com/0112phuonguyenneeee</td>\n",
       "    </tr>\n",
       "  </tbody>\n",
       "</table>\n",
       "<p>42811 rows × 2 columns</p>\n",
       "</div>"
      ],
      "text/plain": [
       "                                            group  \\\n",
       "0                       AN LUONG DONG HIGH SCHOOL   \n",
       "1                       AN LUONG DONG HIGH SCHOOL   \n",
       "2                       AN LUONG DONG HIGH SCHOOL   \n",
       "3                       AN LUONG DONG HIGH SCHOOL   \n",
       "4                       AN LUONG DONG HIGH SCHOOL   \n",
       "...                                           ...   \n",
       "42806                 Đoàn trường THPT Bình Điền    \n",
       "42807                      Vinh Xuân confessions    \n",
       "42808                    Đoàn trường THPT A Lưới    \n",
       "42809                   THPT Phú Lộc Confessions    \n",
       "42810  CLB Bóng rổ The Beast - THPT Bùi Thị Xuân    \n",
       "\n",
       "                                              member_url  \n",
       "0      https://www.facebook.com/profile.php?id=100053...  \n",
       "1      https://www.facebook.com/profile.php?id=100052...  \n",
       "2      https://www.facebook.com/profile.php?id=100003...  \n",
       "3      https://www.facebook.com/profile.php?id=100002...  \n",
       "4      https://www.facebook.com/profile.php?id=100009...  \n",
       "...                                                  ...  \n",
       "42806                       https://facebook.com/06.th01  \n",
       "42807                 https://facebook.com/0346675010hoi  \n",
       "42808                       https://facebook.com/02th205  \n",
       "42809                    https://facebook.com/027430740h  \n",
       "42810           https://facebook.com/0112phuonguyenneeee  \n",
       "\n",
       "[42811 rows x 2 columns]"
      ]
     },
     "execution_count": 2,
     "metadata": {},
     "output_type": "execute_result"
    }
   ],
   "source": [
    "df = pd.read_csv('../datasets/Data_02.csv')\n",
    "df"
   ]
  },
  {
   "cell_type": "code",
   "execution_count": 3,
   "metadata": {},
   "outputs": [
    {
     "name": "stdout",
     "output_type": "stream",
     "text": [
      "100053397864324\n"
     ]
    }
   ],
   "source": [
    "def extract_facebook_id(url):\n",
    "\n",
    "    parts = url.split(\"id=\")\n",
    "    if len(parts) > 1:\n",
    "        return parts[1]\n",
    "    else:\n",
    "        return None\n",
    "\n",
    "url = \"https://www.facebook.com/profile.php?id=100053397864324\"\n",
    "facebook_id = extract_facebook_id(url)\n",
    "print(facebook_id) \n"
   ]
  },
  {
   "cell_type": "code",
   "execution_count": 4,
   "metadata": {},
   "outputs": [],
   "source": [
    "df['name'] =None"
   ]
  },
  {
   "cell_type": "code",
   "execution_count": 5,
   "metadata": {},
   "outputs": [],
   "source": [
    "def get_name(link):\n",
    "    try:\n",
    "        id = extract_facebook_id(link)\n",
    "        \n",
    "        json = get_profile(id) # Or get_profile(\"zuck\", cookies=\"cookies.txt\")\n",
    "        return json[\"Name\"]\n",
    "    except:\n",
    "        return None"
   ]
  },
  {
   "cell_type": "code",
   "execution_count": 8,
   "metadata": {},
   "outputs": [],
   "source": [
    "df = pd.read_csv('../datasets/username.csv')"
   ]
  },
  {
   "cell_type": "code",
   "execution_count": 10,
   "metadata": {},
   "outputs": [
    {
     "name": "stdout",
     "output_type": "stream",
     "text": [
      "batch 0\n",
      "batch 1\n",
      "batch 2\n",
      "batch 3\n",
      "batch 4\n",
      "batch 5\n",
      "batch 6\n",
      "batch 7\n",
      "batch 8\n",
      "batch 9\n"
     ]
    }
   ],
   "source": [
    "start = 1880\n",
    "end = 2380\n",
    "batch = 500\n",
    "for i in range(10):\n",
    "    df.loc[start:end, 'Name'] = df.loc[start:end, 'member_url'].apply(get_name)\n",
    "    start += batch\n",
    "    end += batch\n",
    "    df.to_csv('../datasets/username.csv')\n",
    "    print(f'batch {i}') "
   ]
  },
  {
   "cell_type": "code",
   "execution_count": null,
   "metadata": {},
   "outputs": [],
   "source": [
    "# 10 requests per 2 minutes"
   ]
  },
  {
   "cell_type": "code",
   "execution_count": 8,
   "metadata": {},
   "outputs": [
    {
     "data": {
      "text/html": [
       "<div>\n",
       "<style scoped>\n",
       "    .dataframe tbody tr th:only-of-type {\n",
       "        vertical-align: middle;\n",
       "    }\n",
       "\n",
       "    .dataframe tbody tr th {\n",
       "        vertical-align: top;\n",
       "    }\n",
       "\n",
       "    .dataframe thead th {\n",
       "        text-align: right;\n",
       "    }\n",
       "</style>\n",
       "<table border=\"1\" class=\"dataframe\">\n",
       "  <thead>\n",
       "    <tr style=\"text-align: right;\">\n",
       "      <th></th>\n",
       "      <th>group</th>\n",
       "      <th>member_url</th>\n",
       "      <th>name</th>\n",
       "    </tr>\n",
       "  </thead>\n",
       "  <tbody>\n",
       "    <tr>\n",
       "      <th>0</th>\n",
       "      <td>AN LUONG DONG HIGH SCHOOL</td>\n",
       "      <td>https://www.facebook.com/profile.php?id=100053...</td>\n",
       "      <td>Nguyễn Mần</td>\n",
       "    </tr>\n",
       "    <tr>\n",
       "      <th>1</th>\n",
       "      <td>AN LUONG DONG HIGH SCHOOL</td>\n",
       "      <td>https://www.facebook.com/profile.php?id=100052...</td>\n",
       "      <td>Tôn Đức</td>\n",
       "    </tr>\n",
       "    <tr>\n",
       "      <th>2</th>\n",
       "      <td>AN LUONG DONG HIGH SCHOOL</td>\n",
       "      <td>https://www.facebook.com/profile.php?id=100003...</td>\n",
       "      <td>Nguyễn Hồng Trang</td>\n",
       "    </tr>\n",
       "    <tr>\n",
       "      <th>3</th>\n",
       "      <td>AN LUONG DONG HIGH SCHOOL</td>\n",
       "      <td>https://www.facebook.com/profile.php?id=100002...</td>\n",
       "      <td>Trung Lê</td>\n",
       "    </tr>\n",
       "    <tr>\n",
       "      <th>4</th>\n",
       "      <td>AN LUONG DONG HIGH SCHOOL</td>\n",
       "      <td>https://www.facebook.com/profile.php?id=100009...</td>\n",
       "      <td>Kim Khánh</td>\n",
       "    </tr>\n",
       "    <tr>\n",
       "      <th>...</th>\n",
       "      <td>...</td>\n",
       "      <td>...</td>\n",
       "      <td>...</td>\n",
       "    </tr>\n",
       "    <tr>\n",
       "      <th>42806</th>\n",
       "      <td>Đoàn trường THPT Bình Điền</td>\n",
       "      <td>https://facebook.com/06.th01</td>\n",
       "      <td>None</td>\n",
       "    </tr>\n",
       "    <tr>\n",
       "      <th>42807</th>\n",
       "      <td>Vinh Xuân confessions</td>\n",
       "      <td>https://facebook.com/0346675010hoi</td>\n",
       "      <td>None</td>\n",
       "    </tr>\n",
       "    <tr>\n",
       "      <th>42808</th>\n",
       "      <td>Đoàn trường THPT A Lưới</td>\n",
       "      <td>https://facebook.com/02th205</td>\n",
       "      <td>None</td>\n",
       "    </tr>\n",
       "    <tr>\n",
       "      <th>42809</th>\n",
       "      <td>THPT Phú Lộc Confessions</td>\n",
       "      <td>https://facebook.com/027430740h</td>\n",
       "      <td>None</td>\n",
       "    </tr>\n",
       "    <tr>\n",
       "      <th>42810</th>\n",
       "      <td>CLB Bóng rổ The Beast - THPT Bùi Thị Xuân</td>\n",
       "      <td>https://facebook.com/0112phuonguyenneeee</td>\n",
       "      <td>None</td>\n",
       "    </tr>\n",
       "  </tbody>\n",
       "</table>\n",
       "<p>42811 rows × 3 columns</p>\n",
       "</div>"
      ],
      "text/plain": [
       "                                            group  \\\n",
       "0                       AN LUONG DONG HIGH SCHOOL   \n",
       "1                       AN LUONG DONG HIGH SCHOOL   \n",
       "2                       AN LUONG DONG HIGH SCHOOL   \n",
       "3                       AN LUONG DONG HIGH SCHOOL   \n",
       "4                       AN LUONG DONG HIGH SCHOOL   \n",
       "...                                           ...   \n",
       "42806                 Đoàn trường THPT Bình Điền    \n",
       "42807                      Vinh Xuân confessions    \n",
       "42808                    Đoàn trường THPT A Lưới    \n",
       "42809                   THPT Phú Lộc Confessions    \n",
       "42810  CLB Bóng rổ The Beast - THPT Bùi Thị Xuân    \n",
       "\n",
       "                                              member_url               name  \n",
       "0      https://www.facebook.com/profile.php?id=100053...         Nguyễn Mần  \n",
       "1      https://www.facebook.com/profile.php?id=100052...            Tôn Đức  \n",
       "2      https://www.facebook.com/profile.php?id=100003...  Nguyễn Hồng Trang  \n",
       "3      https://www.facebook.com/profile.php?id=100002...           Trung Lê  \n",
       "4      https://www.facebook.com/profile.php?id=100009...          Kim Khánh  \n",
       "...                                                  ...                ...  \n",
       "42806                       https://facebook.com/06.th01               None  \n",
       "42807                 https://facebook.com/0346675010hoi               None  \n",
       "42808                       https://facebook.com/02th205               None  \n",
       "42809                    https://facebook.com/027430740h               None  \n",
       "42810           https://facebook.com/0112phuonguyenneeee               None  \n",
       "\n",
       "[42811 rows x 3 columns]"
      ]
     },
     "execution_count": 8,
     "metadata": {},
     "output_type": "execute_result"
    }
   ],
   "source": [
    "df"
   ]
  },
  {
   "cell_type": "code",
   "execution_count": 9,
   "metadata": {},
   "outputs": [],
   "source": [
    "df.to_csv('../datasets/username.csv', index=False)"
   ]
  },
  {
   "cell_type": "code",
   "execution_count": 10,
   "metadata": {},
   "outputs": [
    {
     "data": {
      "text/plain": [
       "{'Friend_count': None,\n",
       " 'Follower_count': None,\n",
       " 'Following_count': None,\n",
       " 'Name': 'Mark Zuckerberg'}"
      ]
     },
     "execution_count": 10,
     "metadata": {},
     "output_type": "execute_result"
    }
   ],
   "source": [
    "json = get_profile('zuck') # Or get_profile(\"zuck\", cookies=\"cookies.txt\")\n",
    "json"
   ]
  },
  {
   "cell_type": "code",
   "execution_count": 12,
   "metadata": {},
   "outputs": [
    {
     "data": {
      "text/plain": [
       "'Mark Zuckerberg'"
      ]
     },
     "execution_count": 12,
     "metadata": {},
     "output_type": "execute_result"
    }
   ],
   "source": [
    "json['Name']"
   ]
  },
  {
   "cell_type": "code",
   "execution_count": null,
   "metadata": {},
   "outputs": [],
   "source": []
  }
 ],
 "metadata": {
  "kernelspec": {
   "display_name": "fb_crawl",
   "language": "python",
   "name": "python3"
  },
  "language_info": {
   "codemirror_mode": {
    "name": "ipython",
    "version": 3
   },
   "file_extension": ".py",
   "mimetype": "text/x-python",
   "name": "python",
   "nbconvert_exporter": "python",
   "pygments_lexer": "ipython3",
   "version": "3.9.18"
  }
 },
 "nbformat": 4,
 "nbformat_minor": 2
}
