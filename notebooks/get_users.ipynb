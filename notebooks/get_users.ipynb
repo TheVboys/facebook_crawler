{
 "cells": [
  {
   "cell_type": "code",
   "execution_count": 9,
   "metadata": {},
   "outputs": [
    {
     "name": "stdout",
     "output_type": "stream",
     "text": [
      "g:\\KHDL_TTNT\\Nghiencuukhoahoc\\facebook_crawler\\src\n"
     ]
    }
   ],
   "source": [
    "%cd ../src"
   ]
  },
  {
   "cell_type": "code",
   "execution_count": 10,
   "metadata": {},
   "outputs": [],
   "source": [
    "from selenium import webdriver\n",
    "from selenium.webdriver.chrome.options import Options\n",
    "\n",
    "import re\n",
    "from time import sleep\n",
    "import getpass\n",
    "\n",
    "\n",
    "option = Options()\n",
    "option.add_argument(\"--disable-infobars\")\n",
    "option.add_argument(\"start-maximized\")\n",
    "# option.add_argument(\"--auto-open-devtools-for-tabs\")\n",
    "option.add_argument(\"--disable-extensions\")\n",
    "option.add_experimental_option(\n",
    "    \"prefs\", {\"profile.default_content_setting_values.notifications\": 1}\n",
    ")\n",
    "browser = webdriver.Chrome(options=option)\n",
    "\n",
    "from selenium.webdriver.common.action_chains import ActionChains\n",
    "actions = ActionChains(browser)\n",
    "\n",
    "base_url = \"https://www.facebook.com/\"\n",
    "browser.get(base_url)"
   ]
  },
  {
   "cell_type": "code",
   "execution_count": 11,
   "metadata": {},
   "outputs": [
    {
     "name": "stdout",
     "output_type": "stream",
     "text": [
      "22:58:05 utils.Login: Login Successfull\n"
     ]
    }
   ],
   "source": [
    "username = \"yelan482@gmail.com\"\n",
    "password  = 'Linhcute542002'\n",
    "\n",
    "from utils.login import login\n",
    "login(browser, username, password)\n"
   ]
  },
  {
   "cell_type": "code",
   "execution_count": 13,
   "metadata": {},
   "outputs": [
    {
     "ename": "SyntaxError",
     "evalue": "(unicode error) 'unicodeescape' codec can't decode bytes in position 12-13: malformed \\N character escape (4201582808.py, line 41)",
     "output_type": "error",
     "traceback": [
      "\u001b[1;36m  Cell \u001b[1;32mIn[13], line 41\u001b[1;36m\u001b[0m\n\u001b[1;33m    input_csv = 'G:\\KHDL_TTNT\\Nghiencuukhoahoc\\facebook_crawler\\datasets\\reactors.csv'  # Đường dẫn đến file CSV đầu vào\u001b[0m\n\u001b[1;37m                                                                                        ^\u001b[0m\n\u001b[1;31mSyntaxError\u001b[0m\u001b[1;31m:\u001b[0m (unicode error) 'unicodeescape' codec can't decode bytes in position 12-13: malformed \\N character escape\n"
     ]
    }
   ],
   "source": [
    "# Giả sử module `user_profile` có thể tìm được và sử dụng đúng\n",
    "import user_profile\n",
    "\n",
    "# Hàm đọc các URL từ file CSV\n",
    "def read_urls_from_csv(file_path):\n",
    "    urls = []\n",
    "    with open(file_path, newline='', encoding='utf-8') as csvfile:\n",
    "        reader = csv.reader(csvfile)\n",
    "        for row in reader:\n",
    "            urls.append(row[0])  # Giả sử URL nằm ở cột đầu tiên\n",
    "    return urls\n",
    "\n",
    "# Hàm thu thập thông tin từ danh sách URL và lưu kết quả vào file CSV\n",
    "def crawl_and_save_to_csv(input_csv, output_csv):\n",
    "    urls = read_urls_from_csv(input_csv)\n",
    "    results = []\n",
    "    \n",
    "    user_inf_crawler = user_profile.UserInfo(browser)\n",
    "    \n",
    "    for url in urls:\n",
    "        user_info = user_inf_crawler.get_user_info(url)\n",
    "        # Giả sử user_info có dạng:\n",
    "        # (name, info, education, locate)\n",
    "        results.append(user_info)\n",
    "        sleep(2)  # Để tránh bị chặn bởi Facebook\n",
    "        \n",
    "    with open(output_csv, 'w', newline='', encoding='utf-8') as csvfile:\n",
    "        fieldnames = ['name', 'info', 'education', 'locate']\n",
    "        writer = csv.DictWriter(csvfile, fieldnames=fieldnames)\n",
    "        \n",
    "        writer.writeheader()\n",
    "        for result in results:\n",
    "            writer.writerow({\n",
    "                'name': result[0],\n",
    "                'info': result[1],\n",
    "                'education': result[2],\n",
    "                'locate': result[3]\n",
    "            })\n",
    "\n",
    "# Gọi hàm để thực hiện quá trình\n",
    "input_csv = 'G:\\KHDL_TTNT\\Nghiencuukhoahoc\\facebook_crawler\\datasets\\reactors.csv'  # Đường dẫn đến file CSV đầu vào\n",
    "output_csv = 'Data.csv'  # Đường dẫn đến file CSV đầu ra\n",
    "crawl_and_save_to_csv(input_csv, output_csv)\n"
   ]
  },
  {
   "cell_type": "code",
   "execution_count": 5,
   "metadata": {},
   "outputs": [
    {
     "name": "stdout",
     "output_type": "stream",
     "text": [
      "Success Login\n"
     ]
    },
    {
     "ename": "ModuleNotFoundError",
     "evalue": "No module named 'src'",
     "output_type": "error",
     "traceback": [
      "\u001b[1;31m---------------------------------------------------------------------------\u001b[0m",
      "\u001b[1;31mModuleNotFoundError\u001b[0m                       Traceback (most recent call last)",
      "Cell \u001b[1;32mIn[5], line 43\u001b[0m\n\u001b[0;32m     40\u001b[0m     exit()\n\u001b[0;32m     42\u001b[0m \u001b[38;5;66;03m# Giả sử module `user_profile` có thể tìm được và sử dụng đúng\u001b[39;00m\n\u001b[1;32m---> 43\u001b[0m \u001b[38;5;28;01mimport\u001b[39;00m \u001b[38;5;21;01muser_profile\u001b[39;00m\n\u001b[0;32m     45\u001b[0m \u001b[38;5;66;03m# Hàm đọc các URL từ file CSV\u001b[39;00m\n\u001b[0;32m     46\u001b[0m \u001b[38;5;28;01mdef\u001b[39;00m \u001b[38;5;21mread_urls_from_csv\u001b[39m(file_path):\n",
      "File \u001b[1;32mg:\\KHDL_TTNT\\Nghiencuukhoahoc\\facebook_crawler\\src\\user_profile.py:4\u001b[0m\n\u001b[0;32m      2\u001b[0m \u001b[38;5;28;01mfrom\u001b[39;00m \u001b[38;5;21;01mselenium\u001b[39;00m\u001b[38;5;21;01m.\u001b[39;00m\u001b[38;5;21;01mwebdriver\u001b[39;00m\u001b[38;5;21;01m.\u001b[39;00m\u001b[38;5;21;01msupport\u001b[39;00m \u001b[38;5;28;01mimport\u001b[39;00m expected_conditions \u001b[38;5;28;01mas\u001b[39;00m EC\n\u001b[0;32m      3\u001b[0m \u001b[38;5;28;01mfrom\u001b[39;00m \u001b[38;5;21;01mselenium\u001b[39;00m\u001b[38;5;21;01m.\u001b[39;00m\u001b[38;5;21;01mwebdriver\u001b[39;00m\u001b[38;5;21;01m.\u001b[39;00m\u001b[38;5;21;01mcommon\u001b[39;00m\u001b[38;5;21;01m.\u001b[39;00m\u001b[38;5;21;01mby\u001b[39;00m \u001b[38;5;28;01mimport\u001b[39;00m By\n\u001b[1;32m----> 4\u001b[0m \u001b[38;5;28;01mfrom\u001b[39;00m \u001b[38;5;21;01msrc\u001b[39;00m\u001b[38;5;21;01m.\u001b[39;00m\u001b[38;5;21;01mconst\u001b[39;00m \u001b[38;5;28;01mimport\u001b[39;00m \u001b[38;5;241m*\u001b[39m\n\u001b[0;32m      5\u001b[0m \u001b[38;5;28;01mfrom\u001b[39;00m \u001b[38;5;21;01msrc\u001b[39;00m\u001b[38;5;21;01m.\u001b[39;00m\u001b[38;5;21;01mutils\u001b[39;00m \u001b[38;5;28;01mimport\u001b[39;00m get_element\n\u001b[0;32m      8\u001b[0m \u001b[38;5;28;01mclass\u001b[39;00m \u001b[38;5;21;01mUserInfo\u001b[39;00m:\n",
      "\u001b[1;31mModuleNotFoundError\u001b[0m: No module named 'src'"
     ]
    }
   ],
   "source": [
    "import csv\n",
    "import re\n",
    "from time import sleep\n",
    "from selenium import webdriver\n",
    "from selenium.webdriver.chrome.options import Options\n",
    "from selenium.webdriver.common.by import By\n",
    "from selenium.webdriver.common.keys import Keys\n",
    "from selenium.webdriver.common.action_chains import ActionChains\n",
    "\n",
    "# Thiết lập Chrome options\n",
    "option = Options()\n",
    "option.add_argument(\"--disable-infobars\")\n",
    "option.add_argument(\"start-maximized\")\n",
    "option.add_argument(\"--disable-extensions\")\n",
    "option.add_experimental_option(\"prefs\", {\"profile.default_content_setting_values.notifications\": 1})\n",
    "browser = webdriver.Chrome(options=option)\n",
    "actions = ActionChains(browser)\n",
    "\n",
    "# Hàm đăng nhập Facebook\n",
    "def login(browser, username, password):\n",
    "    browser.get(\"https://www.facebook.com/\")\n",
    "    sleep(2)\n",
    "    email_elem = browser.find_element(By.ID, \"email\")\n",
    "    pass_elem = browser.find_element(By.ID, \"pass\")\n",
    "    email_elem.send_keys(username)\n",
    "    pass_elem.send_keys(password)\n",
    "    pass_elem.send_keys(Keys.RETURN)\n",
    "    sleep(5)  # Đợi trang tải hoàn toàn\n",
    "    if \"login\" in browser.current_url:\n",
    "        print(\"Failed to login\")\n",
    "        return False\n",
    "    print(\"Success Login\")\n",
    "    return True\n",
    "\n",
    "# Đăng nhập Facebook\n",
    "username = \"yelan482@gmail.com\"\n",
    "password = 'Linhcute542002'\n",
    "if not login(browser, username, password):\n",
    "    browser.quit()\n",
    "    exit()\n",
    "\n",
    "# Giả sử module `user_profile` có thể tìm được và sử dụng đúng\n",
    "import user_profile\n",
    "\n",
    "# Hàm đọc các URL từ file CSV\n",
    "def read_urls_from_csv(file_path):\n",
    "    urls = []\n",
    "    with open(file_path, newline='', encoding='utf-8') as csvfile:\n",
    "        reader = csv.reader(csvfile)\n",
    "        for row in reader:\n",
    "            urls.append(row[0])  # Giả sử URL nằm ở cột đầu tiên\n",
    "    return urls\n",
    "\n",
    "# Hàm thu thập thông tin từ danh sách URL và lưu kết quả vào file CSV\n",
    "def crawl_and_save_to_csv(input_csv, output_csv):\n",
    "    urls = read_urls_from_csv(input_csv)\n",
    "    results = []\n",
    "    \n",
    "    user_inf_crawler = user_profile.UserInfo(browser)\n",
    "    \n",
    "    for url in urls:\n",
    "        user_info = user_inf_crawler.get_user_info(url)\n",
    "        # Giả sử user_info có dạng:\n",
    "        # (name, info, education, locate)\n",
    "        results.append(user_info)\n",
    "        sleep(2)  # Để tránh bị chặn bởi Facebook\n",
    "        \n",
    "    with open(output_csv, 'w', newline='', encoding='utf-8') as csvfile:\n",
    "        fieldnames = ['name', 'info', 'education', 'locate']\n",
    "        writer = csv.DictWriter(csvfile, fieldnames=fieldnames)\n",
    "        \n",
    "        writer.writeheader()\n",
    "        for result in results:\n",
    "            writer.writerow({\n",
    "                'name': result[0],\n",
    "                'info': result[1],\n",
    "                'education': result[2],\n",
    "                'locate': result[3]\n",
    "            })\n",
    "\n",
    "# Gọi hàm để thực hiện quá trình\n",
    "input_csv = 'reactors.csv'  # Đường dẫn đến file CSV đầu vào\n",
    "output_csv = 'Data.csv'  # Đường dẫn đến file CSV đầu ra\n",
    "crawl_and_save_to_csv(input_csv, output_csv)\n",
    "\n",
    "# Đóng trình duyệt\n",
    "browser.quit()\n"
   ]
  }
 ],
 "metadata": {
  "kernelspec": {
   "display_name": "fb_crawl",
   "language": "python",
   "name": "python3"
  },
  "language_info": {
   "codemirror_mode": {
    "name": "ipython",
    "version": 3
   },
   "file_extension": ".py",
   "mimetype": "text/x-python",
   "name": "python",
   "nbconvert_exporter": "python",
   "pygments_lexer": "ipython3",
   "version": "3.9.18"
  }
 },
 "nbformat": 4,
 "nbformat_minor": 2
}
