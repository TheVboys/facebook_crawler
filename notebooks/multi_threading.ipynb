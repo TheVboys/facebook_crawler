{
 "cells": [
  {
   "cell_type": "code",
   "execution_count": 2,
   "metadata": {},
   "outputs": [
    {
     "name": "stdout",
     "output_type": "stream",
     "text": [
      "c:\\Users\\LENOVO\\Desktop\\facebook_crawler\\src\n"
     ]
    }
   ],
   "source": [
    "%cd ../src"
   ]
  },
  {
   "cell_type": "code",
   "execution_count": 13,
   "metadata": {},
   "outputs": [],
   "source": [
    "from selenium import webdriver\n",
    "from selenium.webdriver.chrome.options import Options\n",
    "\n",
    "import re\n",
    "from time import sleep\n",
    "import getpass\n",
    "\n",
    "\n",
    "option = Options()\n",
    "option.add_argument(\"--disable-infobars\")\n",
    "option.add_argument(\"start-maximized\")\n",
    "# option.add_argument(\"--auto-open-devtools-for-tabs\")\n",
    "option.add_argument(\"--disable-extensions\")\n",
    "option.add_experimental_option(\n",
    "    \"prefs\", {\"profile.default_content_setting_values.notifications\": 1}\n",
    ")\n",
    "browser = webdriver.Chrome(options=option)\n",
    "\n",
    "from selenium.webdriver.common.action_chains import ActionChains\n",
    "actions = ActionChains(browser)\n",
    "\n",
    "base_url = \"https://www.facebook.com/\"\n",
    "browser.get(base_url)"
   ]
  },
  {
   "cell_type": "code",
   "execution_count": 14,
   "metadata": {},
   "outputs": [
    {
     "name": "stdout",
     "output_type": "stream",
     "text": [
      "Success Login\n"
     ]
    }
   ],
   "source": [
    "username = \"yelan482@gmail.com\"\n",
    "password  = 'Linhcute542002'\n",
    "\n",
    "from utils.login import login\n",
    "login(browser, username, password)"
   ]
  },
  {
   "cell_type": "code",
   "execution_count": 15,
   "metadata": {},
   "outputs": [
    {
     "name": "stdout",
     "output_type": "stream",
     "text": [
      "Start Crawling User from Group: KHỐI 12 - TRƯỜNG THPT NGUYỄN HUỆ\n",
      "===37/50\n",
      "===77/50\n"
     ]
    },
    {
     "name": "stderr",
     "output_type": "stream",
     "text": [
      "100%|██████████| 50/50 [00:02<00:00, 19.76it/s]\n"
     ]
    }
   ],
   "source": [
    "import group\n",
    "import user_profile\n",
    "from tqdm import tqdm\n",
    "import time \n",
    "\n",
    "group_crawler = group.Group(browser=browser)\n",
    "url_group = 'https://www.facebook.com/groups/932212904285349'\n",
    "user_list = group_crawler.get_url_from_members(url_group, max_user=50)\n",
    "\n",
    "user_inf_crawler =  user_profile.UserInfo(browser)\n",
    "browser.quit()"
   ]
  },
  {
   "cell_type": "markdown",
   "metadata": {},
   "source": [
    "# 1. MultiThread for Crawl User_info from list of UserURLs"
   ]
  },
  {
   "cell_type": "code",
   "execution_count": 16,
   "metadata": {},
   "outputs": [
    {
     "name": "stdout",
     "output_type": "stream",
     "text": [
      "Success Login\n",
      "Success Login\n",
      "Success Login\n",
      "Success Login\n",
      "Success Login\n",
      "271.7883135000002 seconds\n"
     ]
    }
   ],
   "source": [
    "from selenium import webdriver\n",
    "from selenium.webdriver.chrome.options import Options\n",
    "import time\n",
    "import random\n",
    "import threading\n",
    "from utils.login import login\n",
    "import user_profile\n",
    "\n",
    "\n",
    "def initialize_driver():\n",
    "    option = Options()\n",
    "    option.add_argument(\"--disable-infobars\")\n",
    "    option.add_argument(\"start-maximized\")\n",
    "    option.add_argument(\"--disable-extensions\")\n",
    "    option.add_experimental_option(\n",
    "        \"prefs\", {\"profile.default_content_setting_values.notifications\": 1}\n",
    "    )\n",
    "    return webdriver.Chrome(options=option)\n",
    "\n",
    "def crawl_user_info(driver, user_list, start_index, chunk_size, result):\n",
    "    user_crawl =  user_profile.UserInfo(driver)\n",
    "    for i in range(start_index, start_index+chunk_size):\n",
    "        user_info = user_crawl.get_user_info(user_list[i])\n",
    "        result[i] = user_info\n",
    "\n",
    "\n",
    "username = \"yelan482@gmail.com\"\n",
    "password = 'Linhcute542002'\n",
    "\n",
    "\n",
    "base_url = 'https://www.facebook.com/'\n",
    "drivers = [initialize_driver() for _ in range(5)]\n",
    "\n",
    "for driver in drivers:\n",
    "    driver.get(base_url)\n",
    "    login(driver, username, password)\n",
    "\n",
    "result = [None] * len(user_list)\n",
    "\n",
    "chunk_size = len(user_list) // 5\n",
    "start = 0\n",
    "\n",
    "threads = []\n",
    "for driver in drivers:\n",
    "    thread = threading.Thread(target=crawl_user_info, args=(driver, user_list, start, chunk_size, result))\n",
    "    threads.append(thread)\n",
    "    start += chunk_size\n",
    "\n",
    "start_time = time.perf_counter()\n",
    "\n",
    "for thread in threads:\n",
    "    thread.start()\n",
    "\n",
    "for thread in threads:\n",
    "    thread.join()\n",
    "\n",
    "print(time.perf_counter() - start_time, 'seconds')\n",
    "\n",
    "for driver in drivers:\n",
    "    driver.quit()"
   ]
  },
  {
   "cell_type": "code",
   "execution_count": null,
   "metadata": {},
   "outputs": [],
   "source": []
  },
  {
   "cell_type": "markdown",
   "metadata": {},
   "source": [
    "# 2. MultiThread for Crawl multiple group members from list of groups"
   ]
  },
  {
   "cell_type": "code",
   "execution_count": 6,
   "metadata": {},
   "outputs": [
    {
     "name": "stdout",
     "output_type": "stream",
     "text": [
      "Success Login\n",
      "Success Login\n",
      "Success Login\n",
      "Success Login\n",
      "Success Login\n",
      "Start Crawling User from Group: CLB Sáng tạo trẻ - Trường THPT A Lưới\n",
      "===73/100\n",
      "===93/100\n",
      "===103/100\n"
     ]
    },
    {
     "name": "stderr",
     "output_type": "stream",
     "text": [
      "100%|██████████| 100/100 [00:01<00:00, 62.72it/s]\n"
     ]
    },
    {
     "name": "stdout",
     "output_type": "stream",
     "text": [
      "20.2755345999999 seconds\n"
     ]
    }
   ],
   "source": [
    "from selenium import webdriver\n",
    "from selenium.webdriver.chrome.options import Options\n",
    "import time\n",
    "import random\n",
    "import threading\n",
    "from utils.login import login\n",
    "import user_profile\n",
    "import group\n",
    "\n",
    "def initialize_driver():\n",
    "    option = Options()\n",
    "    option.add_argument(\"--disable-infobars\")\n",
    "    option.add_argument(\"start-maximized\")\n",
    "    option.add_argument(\"--disable-extensions\")\n",
    "    option.add_experimental_option(\n",
    "        \"prefs\", {\"profile.default_content_setting_values.notifications\": 1}\n",
    "    )\n",
    "    return webdriver.Chrome(options=option)\n",
    "\n",
    "def crawl_group_member(driver, group_list, start_index, chunk_size, result):\n",
    "    group_crawler = group.Group(browser=driver)\n",
    "    for i in range(start_index, start_index+chunk_size):\n",
    "        try:\n",
    "            user_list = group_crawler.get_url_from_members(group_list[i], max_user=100)\n",
    "        except:\n",
    "            user_list = None\n",
    "        result[i] = user_list\n",
    "\n",
    "\n",
    "username = \"lth2112002@gmail.com\"\n",
    "password = 'Baoanh123'\n",
    "\n",
    "\n",
    "group_links=[\n",
    "    'https://www.facebook.com/groups/932212904285349',\n",
    "    'https://www.facebook.com/groups/1986195691670003',\n",
    "    'https://www.facebook.com/groups/263503162332380',\n",
    "    'https://www.facebook.com/groups/flexdenhoithocuoicung',\n",
    "    'https://www.facebook.com/groups/nthehatoansongsong',\n",
    "]\n",
    "\n",
    "base_url = 'https://www.facebook.com/'\n",
    "drivers = [initialize_driver() for _ in range(5)]\n",
    "\n",
    "for driver in drivers:\n",
    "    driver.get(base_url)\n",
    "    login(driver, username, password)\n",
    "\n",
    "result = [None] * len(group_links)\n",
    "\n",
    "chunk_size = len(group_links) // 5   # Max = 5\n",
    "start = 0\n",
    "\n",
    "threads = []\n",
    "for driver in drivers:\n",
    "    thread = threading.Thread(target=crawl_group_member, args=(driver, group_links, start, chunk_size, result))\n",
    "    threads.append(thread)\n",
    "    start += chunk_size\n",
    "\n",
    "start_time = time.perf_counter()\n",
    "\n",
    "for thread in threads:\n",
    "    thread.start()\n",
    "\n",
    "for thread in threads:\n",
    "    thread.join()\n",
    "\n",
    "print(time.perf_counter() - start_time, 'seconds')\n",
    "\n",
    "for driver in drivers:\n",
    "    driver.quit()"
   ]
  },
  {
   "cell_type": "code",
   "execution_count": 7,
   "metadata": {},
   "outputs": [
    {
     "data": {
      "text/plain": [
       "[None,\n",
       " ['https://www.facebook.com/profile.php?id=100071684331377',\n",
       "  'https://www.facebook.com/profile.php?id=100015733534289',\n",
       "  'https://www.facebook.com/profile.php?id=100013886446373',\n",
       "  'https://www.facebook.com/profile.php?id=61555335785751',\n",
       "  'https://www.facebook.com/profile.php?id=100092380986251',\n",
       "  'https://www.facebook.com/profile.php?id=100082605951622',\n",
       "  'https://www.facebook.com/profile.php?id=100003046968242',\n",
       "  'https://www.facebook.com/profile.php?id=100003677062318',\n",
       "  'https://www.facebook.com/profile.php?id=100008105701061',\n",
       "  'https://www.facebook.com/profile.php?id=100066320130406',\n",
       "  'https://www.facebook.com/profile.php?id=100077485805711',\n",
       "  'https://www.facebook.com/profile.php?id=61551622838976',\n",
       "  'https://www.facebook.com/profile.php?id=100076634932874',\n",
       "  'https://www.facebook.com/profile.php?id=100084516473525',\n",
       "  'https://www.facebook.com/profile.php?id=100084144864498',\n",
       "  'https://www.facebook.com/profile.php?id=100031024537497',\n",
       "  'https://www.facebook.com/profile.php?id=100078942290699',\n",
       "  'https://www.facebook.com/profile.php?id=100064303384810',\n",
       "  'https://www.facebook.com/profile.php?id=100041742757906',\n",
       "  'https://www.facebook.com/profile.php?id=100013898679755',\n",
       "  'https://www.facebook.com/profile.php?id=100079166119460',\n",
       "  'https://www.facebook.com/profile.php?id=100041413941748',\n",
       "  'https://www.facebook.com/profile.php?id=100041964609060',\n",
       "  'https://www.facebook.com/profile.php?id=100082241573219',\n",
       "  'https://www.facebook.com/profile.php?id=100072091551225',\n",
       "  'https://www.facebook.com/profile.php?id=61550092585443',\n",
       "  'https://www.facebook.com/profile.php?id=100067568807100',\n",
       "  'https://www.facebook.com/profile.php?id=100018772193415',\n",
       "  'https://www.facebook.com/profile.php?id=100075153061545',\n",
       "  'https://www.facebook.com/profile.php?id=100052145255952',\n",
       "  'https://www.facebook.com/profile.php?id=100005785987454',\n",
       "  'https://www.facebook.com/profile.php?id=100022206983674',\n",
       "  'https://www.facebook.com/profile.php?id=100077268023752',\n",
       "  'https://www.facebook.com/profile.php?id=100003630016685',\n",
       "  'https://www.facebook.com/profile.php?id=100063458708572',\n",
       "  'https://www.facebook.com/profile.php?id=100074184432787',\n",
       "  'https://www.facebook.com/profile.php?id=100022854603896',\n",
       "  'https://www.facebook.com/profile.php?id=100059133362321',\n",
       "  'https://www.facebook.com/profile.php?id=100079878182785',\n",
       "  'https://www.facebook.com/profile.php?id=100018349844953',\n",
       "  'https://www.facebook.com/profile.php?id=100063819138168',\n",
       "  'https://www.facebook.com/profile.php?id=100082266231773',\n",
       "  'https://www.facebook.com/profile.php?id=100011923080395',\n",
       "  'https://www.facebook.com/profile.php?id=100030065795638',\n",
       "  'https://www.facebook.com/profile.php?id=100078488375064',\n",
       "  'https://www.facebook.com/profile.php?id=100021859982273',\n",
       "  'https://www.facebook.com/profile.php?id=100079151143616',\n",
       "  'https://www.facebook.com/profile.php?id=100064826346879',\n",
       "  'https://www.facebook.com/profile.php?id=100035608389428',\n",
       "  'https://www.facebook.com/profile.php?id=100058078809876',\n",
       "  'https://www.facebook.com/profile.php?id=100034474040099',\n",
       "  'https://www.facebook.com/profile.php?id=100002964530063',\n",
       "  'https://www.facebook.com/profile.php?id=100033383222589',\n",
       "  'https://www.facebook.com/profile.php?id=100048943531301',\n",
       "  'https://www.facebook.com/profile.php?id=100002065792762',\n",
       "  'https://www.facebook.com/profile.php?id=100079250965728',\n",
       "  'https://www.facebook.com/profile.php?id=100015799114800',\n",
       "  'https://www.facebook.com/profile.php?id=100066980522247',\n",
       "  'https://www.facebook.com/profile.php?id=100028410906397',\n",
       "  'https://www.facebook.com/profile.php?id=100014586783760',\n",
       "  'https://www.facebook.com/profile.php?id=100046610239979',\n",
       "  'https://www.facebook.com/profile.php?id=100034189187012',\n",
       "  'https://www.facebook.com/profile.php?id=100023732711508',\n",
       "  'https://www.facebook.com/profile.php?id=100038954452412',\n",
       "  'https://www.facebook.com/profile.php?id=100050561076211',\n",
       "  'https://www.facebook.com/profile.php?id=100052941761942',\n",
       "  'https://www.facebook.com/profile.php?id=100024001637782',\n",
       "  'https://www.facebook.com/profile.php?id=100034114444150',\n",
       "  'https://www.facebook.com/profile.php?id=100024605090209',\n",
       "  'https://www.facebook.com/profile.php?id=100022568497182',\n",
       "  'https://www.facebook.com/profile.php?id=100022909850943',\n",
       "  'https://www.facebook.com/profile.php?id=100009795346979',\n",
       "  'https://www.facebook.com/profile.php?id=100058559678695',\n",
       "  'https://www.facebook.com/profile.php?id=100017726970708',\n",
       "  'https://www.facebook.com/profile.php?id=100005175931014',\n",
       "  'https://www.facebook.com/profile.php?id=100006627943661',\n",
       "  'https://www.facebook.com/profile.php?id=100023726990407',\n",
       "  'https://www.facebook.com/profile.php?id=100016183203494',\n",
       "  'https://www.facebook.com/profile.php?id=100031876956896',\n",
       "  'https://www.facebook.com/profile.php?id=100072553736679',\n",
       "  'https://www.facebook.com/profile.php?id=100003735315251',\n",
       "  'https://www.facebook.com/profile.php?id=100055491051000',\n",
       "  'https://www.facebook.com/profile.php?id=100072945117350',\n",
       "  'https://www.facebook.com/profile.php?id=100055242684871',\n",
       "  'https://www.facebook.com/profile.php?id=100022013762475',\n",
       "  'https://www.facebook.com/profile.php?id=100053084580775',\n",
       "  'https://www.facebook.com/profile.php?id=100065031207267',\n",
       "  'https://www.facebook.com/profile.php?id=100041684003742',\n",
       "  'https://www.facebook.com/profile.php?id=100048523129489',\n",
       "  'https://www.facebook.com/profile.php?id=100011312379445',\n",
       "  'https://www.facebook.com/profile.php?id=100024935475499',\n",
       "  'https://www.facebook.com/profile.php?id=100054303011137',\n",
       "  'https://www.facebook.com/profile.php?id=100023586563274',\n",
       "  'https://www.facebook.com/profile.php?id=100038470278307',\n",
       "  'https://www.facebook.com/profile.php?id=100006486552645',\n",
       "  'https://www.facebook.com/profile.php?id=100044504314541',\n",
       "  'https://www.facebook.com/profile.php?id=100021681333293',\n",
       "  'https://www.facebook.com/profile.php?id=100022505147271',\n",
       "  'https://www.facebook.com/profile.php?id=100023511106142',\n",
       "  'https://www.facebook.com/profile.php?id=100072383073623'],\n",
       " None,\n",
       " None,\n",
       " None]"
      ]
     },
     "execution_count": 7,
     "metadata": {},
     "output_type": "execute_result"
    }
   ],
   "source": [
    "result"
   ]
  },
  {
   "cell_type": "code",
   "execution_count": null,
   "metadata": {},
   "outputs": [],
   "source": [
    "from selenium import webdriver\n",
    "from selenium.webdriver.chrome.options import Options\n",
    "import time\n",
    "import random\n",
    "import threading\n",
    "from utils.login import login\n",
    "import user_profile\n",
    "import group\n",
    "\n",
    "username = \"lth2112002@gmail.com\"\n",
    "password = 'Baoanh123'\n",
    "\n",
    "\n",
    "group_links=[\n",
    "'https://www.facebook.com/groups/932212904285349',\n",
    "'https://www.facebook.com/groups/1986195691670003',\n",
    "    'https://www.facebook.com/groups/263503162332380',\n",
    "    'https://www.facebook.com/groups/flexdenhoithocuoicung',\n",
    "    'https://www.facebook.com/groups/nthehatoansongsong',\n",
    "]\n",
    "\n",
    "base_url = 'https://www.facebook.com/'\n",
    "\n",
    "def initialize_driver():\n",
    "    option = Options()\n",
    "    option.add_argument(\"--disable-infobars\")\n",
    "    option.add_argument(\"start-maximized\")\n",
    "    option.add_argument(\"--disable-extensions\")\n",
    "    option.add_experimental_option(\n",
    "        \"prefs\", {\"profile.default_content_setting_values.notifications\": 1}\n",
    "    )\n",
    "    return webdriver.Chrome(options=option)\n",
    "\n",
    "def crawl_group_member(driver, group_list, start_index, chunk_size, result):\n",
    "    group_crawler = group.Group(browser=driver)\n",
    "    for i in range(start_index, start_index+chunk_size):\n",
    "        try:\n",
    "            user_list = group_crawler.get_url_from_members(group_list[i], max_user=100)\n",
    "        except:\n",
    "            user_list = None\n",
    "        result[i] = user_list\n",
    "\n",
    "def multi_thread_crawl(group_links,num_thread=5):\n",
    "\n",
    "    drivers = [initialize_driver() for _ in range(5)]\n",
    "\n",
    "    for driver in drivers:\n",
    "        driver.get(base_url)\n",
    "        login(driver, username, password)\n",
    "\n",
    "    result = [None] * len(group_links)\n",
    "    chunk_size = len(group_links) //  num_thread  # Max = 5\n",
    "    start = 0\n",
    "    threads = []\n",
    "    for driver in drivers:\n",
    "        thread = threading.Thread(target=crawl_group_member, args=(driver, group_links, start, chunk_size, result))\n",
    "        threads.append(thread)\n",
    "        start += chunk_size\n",
    "\n",
    "    start_time = time.perf_counter()\n",
    "    for thread in threads:\n",
    "        thread.start()\n",
    "    for thread in threads:\n",
    "        thread.join()\n",
    "    print(time.perf_counter() - start_time, 'seconds')\n",
    "\n",
    "    for driver in drivers:\n",
    "        driver.quit()\n",
    "\n",
    "    return result"
   ]
  },
  {
   "cell_type": "code",
   "execution_count": null,
   "metadata": {},
   "outputs": [],
   "source": []
  }
 ],
 "metadata": {
  "kernelspec": {
   "display_name": "Python 3.12.0 64-bit",
   "language": "python",
   "name": "python3"
  },
  "language_info": {
   "codemirror_mode": {
    "name": "ipython",
    "version": 3
   },
   "file_extension": ".py",
   "mimetype": "text/x-python",
   "name": "python",
   "nbconvert_exporter": "python",
   "pygments_lexer": "ipython3",
   "version": "3.12.0"
  },
  "vscode": {
   "interpreter": {
    "hash": "32e8181fce7c3e359c2790b917cd539742ff129bf629b8ad82002a107951ad4e"
   }
  }
 },
 "nbformat": 4,
 "nbformat_minor": 2
}
