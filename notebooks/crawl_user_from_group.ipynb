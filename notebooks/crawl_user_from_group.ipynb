{
 "cells": [
  {
   "cell_type": "code",
   "execution_count": 5,
   "metadata": {},
   "outputs": [
    {
     "name": "stdout",
     "output_type": "stream",
     "text": [
      "g:\\KHDL_TTNT\\Nghiencuukhoahoc\\facebook_crawler\\src\n"
     ]
    }
   ],
   "source": [
    "%cd ../src"
   ]
  },
  {
   "cell_type": "code",
   "execution_count": 6,
   "metadata": {},
   "outputs": [],
   "source": [
    "from selenium import webdriver\n",
    "from selenium.webdriver.chrome.options import Options\n",
    "\n",
    "import re\n",
    "from time import sleep\n",
    "import getpass\n",
    "\n",
    "\n",
    "option = Options()\n",
    "option.add_argument(\"--disable-infobars\")\n",
    "option.add_argument(\"start-maximized\")\n",
    "# option.add_argument(\"--auto-open-devtools-for-tabs\")\n",
    "option.add_argument(\"--disable-extensions\")\n",
    "option.add_experimental_option(\n",
    "    \"prefs\", {\"profile.default_content_setting_values.notifications\": 1}\n",
    ")\n",
    "browser = webdriver.Chrome(options=option)\n",
    "\n",
    "from selenium.webdriver.common.action_chains import ActionChains\n",
    "actions = ActionChains(browser)\n",
    "\n",
    "base_url = \"https://www.facebook.com/\"\n",
    "browser.get(base_url)"
   ]
  },
  {
   "cell_type": "code",
   "execution_count": 7,
   "metadata": {},
   "outputs": [
    {
     "name": "stdout",
     "output_type": "stream",
     "text": [
      "16:34:47 utils.Login: Login Successfull\n"
     ]
    }
   ],
   "source": [
    "username = \"yelan482@gmail.com\"\n",
    "password  = 'Linhcute542002'\n",
    "\n",
    "from utils.login import login\n",
    "login(browser, username, password)"
   ]
  },
  {
   "cell_type": "code",
   "execution_count": 8,
   "metadata": {},
   "outputs": [
    {
     "name": "stdout",
     "output_type": "stream",
     "text": [
      "Current members of AN LUONG DONG HIGH SCHOOL: 2517\n",
      "===55/2517\n",
      "===85/2517\n",
      "===105/2517\n",
      "===115/2517\n",
      "===125/2517\n",
      "===145/2517\n",
      "===165/2517\n",
      "===175/2517\n",
      "===185/2517\n",
      "===195/2517\n",
      "===205/2517\n",
      "===215/2517\n",
      "===225/2517\n",
      "===235/2517\n",
      "===245/2517\n",
      "===255/2517\n",
      "===265/2517\n",
      "===275/2517\n",
      "===285/2517\n",
      "===295/2517\n",
      "===305/2517\n",
      "===315/2517\n",
      "===325/2517\n",
      "===335/2517\n",
      "===345/2517\n",
      "===355/2517\n",
      "===365/2517\n",
      "===375/2517\n",
      "===385/2517\n",
      "===395/2517\n",
      "===405/2517\n",
      "===415/2517\n",
      "===425/2517\n",
      "===435/2517\n",
      "===445/2517\n",
      "===455/2517\n",
      "===465/2517\n",
      "===475/2517\n",
      "===485/2517\n",
      "===495/2517\n",
      "===505/2517\n",
      "===515/2517\n",
      "===525/2517\n",
      "===535/2517\n",
      "===545/2517\n",
      "===555/2517\n",
      "===555/2517\n",
      "===555/2517\n",
      "===555/2517\n",
      "Error: Cannot get more. Only get 555 users in this session.\n"
     ]
    },
    {
     "name": "stderr",
     "output_type": "stream",
     "text": [
      "100%|██████████| 555/555 [00:08<00:00, 68.66it/s]\n"
     ]
    },
    {
     "name": "stdout",
     "output_type": "stream",
     "text": [
      "Current members of Đoàn Trường THPT Cao Thắng: 8982\n",
      "===15/8982\n",
      "===15/8982\n",
      "===15/8982\n",
      "===15/8982\n",
      "Error: Cannot get more. Only get 15 users in this session.\n"
     ]
    },
    {
     "name": "stderr",
     "output_type": "stream",
     "text": [
      "100%|██████████| 15/15 [00:00<00:00, 98.58it/s]\n"
     ]
    },
    {
     "name": "stdout",
     "output_type": "stream",
     "text": [
      "Current members of Đoàn TNCS HCM Trường Phan Đăng Lưu - Huế: 2262\n",
      "===13/2262\n",
      "===13/2262\n",
      "===13/2262\n",
      "===13/2262\n",
      "Error: Cannot get more. Only get 13 users in this session.\n"
     ]
    },
    {
     "name": "stderr",
     "output_type": "stream",
     "text": [
      "100%|██████████| 13/13 [00:00<00:00, 96.30it/s]\n"
     ]
    },
    {
     "name": "stdout",
     "output_type": "stream",
     "text": [
      "Current members of THPT HƯƠNG VINH_HUẾ: 2619\n",
      "===11/2619\n",
      "===11/2619\n",
      "===11/2619\n",
      "===11/2619\n",
      "Error: Cannot get more. Only get 11 users in this session.\n"
     ]
    },
    {
     "name": "stderr",
     "output_type": "stream",
     "text": [
      "100%|██████████| 11/11 [00:00<00:00, 95.18it/s]\n"
     ]
    },
    {
     "name": "stdout",
     "output_type": "stream",
     "text": [
      "Current members of CHS THPT ĐẶNG HUY TRỨ: 2494\n",
      "===13/2494\n",
      "===13/2494\n",
      "===13/2494\n",
      "===13/2494\n",
      "Error: Cannot get more. Only get 13 users in this session.\n"
     ]
    },
    {
     "name": "stderr",
     "output_type": "stream",
     "text": [
      "100%|██████████| 13/13 [00:00<00:00, 89.31it/s]\n"
     ]
    },
    {
     "name": "stdout",
     "output_type": "stream",
     "text": [
      "Current members of TRƯỜNG THPT PHONG ĐIỀN: 6084\n",
      "===14/6084\n",
      "===14/6084\n",
      "===14/6084\n",
      "===14/6084\n",
      "Error: Cannot get more. Only get 14 users in this session.\n"
     ]
    },
    {
     "name": "stderr",
     "output_type": "stream",
     "text": [
      "100%|██████████| 14/14 [00:00<00:00, 76.92it/s]\n"
     ]
    },
    {
     "name": "stdout",
     "output_type": "stream",
     "text": [
      "Current members of Đoàn trường THPT Tam Giang: 1443\n",
      "===13/1443\n",
      "===13/1443\n",
      "===13/1443\n",
      "===13/1443\n",
      "Error: Cannot get more. Only get 13 users in this session.\n"
     ]
    },
    {
     "name": "stderr",
     "output_type": "stream",
     "text": [
      "100%|██████████| 13/13 [00:00<00:00, 103.18it/s]"
     ]
    },
    {
     "name": "stdout",
     "output_type": "stream",
     "text": [
      "finish\n"
     ]
    },
    {
     "name": "stderr",
     "output_type": "stream",
     "text": [
      "\n"
     ]
    }
   ],
   "source": [
    "group_urls = [\n",
    "# 'https://www.facebook.com/groups/AnLuongDongInMyMind',\n",
    "'https://www.facebook.com/groups/237855972954217',\n",
    "'https://www.facebook.com/groups/480807855414812',\n",
    "'https://www.facebook.com/groups/388585634558648',\n",
    "'https://www.facebook.com/groups/430004190444149',\n",
    "'https://www.facebook.com/groups/420889524666878',\n",
    "'https://www.facebook.com/groups/265337363664956',\n",
    "'https://www.facebook.com/groups/514513165802884']\n",
    "\n",
    "import group\n",
    "import pandas as pd\n",
    "\n",
    "group_crawler = group.Group(browser=browser)\n",
    "\n",
    "for url_group in group_urls:\n",
    "    member_urls = group_crawler.get_url_from_members(url_group)\n",
    "    # Read the existing CSV file into a DataFrame\n",
    "    file_name = '../datasets/user_from_group.csv'\n",
    "    existing_df = pd.read_csv(file_name)\n",
    "    data = {\n",
    "        'group': [group_crawler.group_name] * len(member_urls),\n",
    "        'member_url': member_urls\n",
    "    }\n",
    "    new_data = pd.DataFrame(data)\n",
    "    updated_df = pd.concat([existing_df, new_data], ignore_index=True)\n",
    "\n",
    "    # Save the updated DataFrame back to the CSV file\n",
    "    updated_df.to_csv(file_name, index=False)\n",
    "\n",
    "print('finish')"
   ]
  },
  {
   "cell_type": "code",
   "execution_count": null,
   "metadata": {},
   "outputs": [],
   "source": []
  }
 ],
 "metadata": {
  "kernelspec": {
   "display_name": "Python 3.12.0 64-bit",
   "language": "python",
   "name": "python3"
  },
  "language_info": {
   "codemirror_mode": {
    "name": "ipython",
    "version": 3
   },
   "file_extension": ".py",
   "mimetype": "text/x-python",
   "name": "python",
   "nbconvert_exporter": "python",
   "pygments_lexer": "ipython3",
   "version": "3.9.18"
  },
  "vscode": {
   "interpreter": {
    "hash": "32e8181fce7c3e359c2790b917cd539742ff129bf629b8ad82002a107951ad4e"
   }
  }
 },
 "nbformat": 4,
 "nbformat_minor": 2
}
