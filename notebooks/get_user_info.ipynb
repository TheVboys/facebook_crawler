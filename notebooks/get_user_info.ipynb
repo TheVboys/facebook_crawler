{
 "cells": [
  {
   "cell_type": "code",
   "execution_count": 1,
   "metadata": {},
   "outputs": [
    {
     "name": "stdout",
     "output_type": "stream",
     "text": [
      "c:\\Users\\LENOVO\\Desktop\\facebook_crawler\\src\n"
     ]
    }
   ],
   "source": [
    "%cd ../src"
   ]
  },
  {
   "cell_type": "code",
   "execution_count": 2,
   "metadata": {},
   "outputs": [],
   "source": [
    "from selenium import webdriver\n",
    "from selenium.webdriver.chrome.options import Options\n",
    "\n",
    "import re\n",
    "from time import sleep\n",
    "import getpass\n",
    "\n",
    "\n",
    "option = Options()\n",
    "option.add_argument(\"--disable-infobars\")\n",
    "option.add_argument(\"start-maximized\")\n",
    "# option.add_argument(\"--auto-open-devtools-for-tabs\")\n",
    "option.add_argument(\"--disable-extensions\")\n",
    "option.add_experimental_option(\n",
    "    \"prefs\", {\"profile.default_content_setting_values.notifications\": 1}\n",
    ")\n",
    "browser = webdriver.Chrome(options=option)\n",
    "\n",
    "from selenium.webdriver.common.action_chains import ActionChains\n",
    "actions = ActionChains(browser)\n",
    "\n",
    "base_url = \"https://www.facebook.com/\"\n",
    "browser.get(base_url)"
   ]
  },
  {
   "cell_type": "code",
   "execution_count": 3,
   "metadata": {},
   "outputs": [
    {
     "name": "stdout",
     "output_type": "stream",
     "text": [
      "Success Login\n"
     ]
    },
    {
     "data": {
      "text/plain": [
       "('Nguyễn Phước',\n",
       " {'Gender': 'Male'},\n",
       " {'College': 'Studied at HUET- Khoa Kỹ thuật và Công nghệ - Đại học Huế',\n",
       "  'High school': 'Went to THPT Phan Đăng Lưu - Huế'},\n",
       " {'Current city': 'Hue, Vietnam', 'Hometown': 'Hue, Vietnam'})"
      ]
     },
     "execution_count": 3,
     "metadata": {},
     "output_type": "execute_result"
    }
   ],
   "source": [
    "username = \"yelan482@gmail.com\"\n",
    "password  = 'Linhcute542002'\n",
    "\n",
    "from utils.login import login\n",
    "login(browser, username, password)\n",
    "\n",
    "import user_profile\n",
    "user_inf_crawler =  user_profile.UserInfo(browser)\n",
    "url = \"https://www.facebook.com/ngphuoctthue\"\n",
    "user_inf_crawler.get_user_info(url)"
   ]
  },
  {
   "cell_type": "code",
   "execution_count": 4,
   "metadata": {},
   "outputs": [
    {
     "data": {
      "text/plain": [
       "('Nguyễn Phước',\n",
       " {'Gender': 'Male'},\n",
       " {'College': 'Studied at HUET- Khoa Kỹ thuật và Công nghệ - Đại học Huế',\n",
       "  'High school': 'Went to THPT Phan Đăng Lưu - Huế'},\n",
       " {'Current city': 'Hue, Vietnam', 'Hometown': 'Hue, Vietnam'})"
      ]
     },
     "execution_count": 4,
     "metadata": {},
     "output_type": "execute_result"
    }
   ],
   "source": [
    "url = \"https://www.facebook.com/ngphuoctthue\"\n",
    "user_inf_crawler.get_user_info(url)"
   ]
  },
  {
   "cell_type": "code",
   "execution_count": 5,
   "metadata": {},
   "outputs": [
    {
     "data": {
      "text/plain": [
       "('Ngocc Hann  (Nờ Hân)', None, {}, {'Current city': 'Seoul, Korea'})"
      ]
     },
     "execution_count": 5,
     "metadata": {},
     "output_type": "execute_result"
    }
   ],
   "source": [
    "url = 'https://www.facebook.com/profile.php?id=100093944898219'\n",
    "\n",
    "user_inf_crawler.get_user_info(url)"
   ]
  },
  {
   "cell_type": "code",
   "execution_count": 6,
   "metadata": {},
   "outputs": [
    {
     "data": {
      "text/plain": [
       "('Minh Vũ',\n",
       " {'Gender': 'Male', 'Birth date': 'February 20', 'Birth year': '2002'},\n",
       " {'High school': 'Went to Trường Quốc Học - Huế'},\n",
       " {'Current city': 'Hue, Vietnam', 'Hometown': 'Hue, Vietnam'})"
      ]
     },
     "execution_count": 6,
     "metadata": {},
     "output_type": "execute_result"
    }
   ],
   "source": [
    "url = 'https://www.facebook.com/Sperm.Detective'\n",
    "user_inf_crawler.get_user_info(url)"
   ]
  },
  {
   "cell_type": "code",
   "execution_count": 7,
   "metadata": {},
   "outputs": [
    {
     "data": {
      "text/plain": [
       "'Thanh Hùng  '"
      ]
     },
     "execution_count": 7,
     "metadata": {},
     "output_type": "execute_result"
    }
   ],
   "source": [
    "\n",
    "url = 'https://www.facebook.com/Tuilathanhhungday'\n",
    "info = user_inf_crawler.get_user_info(url)\n",
    "info[0].split('(')[0]"
   ]
  },
  {
   "cell_type": "code",
   "execution_count": 8,
   "metadata": {},
   "outputs": [
    {
     "data": {
      "text/plain": [
       "('Thanh Hùng  (Cu Lỗi)',\n",
       " {'Gender': 'Male', 'Birth date': 'November 2', 'Birth year': '2002'},\n",
       " {'High school': 'Went to Nguyễn Huệ trường tôi - TP.Huế'},\n",
       " {'Current city': 'Hue, Vietnam', 'Hometown': 'Hue, Vietnam'})"
      ]
     },
     "execution_count": 8,
     "metadata": {},
     "output_type": "execute_result"
    }
   ],
   "source": [
    "info"
   ]
  },
  {
   "cell_type": "code",
   "execution_count": null,
   "metadata": {},
   "outputs": [],
   "source": []
  }
 ],
 "metadata": {
  "kernelspec": {
   "display_name": "Python 3.12.0 64-bit",
   "language": "python",
   "name": "python3"
  },
  "language_info": {
   "codemirror_mode": {
    "name": "ipython",
    "version": 3
   },
   "file_extension": ".py",
   "mimetype": "text/x-python",
   "name": "python",
   "nbconvert_exporter": "python",
   "pygments_lexer": "ipython3",
   "version": "3.12.0"
  },
  "vscode": {
   "interpreter": {
    "hash": "32e8181fce7c3e359c2790b917cd539742ff129bf629b8ad82002a107951ad4e"
   }
  }
 },
 "nbformat": 4,
 "nbformat_minor": 2
}
