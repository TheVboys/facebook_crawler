{
 "cells": [
  {
   "cell_type": "code",
   "execution_count": 1,
   "metadata": {},
   "outputs": [
    {
     "name": "stdout",
     "output_type": "stream",
     "text": [
      "c:\\Users\\LENOVO\\Desktop\\facebook_crawler\\src\n"
     ]
    }
   ],
   "source": [
    "%cd ../src"
   ]
  },
  {
   "cell_type": "code",
   "execution_count": 10,
   "metadata": {},
   "outputs": [
    {
     "name": "stdout",
     "output_type": "stream",
     "text": [
      "23:50:05 utils.Login: Login Successfull\n"
     ]
    }
   ],
   "source": [
    "from selenium import webdriver\n",
    "from selenium.webdriver.chrome.options import Options\n",
    "\n",
    "option = Options()\n",
    "option.add_argument(\"--disable-infobars\")\n",
    "option.add_argument(\"start-maximized\")\n",
    "# option.add_argument(\"--auto-open-devtools-for-tabs\")\n",
    "option.add_argument(\"--disable-extensions\")\n",
    "option.add_experimental_option(\n",
    "    \"prefs\", {\"profile.default_content_setting_values.notifications\": 1}\n",
    ")\n",
    "browser = webdriver.Chrome(options=option)\n",
    "\n",
    "from selenium.webdriver.common.action_chains import ActionChains\n",
    "actions = ActionChains(browser)\n",
    "\n",
    "base_url = \"https://www.facebook.com/\"\n",
    "browser.get(base_url)\n",
    "\n",
    "username = \"your_username\"\n",
    "password  = 'your_password'\n",
    "\n",
    "from utils.login import login\n",
    "login(browser, username, password)\n",
    "\n"
   ]
  },
  {
   "cell_type": "code",
   "execution_count": 3,
   "metadata": {},
   "outputs": [],
   "source": [
    "import pandas as pd\n",
    "\n",
    "# Define column names\n",
    "columns = ['url','name', 'Gender', 'Birthdate', 'Birthyear', 'Highschool', 'College', 'Currentcity', 'Hometown', 'group']\n",
    "stopwords = ['Studied at ', 'Went to ']\n",
    "# Create an empty DataFrame\n",
    "df = pd.DataFrame(columns=columns)\n",
    "df.to_csv('../datasets/user_info_from_group.csv', index=False)"
   ]
  },
  {
   "cell_type": "code",
   "execution_count": 14,
   "metadata": {},
   "outputs": [],
   "source": [
    "import user_profile\n",
    "user_inf_crawler =  user_profile.UserInfo(browser)\n"
   ]
  },
  {
   "cell_type": "code",
   "execution_count": 7,
   "metadata": {},
   "outputs": [
    {
     "data": {
      "text/html": [
       "<div>\n",
       "<style scoped>\n",
       "    .dataframe tbody tr th:only-of-type {\n",
       "        vertical-align: middle;\n",
       "    }\n",
       "\n",
       "    .dataframe tbody tr th {\n",
       "        vertical-align: top;\n",
       "    }\n",
       "\n",
       "    .dataframe thead th {\n",
       "        text-align: right;\n",
       "    }\n",
       "</style>\n",
       "<table border=\"1\" class=\"dataframe\">\n",
       "  <thead>\n",
       "    <tr style=\"text-align: right;\">\n",
       "      <th></th>\n",
       "      <th>url</th>\n",
       "      <th>name</th>\n",
       "      <th>Gender</th>\n",
       "      <th>Birth date</th>\n",
       "      <th>Birthyear</th>\n",
       "      <th>Highschool</th>\n",
       "      <th>College</th>\n",
       "      <th>Currentcity</th>\n",
       "      <th>Hometown</th>\n",
       "      <th>group</th>\n",
       "    </tr>\n",
       "  </thead>\n",
       "  <tbody>\n",
       "  </tbody>\n",
       "</table>\n",
       "</div>"
      ],
      "text/plain": [
       "Empty DataFrame\n",
       "Columns: [url, name, Gender, Birth date, Birthyear, Highschool, College, Currentcity, Hometown, group]\n",
       "Index: []"
      ]
     },
     "execution_count": 7,
     "metadata": {},
     "output_type": "execute_result"
    }
   ],
   "source": [
    "existing_df = pd.read_csv('../datasets/user_info_from_group.csv')\n",
    "existing_df"
   ]
  },
  {
   "cell_type": "code",
   "execution_count": 15,
   "metadata": {},
   "outputs": [
    {
     "name": "stderr",
     "output_type": "stream",
     "text": [
      "Processing rows:   0%|          | 0/20 [00:00<?, ?it/s]"
     ]
    },
    {
     "name": "stderr",
     "output_type": "stream",
     "text": [
      "Processing rows:  10%|█         | 2/20 [00:31<04:19, 14.40s/it]"
     ]
    },
    {
     "name": "stdout",
     "output_type": "stream",
     "text": [
      "{'url': 'https://www.facebook.com/profile.php?id=100052716540727', 'name': 'Tôn Đức', 'group': 'AN LUONG DONG HIGH SCHOOL', 'Birthdate': 'January 29', 'Birthyear': '2003', 'College': 'Studied Kiểm toán - at Trường Đại học Kinh tế Huế - HCE', 'Currentcity': 'Hue, Vietnam', 'Hometown': 'Hue, Vietnam'}\n"
     ]
    },
    {
     "name": "stderr",
     "output_type": "stream",
     "text": [
      "Processing rows:  15%|█▌        | 3/20 [00:41<03:34, 12.59s/it]"
     ]
    },
    {
     "name": "stdout",
     "output_type": "stream",
     "text": [
      "{'url': 'https://www.facebook.com/profile.php?id=100003333302732', 'name': 'Nguyễn Hồng Trang', 'group': 'AN LUONG DONG HIGH SCHOOL', 'Gender': 'Female', 'College': 'Studied at ĐH Sư Phạm Huế', 'Highschool': 'Went to THPT An Luong Dong', 'Currentcity': 'Hue, Vietnam', 'Hometown': 'Hue, Vietnam'}\n"
     ]
    },
    {
     "name": "stderr",
     "output_type": "stream",
     "text": [
      "Processing rows:  20%|██        | 4/20 [00:51<03:02, 11.38s/it]"
     ]
    },
    {
     "name": "stdout",
     "output_type": "stream",
     "text": [
      "{'url': 'https://www.facebook.com/profile.php?id=100002710709082', 'name': 'Trung Lê', 'group': 'AN LUONG DONG HIGH SCHOOL', 'Gender': 'Male', 'College': 'Studied at ĐẠI HỌC BÁCH KHOA ĐÀ NẴNG', 'Highschool': 'Went to Truong THPT An Luong Dong', 'Currentcity': 'Hue, Vietnam', 'Hometown': 'Phu Loc', 'Movedin2010': 'Hương Thủy'}\n"
     ]
    },
    {
     "name": "stderr",
     "output_type": "stream",
     "text": [
      "Processing rows:  25%|██▌       | 5/20 [01:02<02:53, 11.56s/it]"
     ]
    },
    {
     "name": "stdout",
     "output_type": "stream",
     "text": [
      "{'url': 'https://www.facebook.com/profile.php?id=100009002575989', 'name': 'Kim Khánh', 'group': 'AN LUONG DONG HIGH SCHOOL', 'Gender': 'Female', 'Highschool': 'Went to Hoc Truong THPT An Luong Dong', 'Currentcity': 'Hue, Vietnam', 'Hometown': 'Truoi, Binh Tri Thien, Vietnam'}\n"
     ]
    },
    {
     "name": "stderr",
     "output_type": "stream",
     "text": [
      "Processing rows:  30%|███       | 6/20 [01:10<02:24, 10.34s/it]"
     ]
    },
    {
     "name": "stdout",
     "output_type": "stream",
     "text": [
      "{'url': 'https://www.facebook.com/profile.php?id=100010871461125', 'name': 'Ngọc Ánh  (Pé cọp)', 'group': 'AN LUONG DONG HIGH SCHOOL', 'Gender': 'Female', 'College': 'Studied at Đại học Huế', 'Currentcity': 'Hue, Vietnam', 'Hometown': 'Phu Loc'}\n",
      "save 5\n"
     ]
    },
    {
     "name": "stderr",
     "output_type": "stream",
     "text": [
      "Processing rows:  35%|███▌      | 7/20 [01:25<02:31, 11.66s/it]"
     ]
    },
    {
     "name": "stdout",
     "output_type": "stream",
     "text": [
      "{'url': 'https://www.facebook.com/profile.php?id=100009175189050', 'name': 'Phan Viết tuấn', 'group': 'AN LUONG DONG HIGH SCHOOL', 'Gender': 'Male', 'Currentcity': 'Hue, Vietnam', 'Hometown': 'Phu Loc'}\n"
     ]
    },
    {
     "name": "stderr",
     "output_type": "stream",
     "text": [
      "Processing rows:  40%|████      | 8/20 [01:37<02:20, 11.69s/it]"
     ]
    },
    {
     "name": "stdout",
     "output_type": "stream",
     "text": [
      "{'url': 'https://www.facebook.com/profile.php?id=100022061332007', 'name': 'Tuan Quang', 'group': 'AN LUONG DONG HIGH SCHOOL', 'Gender': 'Male', 'Currentcity': 'Hue, Vietnam', 'Hometown': 'Loc An, Binh Tri Thien, Vietnam'}\n"
     ]
    },
    {
     "name": "stderr",
     "output_type": "stream",
     "text": [
      "Processing rows:  45%|████▌     | 9/20 [01:45<01:57, 10.72s/it]"
     ]
    },
    {
     "name": "stdout",
     "output_type": "stream",
     "text": [
      "{'url': 'https://www.facebook.com/profile.php?id=100007735600408', 'name': 'Bắp Trí', 'group': 'AN LUONG DONG HIGH SCHOOL', 'Gender': 'Male', 'College': 'Studied at Bôn ba', 'Highschool': 'Went to Lộc Bổn', 'Currentcity': 'Hue, Vietnam', 'Hometown': 'Huong Thuy'}\n"
     ]
    },
    {
     "name": "stderr",
     "output_type": "stream",
     "text": [
      "Processing rows:  50%|█████     | 10/20 [01:55<01:43, 10.35s/it]"
     ]
    },
    {
     "name": "stdout",
     "output_type": "stream",
     "text": [
      "{'url': 'https://www.facebook.com/profile.php?id=100006422435007', 'name': 'Nam Nguyen', 'group': 'AN LUONG DONG HIGH SCHOOL', 'Gender': 'Male', 'College': 'Studied at Tuyển sinh Trường Đại Học Bách Khoa - Đại Học Đà Nẵng', 'Currentcity': 'Hue, Vietnam', 'Hometown': 'Phu Loc'}\n"
     ]
    },
    {
     "name": "stderr",
     "output_type": "stream",
     "text": [
      "Processing rows:  60%|██████    | 12/20 [02:23<01:35, 11.96s/it]"
     ]
    },
    {
     "name": "stdout",
     "output_type": "stream",
     "text": [
      "{'url': 'https://www.facebook.com/profile.php?id=100005523423240', 'name': 'Trường Sơn', 'group': 'AN LUONG DONG HIGH SCHOOL', 'Gender': 'Male', 'College': 'Studied at Đào tạo Huấn luyện viên Yoga & Fitness Huế', 'Currentcity': 'Hue, Vietnam', 'Hometown': 'Hue, Vietnam'}\n",
      "save 10\n"
     ]
    },
    {
     "name": "stderr",
     "output_type": "stream",
     "text": [
      "Processing rows:  65%|██████▌   | 13/20 [02:34<01:22, 11.78s/it]"
     ]
    },
    {
     "name": "stdout",
     "output_type": "stream",
     "text": [
      "{'url': 'https://www.facebook.com/profile.php?id=100003843634938', 'name': 'Tuyết Na', 'group': 'AN LUONG DONG HIGH SCHOOL', 'Gender': 'Female', 'College': 'Studied at Truong Cao Dang Y Te Hue', 'Highschool': 'Went to THPT An Luong Dong', 'Currentcity': 'Hue, Vietnam', 'Hometown': 'Hue, Vietnam'}\n"
     ]
    },
    {
     "name": "stderr",
     "output_type": "stream",
     "text": [
      "Processing rows:  70%|███████   | 14/20 [02:45<01:09, 11.55s/it]"
     ]
    },
    {
     "name": "stdout",
     "output_type": "stream",
     "text": [
      "{'url': 'https://www.facebook.com/profile.php?id=100002489446083', 'name': 'Truong van Huynh  (sư tử)', 'group': 'AN LUONG DONG HIGH SCHOOL', 'Gender': 'Male', 'Highschool': 'Went to AN LUONG DONG', 'Currentcity': 'Hue, Vietnam', 'Hometown': 'Nam Dong'}\n"
     ]
    },
    {
     "name": "stderr",
     "output_type": "stream",
     "text": [
      "Processing rows:  75%|███████▌  | 15/20 [03:14<01:24, 16.82s/it]"
     ]
    },
    {
     "name": "stdout",
     "output_type": "stream",
     "text": [
      "{'url': 'https://www.facebook.com/profile.php?id=100048627845299', 'name': 'Hoàng Quốc Việt', 'group': 'AN LUONG DONG HIGH SCHOOL', 'Birthdate': 'December 16', 'College': 'Studied at THCS Lộc An', 'Currentcity': 'Hue, Vietnam'}\n"
     ]
    },
    {
     "name": "stderr",
     "output_type": "stream",
     "text": [
      "Processing rows:  80%|████████  | 16/20 [03:27<01:02, 15.64s/it]"
     ]
    },
    {
     "name": "stdout",
     "output_type": "stream",
     "text": [
      "{'url': 'https://www.facebook.com/profile.php?id=100036506446900', 'name': 'Nguyễn Trương Kiều Diễm', 'group': 'AN LUONG DONG HIGH SCHOOL', 'Gender': 'Female', 'College': 'Studied at Trường Đại học Phú Xuân', 'Currentcity': 'Hue, Vietnam', 'Hometown': 'Hue, Vietnam'}\n"
     ]
    },
    {
     "name": "stderr",
     "output_type": "stream",
     "text": [
      "Processing rows:  85%|████████▌ | 17/20 [03:42<00:46, 15.43s/it]"
     ]
    },
    {
     "name": "stdout",
     "output_type": "stream",
     "text": [
      "{'url': 'https://www.facebook.com/profile.php?id=100006630940879', 'name': 'Bích Phương', 'group': 'AN LUONG DONG HIGH SCHOOL', 'Gender': 'Female', 'Currentcity': 'Hue, Vietnam', 'Hometown': 'Hue, Vietnam'}\n",
      "save 15\n"
     ]
    },
    {
     "name": "stderr",
     "output_type": "stream",
     "text": [
      "Processing rows:  90%|█████████ | 18/20 [03:56<00:29, 14.94s/it]"
     ]
    },
    {
     "name": "stdout",
     "output_type": "stream",
     "text": [
      "{'url': 'https://www.facebook.com/profile.php?id=100003708280263', 'name': 'Phương My  (Cá mẬp)', 'group': 'AN LUONG DONG HIGH SCHOOL', 'Gender': 'Female', 'Highschool': 'Went to THPT An Luong Dong', 'Currentcity': 'Hue, Vietnam', 'Hometown': 'Hue, Vietnam'}\n"
     ]
    },
    {
     "name": "stderr",
     "output_type": "stream",
     "text": [
      "Processing rows:  95%|█████████▌| 19/20 [04:23<00:18, 18.55s/it]"
     ]
    },
    {
     "name": "stdout",
     "output_type": "stream",
     "text": [
      "{'url': 'https://www.facebook.com/profile.php?id=100013148587683', 'name': 'Bùi Thị Phương Nhi', 'group': 'AN LUONG DONG HIGH SCHOOL', 'Gender': 'Female', 'Currentcity': 'Hue, Vietnam'}\n"
     ]
    },
    {
     "name": "stderr",
     "output_type": "stream",
     "text": [
      "Processing rows: 100%|██████████| 20/20 [04:38<00:00, 13.93s/it]"
     ]
    },
    {
     "name": "stdout",
     "output_type": "stream",
     "text": [
      "{'url': 'https://www.facebook.com/profile.php?id=100006718362030', 'name': 'Oanh Huynh  (kutin)', 'group': 'AN LUONG DONG HIGH SCHOOL', 'Gender': 'Female', 'Currentcity': 'Hue, Vietnam', 'Hometown': 'Hue, Vietnam'}\n"
     ]
    },
    {
     "name": "stderr",
     "output_type": "stream",
     "text": [
      "\n"
     ]
    },
    {
     "ename": "",
     "evalue": "",
     "output_type": "error",
     "traceback": [
      "\u001b[1;31mThe Kernel crashed while executing code in the current cell or a previous cell. \n",
      "\u001b[1;31mPlease review the code in the cell(s) to identify a possible cause of the failure. \n",
      "\u001b[1;31mClick <a href='https://aka.ms/vscodeJupyterKernelCrash'>here</a> for more info. \n",
      "\u001b[1;31mView Jupyter <a href='command:jupyter.viewOutput'>log</a> for further details."
     ]
    }
   ],
   "source": [
    "import pandas as pd\n",
    "from tqdm import tqdm\n",
    "# Nhập số lượng muốn cào:\n",
    "no_to_crawl = 20   # 20 user\n",
    "save_path = '../datasets/user_info_from_group.csv'\n",
    "\n",
    "\n",
    "df = pd.read_csv('../datasets/data.csv')\n",
    "df = df[:no_to_crawl]\n",
    "\n",
    "existing_df = pd.read_csv(save_path)\n",
    "count = existing_df.shape[0]\n",
    "\n",
    "list_data = [] \n",
    "                  \n",
    "for index, row in tqdm(df.iterrows(), total=df.shape[0], desc=\"Processing rows\"):\n",
    "    url = row['member_url']\n",
    "    data = {}\n",
    "    try:\n",
    "        name, basic_inf, school, locate = user_inf_crawler.get_user_info(url)\n",
    "        raw_data = {'url':url, 'name':name, 'group': row['group'] , **basic_inf, **school, **locate}\n",
    "        print(raw_data)\n",
    "        count += 1\n",
    "        data = {}\n",
    "        keys = raw_data.keys()\n",
    "        for i in columns:\n",
    "            if i in keys:\n",
    "                i = i.replace(' ','')\n",
    "                if i=='Highschool' or i=='College':\n",
    "                    data[i] = raw_data[i].replace('Studied at ', '').replace('Went to ', '')\n",
    "                else:\n",
    "                    data[i] = raw_data[i]\n",
    "            else:\n",
    "                data[i] = None\n",
    "\n",
    "        existing_df = pd.concat([existing_df, pd.DataFrame([data])], ignore_index=True)\n",
    "        if count%5==0:\n",
    "            print('save', count)\n",
    "            existing_df.to_csv(save_path, index=False)\n",
    "    except:\n",
    "        continue\n",
    "\n",
    "existing_df.to_csv(save_path, index=False)\n",
    "    "
   ]
  },
  {
   "cell_type": "code",
   "execution_count": null,
   "metadata": {},
   "outputs": [],
   "source": []
  }
 ],
 "metadata": {
  "kernelspec": {
   "display_name": "Python 3.12.0 64-bit",
   "language": "python",
   "name": "python3"
  },
  "language_info": {
   "codemirror_mode": {
    "name": "ipython",
    "version": 3
   },
   "file_extension": ".py",
   "mimetype": "text/x-python",
   "name": "python",
   "nbconvert_exporter": "python",
   "pygments_lexer": "ipython3",
   "version": "3.9.18"
  },
  "vscode": {
   "interpreter": {
    "hash": "32e8181fce7c3e359c2790b917cd539742ff129bf629b8ad82002a107951ad4e"
   }
  }
 },
 "nbformat": 4,
 "nbformat_minor": 2
}
