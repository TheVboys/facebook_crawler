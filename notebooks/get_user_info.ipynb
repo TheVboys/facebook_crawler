{
 "cells": [
  {
   "cell_type": "code",
   "execution_count": 1,
   "metadata": {},
   "outputs": [
    {
     "name": "stdout",
     "output_type": "stream",
     "text": [
      "g:\\KHDL_TTNT\\Nghiencuukhoahoc\\facebook_crawler\\src\n"
     ]
    }
   ],
   "source": [
    "%cd ../src"
   ]
  },
  {
   "cell_type": "code",
   "execution_count": 2,
   "metadata": {},
   "outputs": [],
   "source": [
    "from selenium import webdriver\n",
    "from selenium.webdriver.chrome.options import Options\n",
    "\n",
    "import re\n",
    "from time import sleep\n",
    "import getpass\n",
    "\n",
    "\n",
    "option = Options()\n",
    "option.add_argument(\"--disable-infobars\")\n",
    "option.add_argument(\"start-maximized\")\n",
    "# option.add_argument(\"--auto-open-devtools-for-tabs\")\n",
    "option.add_argument(\"--disable-extensions\")\n",
    "option.add_experimental_option(\n",
    "    \"prefs\", {\"profile.default_content_setting_values.notifications\": 1}\n",
    ")\n",
    "browser = webdriver.Chrome(options=option)\n",
    "\n",
    "from selenium.webdriver.common.action_chains import ActionChains\n",
    "actions = ActionChains(browser)\n",
    "\n",
    "base_url = \"https://www.facebook.com/\"\n",
    "browser.get(base_url)"
   ]
  },
  {
   "cell_type": "code",
   "execution_count": 3,
   "metadata": {},
   "outputs": [
    {
     "name": "stdout",
     "output_type": "stream",
     "text": [
      "16:44:26 utils.Login: Login Successfull\n"
     ]
    }
   ],
   "source": [
    "username = \"yelan482@gmail.com\"\n",
    "password  = 'Linhcute542002'\n",
    "\n",
    "from utils.login import login\n",
    "login(browser, username, password)\n",
    "\n"
   ]
  },
  {
   "cell_type": "code",
   "execution_count": 5,
   "metadata": {},
   "outputs": [],
   "source": [
    "import user_profile\n",
    "user_inf_crawler =  user_profile.UserInfo(browser)"
   ]
  },
  {
   "cell_type": "code",
   "execution_count": 6,
   "metadata": {},
   "outputs": [
    {
     "ename": "InvalidArgumentException",
     "evalue": "Message: invalid argument\n  (Session info: chrome=124.0.6367.158)\nStacktrace:\n\tGetHandleVerifier [0x00007FF726B41522+60802]\n\t(No symbol) [0x00007FF726ABAC22]\n\t(No symbol) [0x00007FF726977B13]\n\t(No symbol) [0x00007FF7269605E0]\n\t(No symbol) [0x00007FF72695EC3D]\n\t(No symbol) [0x00007FF72695F22C]\n\t(No symbol) [0x00007FF72697A9F9]\n\t(No symbol) [0x00007FF726A0AB7E]\n\t(No symbol) [0x00007FF7269EAB7A]\n\t(No symbol) [0x00007FF726A0A224]\n\t(No symbol) [0x00007FF7269EA923]\n\t(No symbol) [0x00007FF7269B8FEC]\n\t(No symbol) [0x00007FF7269B9C21]\n\tGetHandleVerifier [0x00007FF726E441BD+3217949]\n\tGetHandleVerifier [0x00007FF726E86157+3488183]\n\tGetHandleVerifier [0x00007FF726E7F0DF+3459391]\n\tGetHandleVerifier [0x00007FF726BFB8E6+823622]\n\t(No symbol) [0x00007FF726AC5FBF]\n\t(No symbol) [0x00007FF726AC0EE4]\n\t(No symbol) [0x00007FF726AC1072]\n\t(No symbol) [0x00007FF726AB18C4]\n\tBaseThreadInitThunk [0x00007FF9F03E7344+20]\n\tRtlUserThreadStart [0x00007FF9F08026B1+33]\n",
     "output_type": "error",
     "traceback": [
      "\u001b[1;31m---------------------------------------------------------------------------\u001b[0m",
      "\u001b[1;31mInvalidArgumentException\u001b[0m                  Traceback (most recent call last)",
      "Cell \u001b[1;32mIn[6], line 32\u001b[0m\n\u001b[0;32m     29\u001b[0m profile_urls \u001b[38;5;241m=\u001b[39m read_urls_from_csv(\u001b[38;5;124m'\u001b[39m\u001b[38;5;124m../datasets/reactor1.csv\u001b[39m\u001b[38;5;124m'\u001b[39m)\n\u001b[0;32m     31\u001b[0m \u001b[38;5;66;03m# Process profiles\u001b[39;00m\n\u001b[1;32m---> 32\u001b[0m results \u001b[38;5;241m=\u001b[39m \u001b[43mprocess_profiles\u001b[49m\u001b[43m(\u001b[49m\u001b[43mbrowser\u001b[49m\u001b[43m,\u001b[49m\u001b[43m \u001b[49m\u001b[43mprofile_urls\u001b[49m\u001b[43m)\u001b[49m\n\u001b[0;32m     34\u001b[0m \u001b[38;5;66;03m# Save results to CSV\u001b[39;00m\n\u001b[0;32m     35\u001b[0m save_to_csv(results)\n",
      "Cell \u001b[1;32mIn[6], line 24\u001b[0m, in \u001b[0;36mprocess_profiles\u001b[1;34m(browser, profile_urls)\u001b[0m\n\u001b[0;32m     22\u001b[0m \u001b[38;5;28;01mfor\u001b[39;00m url \u001b[38;5;129;01min\u001b[39;00m profile_urls:\n\u001b[0;32m     23\u001b[0m     user_inf_crawler \u001b[38;5;241m=\u001b[39m user_profile\u001b[38;5;241m.\u001b[39mUserInfo(browser)\n\u001b[1;32m---> 24\u001b[0m     user_info \u001b[38;5;241m=\u001b[39m \u001b[43muser_inf_crawler\u001b[49m\u001b[38;5;241;43m.\u001b[39;49m\u001b[43mget_user_info\u001b[49m\u001b[43m(\u001b[49m\u001b[43murl\u001b[49m\u001b[43m)\u001b[49m\n\u001b[0;32m     25\u001b[0m     results\u001b[38;5;241m.\u001b[39mappend(user_info)\n\u001b[0;32m     26\u001b[0m \u001b[38;5;28;01mreturn\u001b[39;00m results\n",
      "File \u001b[1;32mg:\\KHDL_TTNT\\Nghiencuukhoahoc\\facebook_crawler\\src\\user_profile.py:22\u001b[0m, in \u001b[0;36mUserInfo.get_user_info\u001b[1;34m(self, url)\u001b[0m\n\u001b[0;32m     20\u001b[0m \u001b[38;5;28;01mdef\u001b[39;00m \u001b[38;5;21mget_user_info\u001b[39m(\u001b[38;5;28mself\u001b[39m, url):\n\u001b[0;32m     21\u001b[0m     \u001b[38;5;28mself\u001b[39m\u001b[38;5;241m.\u001b[39murl \u001b[38;5;241m=\u001b[39m url\n\u001b[1;32m---> 22\u001b[0m     name, basic_info_dict \u001b[38;5;241m=\u001b[39m \u001b[38;5;28;43mself\u001b[39;49m\u001b[38;5;241;43m.\u001b[39;49m\u001b[43m_get_basic_info\u001b[49m\u001b[43m(\u001b[49m\u001b[43m)\u001b[49m\n\u001b[0;32m     23\u001b[0m     school_name \u001b[38;5;241m=\u001b[39m \u001b[38;5;28mself\u001b[39m\u001b[38;5;241m.\u001b[39m_get_work_and_education()\n\u001b[0;32m     24\u001b[0m     places \u001b[38;5;241m=\u001b[39m \u001b[38;5;28mself\u001b[39m\u001b[38;5;241m.\u001b[39m_place_lives()\n",
      "File \u001b[1;32mg:\\KHDL_TTNT\\Nghiencuukhoahoc\\facebook_crawler\\src\\user_profile.py:32\u001b[0m, in \u001b[0;36mUserInfo._get_basic_info\u001b[1;34m(self)\u001b[0m\n\u001b[0;32m     28\u001b[0m \u001b[38;5;250m\u001b[39m\u001b[38;5;124;03m\"\"\"\u001b[39;00m\n\u001b[0;32m     29\u001b[0m \u001b[38;5;124;03mRetrieve basic information such as name, gender, and birth year.\u001b[39;00m\n\u001b[0;32m     30\u001b[0m \u001b[38;5;124;03m\"\"\"\u001b[39;00m\n\u001b[0;32m     31\u001b[0m url_suffix \u001b[38;5;241m=\u001b[39m \u001b[38;5;124m'\u001b[39m\u001b[38;5;124m&sk=about_contact_and_basic_info\u001b[39m\u001b[38;5;124m'\u001b[39m \u001b[38;5;28;01mif\u001b[39;00m \u001b[38;5;124m'\u001b[39m\u001b[38;5;124mid=\u001b[39m\u001b[38;5;124m'\u001b[39m \u001b[38;5;129;01min\u001b[39;00m \u001b[38;5;28mself\u001b[39m\u001b[38;5;241m.\u001b[39murl \u001b[38;5;28;01melse\u001b[39;00m \u001b[38;5;124m'\u001b[39m\u001b[38;5;124m/about_contact_and_basic_info\u001b[39m\u001b[38;5;124m'\u001b[39m\n\u001b[1;32m---> 32\u001b[0m \u001b[38;5;28;43mself\u001b[39;49m\u001b[38;5;241;43m.\u001b[39;49m\u001b[43mbrowser\u001b[49m\u001b[38;5;241;43m.\u001b[39;49m\u001b[43mget\u001b[49m\u001b[43m(\u001b[49m\u001b[38;5;28;43mself\u001b[39;49m\u001b[38;5;241;43m.\u001b[39;49m\u001b[43murl\u001b[49m\u001b[43m \u001b[49m\u001b[38;5;241;43m+\u001b[39;49m\u001b[43m \u001b[49m\u001b[43murl_suffix\u001b[49m\u001b[43m)\u001b[49m\n\u001b[0;32m     33\u001b[0m name \u001b[38;5;241m=\u001b[39m get_element\u001b[38;5;241m.\u001b[39mget_element(browser\u001b[38;5;241m=\u001b[39m\u001b[38;5;28mself\u001b[39m\u001b[38;5;241m.\u001b[39mbrowser, xpath\u001b[38;5;241m=\u001b[39mxPath_name)\u001b[38;5;241m.\u001b[39mtext\n\u001b[0;32m     34\u001b[0m contact_info_box \u001b[38;5;241m=\u001b[39m get_element\u001b[38;5;241m.\u001b[39mget_element_list(\u001b[38;5;28mself\u001b[39m\u001b[38;5;241m.\u001b[39mbrowser, \u001b[38;5;124m'\u001b[39m\u001b[38;5;124m//div[@class = \u001b[39m\u001b[38;5;124m\"\u001b[39m\u001b[38;5;124mxyamay9 xqmdsaz x1gan7if x1swvt13\u001b[39m\u001b[38;5;124m\"\u001b[39m\u001b[38;5;124m]/div\u001b[39m\u001b[38;5;124m'\u001b[39m)\n",
      "File \u001b[1;32mf:\\Ana\\envs\\fb_crawl\\lib\\site-packages\\selenium\\webdriver\\remote\\webdriver.py:356\u001b[0m, in \u001b[0;36mWebDriver.get\u001b[1;34m(self, url)\u001b[0m\n\u001b[0;32m    354\u001b[0m \u001b[38;5;28;01mdef\u001b[39;00m \u001b[38;5;21mget\u001b[39m(\u001b[38;5;28mself\u001b[39m, url: \u001b[38;5;28mstr\u001b[39m) \u001b[38;5;241m-\u001b[39m\u001b[38;5;241m>\u001b[39m \u001b[38;5;28;01mNone\u001b[39;00m:\n\u001b[0;32m    355\u001b[0m \u001b[38;5;250m    \u001b[39m\u001b[38;5;124;03m\"\"\"Loads a web page in the current browser session.\"\"\"\u001b[39;00m\n\u001b[1;32m--> 356\u001b[0m     \u001b[38;5;28;43mself\u001b[39;49m\u001b[38;5;241;43m.\u001b[39;49m\u001b[43mexecute\u001b[49m\u001b[43m(\u001b[49m\u001b[43mCommand\u001b[49m\u001b[38;5;241;43m.\u001b[39;49m\u001b[43mGET\u001b[49m\u001b[43m,\u001b[49m\u001b[43m \u001b[49m\u001b[43m{\u001b[49m\u001b[38;5;124;43m\"\u001b[39;49m\u001b[38;5;124;43murl\u001b[39;49m\u001b[38;5;124;43m\"\u001b[39;49m\u001b[43m:\u001b[49m\u001b[43m \u001b[49m\u001b[43murl\u001b[49m\u001b[43m}\u001b[49m\u001b[43m)\u001b[49m\n",
      "File \u001b[1;32mf:\\Ana\\envs\\fb_crawl\\lib\\site-packages\\selenium\\webdriver\\remote\\webdriver.py:347\u001b[0m, in \u001b[0;36mWebDriver.execute\u001b[1;34m(self, driver_command, params)\u001b[0m\n\u001b[0;32m    345\u001b[0m response \u001b[38;5;241m=\u001b[39m \u001b[38;5;28mself\u001b[39m\u001b[38;5;241m.\u001b[39mcommand_executor\u001b[38;5;241m.\u001b[39mexecute(driver_command, params)\n\u001b[0;32m    346\u001b[0m \u001b[38;5;28;01mif\u001b[39;00m response:\n\u001b[1;32m--> 347\u001b[0m     \u001b[38;5;28;43mself\u001b[39;49m\u001b[38;5;241;43m.\u001b[39;49m\u001b[43merror_handler\u001b[49m\u001b[38;5;241;43m.\u001b[39;49m\u001b[43mcheck_response\u001b[49m\u001b[43m(\u001b[49m\u001b[43mresponse\u001b[49m\u001b[43m)\u001b[49m\n\u001b[0;32m    348\u001b[0m     response[\u001b[38;5;124m\"\u001b[39m\u001b[38;5;124mvalue\u001b[39m\u001b[38;5;124m\"\u001b[39m] \u001b[38;5;241m=\u001b[39m \u001b[38;5;28mself\u001b[39m\u001b[38;5;241m.\u001b[39m_unwrap_value(response\u001b[38;5;241m.\u001b[39mget(\u001b[38;5;124m\"\u001b[39m\u001b[38;5;124mvalue\u001b[39m\u001b[38;5;124m\"\u001b[39m, \u001b[38;5;28;01mNone\u001b[39;00m))\n\u001b[0;32m    349\u001b[0m     \u001b[38;5;28;01mreturn\u001b[39;00m response\n",
      "File \u001b[1;32mf:\\Ana\\envs\\fb_crawl\\lib\\site-packages\\selenium\\webdriver\\remote\\errorhandler.py:229\u001b[0m, in \u001b[0;36mErrorHandler.check_response\u001b[1;34m(self, response)\u001b[0m\n\u001b[0;32m    227\u001b[0m         alert_text \u001b[38;5;241m=\u001b[39m value[\u001b[38;5;124m\"\u001b[39m\u001b[38;5;124malert\u001b[39m\u001b[38;5;124m\"\u001b[39m]\u001b[38;5;241m.\u001b[39mget(\u001b[38;5;124m\"\u001b[39m\u001b[38;5;124mtext\u001b[39m\u001b[38;5;124m\"\u001b[39m)\n\u001b[0;32m    228\u001b[0m     \u001b[38;5;28;01mraise\u001b[39;00m exception_class(message, screen, stacktrace, alert_text)  \u001b[38;5;66;03m# type: ignore[call-arg]  # mypy is not smart enough here\u001b[39;00m\n\u001b[1;32m--> 229\u001b[0m \u001b[38;5;28;01mraise\u001b[39;00m exception_class(message, screen, stacktrace)\n",
      "\u001b[1;31mInvalidArgumentException\u001b[0m: Message: invalid argument\n  (Session info: chrome=124.0.6367.158)\nStacktrace:\n\tGetHandleVerifier [0x00007FF726B41522+60802]\n\t(No symbol) [0x00007FF726ABAC22]\n\t(No symbol) [0x00007FF726977B13]\n\t(No symbol) [0x00007FF7269605E0]\n\t(No symbol) [0x00007FF72695EC3D]\n\t(No symbol) [0x00007FF72695F22C]\n\t(No symbol) [0x00007FF72697A9F9]\n\t(No symbol) [0x00007FF726A0AB7E]\n\t(No symbol) [0x00007FF7269EAB7A]\n\t(No symbol) [0x00007FF726A0A224]\n\t(No symbol) [0x00007FF7269EA923]\n\t(No symbol) [0x00007FF7269B8FEC]\n\t(No symbol) [0x00007FF7269B9C21]\n\tGetHandleVerifier [0x00007FF726E441BD+3217949]\n\tGetHandleVerifier [0x00007FF726E86157+3488183]\n\tGetHandleVerifier [0x00007FF726E7F0DF+3459391]\n\tGetHandleVerifier [0x00007FF726BFB8E6+823622]\n\t(No symbol) [0x00007FF726AC5FBF]\n\t(No symbol) [0x00007FF726AC0EE4]\n\t(No symbol) [0x00007FF726AC1072]\n\t(No symbol) [0x00007FF726AB18C4]\n\tBaseThreadInitThunk [0x00007FF9F03E7344+20]\n\tRtlUserThreadStart [0x00007FF9F08026B1+33]\n"
     ]
    }
   ],
   "source": [
    "import csv\n",
    "\n",
    "def read_urls_from_csv(filename='reactor_data.csv'):\n",
    "    profile_urls = []\n",
    "    with open(filename, 'r', encoding='utf-8') as file:\n",
    "        reader = csv.reader(file)\n",
    "        for row in reader:\n",
    "            # Assuming the URL is in the first column\n",
    "            profile_urls.append(row[0])\n",
    "    return profile_urls\n",
    "\n",
    "def save_to_csv(results, filename='output.csv'):\n",
    "    with open(filename, 'w', newline='', encoding='utf-8') as file:\n",
    "        fieldnames = ['name', 'info', 'education', 'locate']\n",
    "        writer = csv.DictWriter(file, fieldnames=fieldnames)\n",
    "        writer.writeheader()\n",
    "        for result in results:\n",
    "            writer.writerow(result)\n",
    "\n",
    "def process_profiles(browser, profile_urls):\n",
    "    results = []\n",
    "    for url in profile_urls:\n",
    "        user_inf_crawler = user_profile.UserInfo(browser)\n",
    "        user_info = user_inf_crawler.get_user_info(url)\n",
    "        results.append(user_info)\n",
    "    return results\n",
    "\n",
    "# Read URLs from CSV file\n",
    "profile_urls = read_urls_from_csv('../datasets/reactor1.csv')\n",
    "\n",
    "# Process profiles\n",
    "results = process_profiles(browser, profile_urls)\n",
    "\n",
    "# Save results to CSV\n",
    "save_to_csv(results)\n"
   ]
  },
  {
   "cell_type": "code",
   "execution_count": 5,
   "metadata": {},
   "outputs": [
    {
     "ename": "AttributeError",
     "evalue": "'NoneType' object has no attribute 'text'",
     "output_type": "error",
     "traceback": [
      "\u001b[1;31m---------------------------------------------------------------------------\u001b[0m",
      "\u001b[1;31mAttributeError\u001b[0m                            Traceback (most recent call last)",
      "Cell \u001b[1;32mIn[5], line 77\u001b[0m\n\u001b[0;32m     22\u001b[0m profile_urls \u001b[38;5;241m=\u001b[39m [\u001b[38;5;124m\"\u001b[39m\u001b[38;5;124mhttps://facebook.com/profile.php?id=100095298075158\u001b[39m\u001b[38;5;124m\"\u001b[39m,\n\u001b[0;32m     23\u001b[0m \u001b[38;5;124m\"\u001b[39m\u001b[38;5;124mhttps://facebook.com/profile.php?id=100095233821707\u001b[39m\u001b[38;5;124m\"\u001b[39m,\n\u001b[0;32m     24\u001b[0m \u001b[38;5;124m\"\u001b[39m\u001b[38;5;124mhttps://facebook.com/profile.php?id=100095178692497\u001b[39m\u001b[38;5;124m\"\u001b[39m,\n\u001b[1;32m   (...)\u001b[0m\n\u001b[0;32m     73\u001b[0m   \n\u001b[0;32m     74\u001b[0m ]\n\u001b[0;32m     76\u001b[0m \u001b[38;5;66;03m# Process profiles\u001b[39;00m\n\u001b[1;32m---> 77\u001b[0m results \u001b[38;5;241m=\u001b[39m \u001b[43mprocess_profiles\u001b[49m\u001b[43m(\u001b[49m\u001b[43mbrowser\u001b[49m\u001b[43m,\u001b[49m\u001b[43m \u001b[49m\u001b[43mprofile_urls\u001b[49m\u001b[43m)\u001b[49m\n\u001b[0;32m     79\u001b[0m \u001b[38;5;66;03m# Save results to CSV\u001b[39;00m\n\u001b[0;32m     80\u001b[0m save_to_csv(results)\n",
      "Cell \u001b[1;32mIn[5], line 15\u001b[0m, in \u001b[0;36mprocess_profiles\u001b[1;34m(browser, profile_urls)\u001b[0m\n\u001b[0;32m     13\u001b[0m \u001b[38;5;28;01mfor\u001b[39;00m url \u001b[38;5;129;01min\u001b[39;00m profile_urls:\n\u001b[0;32m     14\u001b[0m     user_inf_crawler \u001b[38;5;241m=\u001b[39m user_profile\u001b[38;5;241m.\u001b[39mUserInfo(browser)\n\u001b[1;32m---> 15\u001b[0m     user_info \u001b[38;5;241m=\u001b[39m \u001b[43muser_inf_crawler\u001b[49m\u001b[38;5;241;43m.\u001b[39;49m\u001b[43mget_user_info\u001b[49m\u001b[43m(\u001b[49m\u001b[43murl\u001b[49m\u001b[43m)\u001b[49m\n\u001b[0;32m     16\u001b[0m     results\u001b[38;5;241m.\u001b[39mappend(user_info)\n\u001b[0;32m     17\u001b[0m \u001b[38;5;28;01mreturn\u001b[39;00m results\n",
      "File \u001b[1;32mg:\\KHDL_TTNT\\Nghiencuukhoahoc\\facebook_crawler\\src\\user_profile.py:22\u001b[0m, in \u001b[0;36mUserInfo.get_user_info\u001b[1;34m(self, url)\u001b[0m\n\u001b[0;32m     20\u001b[0m \u001b[38;5;28;01mdef\u001b[39;00m \u001b[38;5;21mget_user_info\u001b[39m(\u001b[38;5;28mself\u001b[39m, url):\n\u001b[0;32m     21\u001b[0m     \u001b[38;5;28mself\u001b[39m\u001b[38;5;241m.\u001b[39murl \u001b[38;5;241m=\u001b[39m url\n\u001b[1;32m---> 22\u001b[0m     name, basic_info_dict \u001b[38;5;241m=\u001b[39m \u001b[38;5;28;43mself\u001b[39;49m\u001b[38;5;241;43m.\u001b[39;49m\u001b[43m_get_basic_info\u001b[49m\u001b[43m(\u001b[49m\u001b[43m)\u001b[49m\n\u001b[0;32m     23\u001b[0m     school_name \u001b[38;5;241m=\u001b[39m \u001b[38;5;28mself\u001b[39m\u001b[38;5;241m.\u001b[39m_get_work_and_education()\n\u001b[0;32m     24\u001b[0m     places \u001b[38;5;241m=\u001b[39m \u001b[38;5;28mself\u001b[39m\u001b[38;5;241m.\u001b[39m_place_lives()\n",
      "File \u001b[1;32mg:\\KHDL_TTNT\\Nghiencuukhoahoc\\facebook_crawler\\src\\user_profile.py:33\u001b[0m, in \u001b[0;36mUserInfo._get_basic_info\u001b[1;34m(self)\u001b[0m\n\u001b[0;32m     31\u001b[0m url_suffix \u001b[38;5;241m=\u001b[39m \u001b[38;5;124m'\u001b[39m\u001b[38;5;124m&sk=about_contact_and_basic_info\u001b[39m\u001b[38;5;124m'\u001b[39m \u001b[38;5;28;01mif\u001b[39;00m \u001b[38;5;124m'\u001b[39m\u001b[38;5;124mid=\u001b[39m\u001b[38;5;124m'\u001b[39m \u001b[38;5;129;01min\u001b[39;00m \u001b[38;5;28mself\u001b[39m\u001b[38;5;241m.\u001b[39murl \u001b[38;5;28;01melse\u001b[39;00m \u001b[38;5;124m'\u001b[39m\u001b[38;5;124m/about_contact_and_basic_info\u001b[39m\u001b[38;5;124m'\u001b[39m\n\u001b[0;32m     32\u001b[0m \u001b[38;5;28mself\u001b[39m\u001b[38;5;241m.\u001b[39mbrowser\u001b[38;5;241m.\u001b[39mget(\u001b[38;5;28mself\u001b[39m\u001b[38;5;241m.\u001b[39murl \u001b[38;5;241m+\u001b[39m url_suffix)\n\u001b[1;32m---> 33\u001b[0m name \u001b[38;5;241m=\u001b[39m \u001b[43mget_element\u001b[49m\u001b[38;5;241;43m.\u001b[39;49m\u001b[43mget_element\u001b[49m\u001b[43m(\u001b[49m\u001b[43mbrowser\u001b[49m\u001b[38;5;241;43m=\u001b[39;49m\u001b[38;5;28;43mself\u001b[39;49m\u001b[38;5;241;43m.\u001b[39;49m\u001b[43mbrowser\u001b[49m\u001b[43m,\u001b[49m\u001b[43m \u001b[49m\u001b[43mxpath\u001b[49m\u001b[38;5;241;43m=\u001b[39;49m\u001b[43mxPath_name\u001b[49m\u001b[43m)\u001b[49m\u001b[38;5;241;43m.\u001b[39;49m\u001b[43mtext\u001b[49m\n\u001b[0;32m     34\u001b[0m contact_info_box \u001b[38;5;241m=\u001b[39m get_element\u001b[38;5;241m.\u001b[39mget_element_list(\u001b[38;5;28mself\u001b[39m\u001b[38;5;241m.\u001b[39mbrowser, \u001b[38;5;124m'\u001b[39m\u001b[38;5;124m//div[@class = \u001b[39m\u001b[38;5;124m\"\u001b[39m\u001b[38;5;124mxyamay9 xqmdsaz x1gan7if x1swvt13\u001b[39m\u001b[38;5;124m\"\u001b[39m\u001b[38;5;124m]/div\u001b[39m\u001b[38;5;124m'\u001b[39m)\n\u001b[0;32m     36\u001b[0m \u001b[38;5;28;01mtry\u001b[39;00m:\n",
      "\u001b[1;31mAttributeError\u001b[0m: 'NoneType' object has no attribute 'text'"
     ]
    }
   ],
   "source": [
    "import csv\n",
    "\n",
    "def save_to_csv(results, filename='output.csv'):\n",
    "    with open(filename, 'w', newline='', encoding='utf-8') as file:\n",
    "        fieldnames = ['name', 'info', 'education', 'locate']\n",
    "        writer = csv.DictWriter(file, fieldnames=fieldnames)\n",
    "        writer.writeheader()\n",
    "        for result in results:\n",
    "            writer.writerow(result)\n",
    "\n",
    "def process_profiles(browser, profile_urls):\n",
    "    results = []\n",
    "    for url in profile_urls:\n",
    "        user_inf_crawler = user_profile.UserInfo(browser)\n",
    "        user_info = user_inf_crawler.get_user_info(url)\n",
    "        results.append(user_info)\n",
    "    return results\n",
    "\n",
    "# Your code to initialize browser and login\n",
    "\n",
    "# List of profile URLs\n",
    "profile_urls = [\"https://facebook.com/profile.php?id=100095298075158\",\n",
    "\"https://facebook.com/profile.php?id=100095233821707\",\n",
    "\"https://facebook.com/profile.php?id=100095178692497\",\n",
    "\"https://facebook.com/profile.php?id=100094188681104\",\n",
    "\"https://facebook.com/profile.php?id=100094132425210\",\n",
    "\"https://facebook.com/profile.php?id=100093599804057\",\n",
    "\"https://facebook.com/profile.php?id=100093079624047\",\n",
    "\"https://facebook.com/profile.php?id=100091894355317\",\n",
    "\"https://facebook.com/profile.php?id=100091153016681\",\n",
    "\"https://facebook.com/profile.php?id=100090842919172\",\n",
    "\"https://facebook.com/profile.php?id=100090780507919\",\n",
    "\"https://facebook.com/profile.php?id=100090090891893\",\n",
    "\"https://facebook.com/profile.php?id=100090028213100\",\n",
    "\"https://facebook.com/profile.php?id=100089746826293\",\n",
    "\"https://facebook.com/profile.php?id=100089680232748\",\n",
    "\"https://facebook.com/profile.php?id=100089137017899\",\n",
    "\"https://facebook.com/profile.php?id=100088344240693\",\n",
    "\"https://facebook.com/profile.php?id=100086990276037\",\n",
    "\"https://facebook.com/profile.php?id=100085904232216\",\n",
    "\"https://facebook.com/profile.php?id=100085900936616\",\n",
    "\"https://facebook.com/profile.php?id=100085878377230\",\n",
    "\"https://facebook.com/profile.php?id=100085873017131\",\n",
    "\"https://facebook.com/profile.php?id=100085687596486\",\n",
    "\"https://facebook.com/profile.php?id=100085375239878\",\n",
    "\"https://facebook.com/profile.php?id=100084425469770\",\n",
    "\"https://facebook.com/profile.php?id=100084168635240\",\n",
    "\"https://facebook.com/profile.php?id=100082889917966\",\n",
    "\"https://facebook.com/profile.php?id=100082332601818\",\n",
    "\"https://facebook.com/profile.php?id=100082083192925\",\n",
    "\"https://facebook.com/profile.php?id=100081263275054\",\n",
    "\"https://facebook.com/profile.php?id=100080994596833\",\n",
    "\"https://facebook.com/profile.php?id=100080828836178\",\n",
    "\"https://facebook.com/profile.php?id=100080742701756\",\n",
    "\"https://facebook.com/profile.php?id=100080593894314\",\n",
    "\"https://facebook.com/profile.php?id=100080490292761\",\n",
    "\"https://facebook.com/profile.php?id=100080323303230\",\n",
    "\"https://facebook.com/profile.php?id=100080278014684\",\n",
    "\"https://facebook.com/profile.php?id=100083309020819\",\n",
    "\"https://facebook.com/profile.php?id=100083942357271\",\n",
    "\"https://facebook.com/profile.php?id=100084144864498\",\n",
    "\"https://facebook.com/profile.php?id=100091901658951\",\n",
    "\"https://facebook.com/profile.php?id=100080457253699\",\n",
    "\"https://facebook.com/profile.php?id=100082076234315\",\n",
    "\"https://facebook.com/profile.php?id=100086169004634\",\n",
    "\"https://facebook.com/profile.php?id=100095645072414\",\n",
    "\"https://facebook.com/profile.php?id=100095540953814\",\n",
    "\"https://facebook.com/profile.php?id=100094974856682\",\n",
    "\"https://facebook.com/profile.php?id=100094784367157\",\n",
    "\"https://facebook.com/profile.php?id=100094647870675\",\n",
    "\"https://facebook.com/profile.php?id=100094129723304\"\n",
    " \n",
    "  \n",
    "]\n",
    "\n",
    "# Process profiles\n",
    "results = process_profiles(browser, profile_urls)\n",
    "\n",
    "# Save results to CSV\n",
    "save_to_csv(results)\n"
   ]
  },
  {
   "cell_type": "code",
   "execution_count": 4,
   "metadata": {},
   "outputs": [
    {
     "data": {
      "text/plain": [
       "('Nguyễn Phước',\n",
       " {'Gender': 'Male'},\n",
       " {'College': 'Studied at HUET- Khoa Kỹ thuật và Công nghệ - Đại học Huế',\n",
       "  'High school': 'Went to THPT Phan Đăng Lưu - Huế'},\n",
       " {'Current city': 'Hue, Vietnam', 'Hometown': 'Hue, Vietnam'})"
      ]
     },
     "execution_count": 4,
     "metadata": {},
     "output_type": "execute_result"
    }
   ],
   "source": [
    "import user_profile\n",
    "user_inf_crawler =  user_profile.UserInfo(browser)\n",
    "url = \"https://www.facebook.com/ngphuoctthue\"\n",
    "user_inf_crawler.get_user_info(url)"
   ]
  },
  {
   "cell_type": "code",
   "execution_count": 5,
   "metadata": {},
   "outputs": [
    {
     "data": {
      "text/plain": [
       "('Nguyễn Phước',\n",
       " {'Gender': 'Male'},\n",
       " {'College': 'Studied at HUET- Khoa Kỹ thuật và Công nghệ - Đại học Huế',\n",
       "  'High school': 'Went to THPT Phan Đăng Lưu - Huế'},\n",
       " {'Current city': 'Hue, Vietnam', 'Hometown': 'Hue, Vietnam'})"
      ]
     },
     "execution_count": 5,
     "metadata": {},
     "output_type": "execute_result"
    }
   ],
   "source": [
    "url = \"https://www.facebook.com/ngphuoctthue\"\n",
    "user_inf_crawler.get_user_info(url)"
   ]
  },
  {
   "cell_type": "code",
   "execution_count": 6,
   "metadata": {},
   "outputs": [
    {
     "data": {
      "text/plain": [
       "('Ngocc Hann', None, {}, {'Current city': 'Seoul, Korea'})"
      ]
     },
     "execution_count": 6,
     "metadata": {},
     "output_type": "execute_result"
    }
   ],
   "source": [
    "url = 'https://www.facebook.com/profile.php?id=100093944898219'\n",
    "\n",
    "user_inf_crawler.get_user_info(url)"
   ]
  },
  {
   "cell_type": "code",
   "execution_count": 7,
   "metadata": {},
   "outputs": [
    {
     "data": {
      "text/plain": [
       "('Đại Vĩ', None, {}, {'Current city': 'Long Phú', 'Hometown': 'Soc Trang'})"
      ]
     },
     "execution_count": 7,
     "metadata": {},
     "output_type": "execute_result"
    }
   ],
   "source": [
    "url = 'https://facebook.com/profile.php?id=100095298075158&eav=AfZ-UjoMNAw48vbgsAXs43M9UTRUiPJ_8Euvu1Cn2lJbshgIrijMafeTODm9caakSpw&fref=pb&paipv=0'\n",
    "user_inf_crawler.get_user_info(url)"
   ]
  },
  {
   "cell_type": "code",
   "execution_count": 8,
   "metadata": {},
   "outputs": [
    {
     "data": {
      "text/plain": [
       "('Thanh Hùng  (Cu Lỗi)',\n",
       " {'Gender': 'Male', 'Birth date': 'November 2', 'Birth year': '2002'},\n",
       " {'High school': 'Went to Nguyễn Huệ trường tôi - TP.Huế'},\n",
       " {'Current city': 'Hue, Vietnam', 'Hometown': 'Hue, Vietnam'})"
      ]
     },
     "execution_count": 8,
     "metadata": {},
     "output_type": "execute_result"
    }
   ],
   "source": [
    "\n",
    "url = 'https://www.facebook.com/Tuilathanhhungday'\n",
    "info = user_inf_crawler.get_user_info(url)\n",
    "info"
   ]
  },
  {
   "cell_type": "code",
   "execution_count": null,
   "metadata": {},
   "outputs": [],
   "source": []
  },
  {
   "cell_type": "code",
   "execution_count": null,
   "metadata": {},
   "outputs": [],
   "source": []
  }
 ],
 "metadata": {
  "kernelspec": {
   "display_name": "Python 3.12.0 64-bit",
   "language": "python",
   "name": "python3"
  },
  "language_info": {
   "codemirror_mode": {
    "name": "ipython",
    "version": 3
   },
   "file_extension": ".py",
   "mimetype": "text/x-python",
   "name": "python",
   "nbconvert_exporter": "python",
   "pygments_lexer": "ipython3",
   "version": "3.9.18"
  },
  "vscode": {
   "interpreter": {
    "hash": "32e8181fce7c3e359c2790b917cd539742ff129bf629b8ad82002a107951ad4e"
   }
  }
 },
 "nbformat": 4,
 "nbformat_minor": 2
}
