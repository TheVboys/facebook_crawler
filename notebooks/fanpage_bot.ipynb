{
 "cells": [
  {
   "cell_type": "code",
   "execution_count": 1,
   "metadata": {},
   "outputs": [],
   "source": [
    "from selenium.webdriver.common.by import By\n",
    "from selenium.webdriver import ChromeOptions, Chrome\n",
    "from selenium.webdriver.chrome.service import Service\n",
    "\n",
    "from selenium.common.exceptions import NoSuchElementException\n",
    "\n",
    "\n",
    "from selenium.webdriver.common.action_chains import ActionChains\n",
    "import re\n",
    "import pandas as pd\n",
    "from time import sleep\n",
    "import random\n",
    "import csv"
   ]
  },
  {
   "cell_type": "code",
   "execution_count": 2,
   "metadata": {},
   "outputs": [
    {
     "ename": "SessionNotCreatedException",
     "evalue": "Message: session not created: This version of ChromeDriver only supports Chrome version 122\nCurrent browser version is 124.0.6367.60 with binary path /usr/bin/google-chrome\nStacktrace:\n#0 0x63e8094e4e93 <unknown>\n#1 0x63e8091dcce6 <unknown>\n#2 0x63e80921762b <unknown>\n#3 0x63e8092167f5 <unknown>\n#4 0x63e809211a05 <unknown>\n#5 0x63e80920d6ed <unknown>\n#6 0x63e80925671c <unknown>\n#7 0x63e809249c53 <unknown>\n#8 0x63e80921adb3 <unknown>\n#9 0x63e80921b77e <unknown>\n#10 0x63e8094aa7cb <unknown>\n#11 0x63e8094ae7e5 <unknown>\n#12 0x63e8094980e1 <unknown>\n#13 0x63e8094af372 <unknown>\n#14 0x63e80947c1bf <unknown>\n#15 0x63e8094d3488 <unknown>\n#16 0x63e8094d3683 <unknown>\n#17 0x63e8094e4044 <unknown>\n#18 0x7d8d51094ac3 <unknown>\n",
     "output_type": "error",
     "traceback": [
      "\u001b[0;31m---------------------------------------------------------------------------\u001b[0m",
      "\u001b[0;31mSessionNotCreatedException\u001b[0m                Traceback (most recent call last)",
      "Input \u001b[0;32mIn [2]\u001b[0m, in \u001b[0;36m<cell line: 9>\u001b[0;34m()\u001b[0m\n\u001b[1;32m      5\u001b[0m options\u001b[38;5;241m.\u001b[39mbinary_location \u001b[38;5;241m=\u001b[39m binary_location\n\u001b[1;32m      7\u001b[0m service \u001b[38;5;241m=\u001b[39m Service(executable_path\u001b[38;5;241m=\u001b[39mdriver_location)\n\u001b[0;32m----> 9\u001b[0m browser \u001b[38;5;241m=\u001b[39m \u001b[43mChrome\u001b[49m\u001b[43m(\u001b[49m\u001b[43mservice\u001b[49m\u001b[38;5;241;43m=\u001b[39;49m\u001b[43mservice\u001b[49m\u001b[43m,\u001b[49m\u001b[43m \u001b[49m\u001b[43moptions\u001b[49m\u001b[38;5;241;43m=\u001b[39;49m\u001b[43moptions\u001b[49m\u001b[43m)\u001b[49m\n\u001b[1;32m     10\u001b[0m actions \u001b[38;5;241m=\u001b[39m ActionChains(browser)\n",
      "File \u001b[0;32m~/anaconda3/envs/fb_crawl/lib/python3.9/site-packages/selenium/webdriver/chrome/webdriver.py:45\u001b[0m, in \u001b[0;36mWebDriver.__init__\u001b[0;34m(self, options, service, keep_alive)\u001b[0m\n\u001b[1;32m     42\u001b[0m service \u001b[38;5;241m=\u001b[39m service \u001b[38;5;28;01mif\u001b[39;00m service \u001b[38;5;28;01melse\u001b[39;00m Service()\n\u001b[1;32m     43\u001b[0m options \u001b[38;5;241m=\u001b[39m options \u001b[38;5;28;01mif\u001b[39;00m options \u001b[38;5;28;01melse\u001b[39;00m Options()\n\u001b[0;32m---> 45\u001b[0m \u001b[38;5;28;43msuper\u001b[39;49m\u001b[43m(\u001b[49m\u001b[43m)\u001b[49m\u001b[38;5;241;43m.\u001b[39;49m\u001b[38;5;21;43m__init__\u001b[39;49m\u001b[43m(\u001b[49m\n\u001b[1;32m     46\u001b[0m \u001b[43m    \u001b[49m\u001b[43mbrowser_name\u001b[49m\u001b[38;5;241;43m=\u001b[39;49m\u001b[43mDesiredCapabilities\u001b[49m\u001b[38;5;241;43m.\u001b[39;49m\u001b[43mCHROME\u001b[49m\u001b[43m[\u001b[49m\u001b[38;5;124;43m\"\u001b[39;49m\u001b[38;5;124;43mbrowserName\u001b[39;49m\u001b[38;5;124;43m\"\u001b[39;49m\u001b[43m]\u001b[49m\u001b[43m,\u001b[49m\n\u001b[1;32m     47\u001b[0m \u001b[43m    \u001b[49m\u001b[43mvendor_prefix\u001b[49m\u001b[38;5;241;43m=\u001b[39;49m\u001b[38;5;124;43m\"\u001b[39;49m\u001b[38;5;124;43mgoog\u001b[39;49m\u001b[38;5;124;43m\"\u001b[39;49m\u001b[43m,\u001b[49m\n\u001b[1;32m     48\u001b[0m \u001b[43m    \u001b[49m\u001b[43moptions\u001b[49m\u001b[38;5;241;43m=\u001b[39;49m\u001b[43moptions\u001b[49m\u001b[43m,\u001b[49m\n\u001b[1;32m     49\u001b[0m \u001b[43m    \u001b[49m\u001b[43mservice\u001b[49m\u001b[38;5;241;43m=\u001b[39;49m\u001b[43mservice\u001b[49m\u001b[43m,\u001b[49m\n\u001b[1;32m     50\u001b[0m \u001b[43m    \u001b[49m\u001b[43mkeep_alive\u001b[49m\u001b[38;5;241;43m=\u001b[39;49m\u001b[43mkeep_alive\u001b[49m\u001b[43m,\u001b[49m\n\u001b[1;32m     51\u001b[0m \u001b[43m\u001b[49m\u001b[43m)\u001b[49m\n",
      "File \u001b[0;32m~/anaconda3/envs/fb_crawl/lib/python3.9/site-packages/selenium/webdriver/chromium/webdriver.py:61\u001b[0m, in \u001b[0;36mChromiumDriver.__init__\u001b[0;34m(self, browser_name, vendor_prefix, options, service, keep_alive)\u001b[0m\n\u001b[1;32m     52\u001b[0m executor \u001b[38;5;241m=\u001b[39m ChromiumRemoteConnection(\n\u001b[1;32m     53\u001b[0m     remote_server_addr\u001b[38;5;241m=\u001b[39m\u001b[38;5;28mself\u001b[39m\u001b[38;5;241m.\u001b[39mservice\u001b[38;5;241m.\u001b[39mservice_url,\n\u001b[1;32m     54\u001b[0m     browser_name\u001b[38;5;241m=\u001b[39mbrowser_name,\n\u001b[0;32m   (...)\u001b[0m\n\u001b[1;32m     57\u001b[0m     ignore_proxy\u001b[38;5;241m=\u001b[39moptions\u001b[38;5;241m.\u001b[39m_ignore_local_proxy,\n\u001b[1;32m     58\u001b[0m )\n\u001b[1;32m     60\u001b[0m \u001b[38;5;28;01mtry\u001b[39;00m:\n\u001b[0;32m---> 61\u001b[0m     \u001b[38;5;28;43msuper\u001b[39;49m\u001b[43m(\u001b[49m\u001b[43m)\u001b[49m\u001b[38;5;241;43m.\u001b[39;49m\u001b[38;5;21;43m__init__\u001b[39;49m\u001b[43m(\u001b[49m\u001b[43mcommand_executor\u001b[49m\u001b[38;5;241;43m=\u001b[39;49m\u001b[43mexecutor\u001b[49m\u001b[43m,\u001b[49m\u001b[43m \u001b[49m\u001b[43moptions\u001b[49m\u001b[38;5;241;43m=\u001b[39;49m\u001b[43moptions\u001b[49m\u001b[43m)\u001b[49m\n\u001b[1;32m     62\u001b[0m \u001b[38;5;28;01mexcept\u001b[39;00m \u001b[38;5;167;01mException\u001b[39;00m:\n\u001b[1;32m     63\u001b[0m     \u001b[38;5;28mself\u001b[39m\u001b[38;5;241m.\u001b[39mquit()\n",
      "File \u001b[0;32m~/anaconda3/envs/fb_crawl/lib/python3.9/site-packages/selenium/webdriver/remote/webdriver.py:208\u001b[0m, in \u001b[0;36mWebDriver.__init__\u001b[0;34m(self, command_executor, keep_alive, file_detector, options)\u001b[0m\n\u001b[1;32m    206\u001b[0m \u001b[38;5;28mself\u001b[39m\u001b[38;5;241m.\u001b[39m_authenticator_id \u001b[38;5;241m=\u001b[39m \u001b[38;5;28;01mNone\u001b[39;00m\n\u001b[1;32m    207\u001b[0m \u001b[38;5;28mself\u001b[39m\u001b[38;5;241m.\u001b[39mstart_client()\n\u001b[0;32m--> 208\u001b[0m \u001b[38;5;28;43mself\u001b[39;49m\u001b[38;5;241;43m.\u001b[39;49m\u001b[43mstart_session\u001b[49m\u001b[43m(\u001b[49m\u001b[43mcapabilities\u001b[49m\u001b[43m)\u001b[49m\n",
      "File \u001b[0;32m~/anaconda3/envs/fb_crawl/lib/python3.9/site-packages/selenium/webdriver/remote/webdriver.py:292\u001b[0m, in \u001b[0;36mWebDriver.start_session\u001b[0;34m(self, capabilities)\u001b[0m\n\u001b[1;32m    285\u001b[0m \u001b[38;5;250m\u001b[39m\u001b[38;5;124;03m\"\"\"Creates a new session with the desired capabilities.\u001b[39;00m\n\u001b[1;32m    286\u001b[0m \n\u001b[1;32m    287\u001b[0m \u001b[38;5;124;03m:Args:\u001b[39;00m\n\u001b[1;32m    288\u001b[0m \u001b[38;5;124;03m - capabilities - a capabilities dict to start the session with.\u001b[39;00m\n\u001b[1;32m    289\u001b[0m \u001b[38;5;124;03m\"\"\"\u001b[39;00m\n\u001b[1;32m    291\u001b[0m caps \u001b[38;5;241m=\u001b[39m _create_caps(capabilities)\n\u001b[0;32m--> 292\u001b[0m response \u001b[38;5;241m=\u001b[39m \u001b[38;5;28;43mself\u001b[39;49m\u001b[38;5;241;43m.\u001b[39;49m\u001b[43mexecute\u001b[49m\u001b[43m(\u001b[49m\u001b[43mCommand\u001b[49m\u001b[38;5;241;43m.\u001b[39;49m\u001b[43mNEW_SESSION\u001b[49m\u001b[43m,\u001b[49m\u001b[43m \u001b[49m\u001b[43mcaps\u001b[49m\u001b[43m)\u001b[49m[\u001b[38;5;124m\"\u001b[39m\u001b[38;5;124mvalue\u001b[39m\u001b[38;5;124m\"\u001b[39m]\n\u001b[1;32m    293\u001b[0m \u001b[38;5;28mself\u001b[39m\u001b[38;5;241m.\u001b[39msession_id \u001b[38;5;241m=\u001b[39m response\u001b[38;5;241m.\u001b[39mget(\u001b[38;5;124m\"\u001b[39m\u001b[38;5;124msessionId\u001b[39m\u001b[38;5;124m\"\u001b[39m)\n\u001b[1;32m    294\u001b[0m \u001b[38;5;28mself\u001b[39m\u001b[38;5;241m.\u001b[39mcaps \u001b[38;5;241m=\u001b[39m response\u001b[38;5;241m.\u001b[39mget(\u001b[38;5;124m\"\u001b[39m\u001b[38;5;124mcapabilities\u001b[39m\u001b[38;5;124m\"\u001b[39m)\n",
      "File \u001b[0;32m~/anaconda3/envs/fb_crawl/lib/python3.9/site-packages/selenium/webdriver/remote/webdriver.py:347\u001b[0m, in \u001b[0;36mWebDriver.execute\u001b[0;34m(self, driver_command, params)\u001b[0m\n\u001b[1;32m    345\u001b[0m response \u001b[38;5;241m=\u001b[39m \u001b[38;5;28mself\u001b[39m\u001b[38;5;241m.\u001b[39mcommand_executor\u001b[38;5;241m.\u001b[39mexecute(driver_command, params)\n\u001b[1;32m    346\u001b[0m \u001b[38;5;28;01mif\u001b[39;00m response:\n\u001b[0;32m--> 347\u001b[0m     \u001b[38;5;28;43mself\u001b[39;49m\u001b[38;5;241;43m.\u001b[39;49m\u001b[43merror_handler\u001b[49m\u001b[38;5;241;43m.\u001b[39;49m\u001b[43mcheck_response\u001b[49m\u001b[43m(\u001b[49m\u001b[43mresponse\u001b[49m\u001b[43m)\u001b[49m\n\u001b[1;32m    348\u001b[0m     response[\u001b[38;5;124m\"\u001b[39m\u001b[38;5;124mvalue\u001b[39m\u001b[38;5;124m\"\u001b[39m] \u001b[38;5;241m=\u001b[39m \u001b[38;5;28mself\u001b[39m\u001b[38;5;241m.\u001b[39m_unwrap_value(response\u001b[38;5;241m.\u001b[39mget(\u001b[38;5;124m\"\u001b[39m\u001b[38;5;124mvalue\u001b[39m\u001b[38;5;124m\"\u001b[39m, \u001b[38;5;28;01mNone\u001b[39;00m))\n\u001b[1;32m    349\u001b[0m     \u001b[38;5;28;01mreturn\u001b[39;00m response\n",
      "File \u001b[0;32m~/anaconda3/envs/fb_crawl/lib/python3.9/site-packages/selenium/webdriver/remote/errorhandler.py:229\u001b[0m, in \u001b[0;36mErrorHandler.check_response\u001b[0;34m(self, response)\u001b[0m\n\u001b[1;32m    227\u001b[0m         alert_text \u001b[38;5;241m=\u001b[39m value[\u001b[38;5;124m\"\u001b[39m\u001b[38;5;124malert\u001b[39m\u001b[38;5;124m\"\u001b[39m]\u001b[38;5;241m.\u001b[39mget(\u001b[38;5;124m\"\u001b[39m\u001b[38;5;124mtext\u001b[39m\u001b[38;5;124m\"\u001b[39m)\n\u001b[1;32m    228\u001b[0m     \u001b[38;5;28;01mraise\u001b[39;00m exception_class(message, screen, stacktrace, alert_text)  \u001b[38;5;66;03m# type: ignore[call-arg]  # mypy is not smart enough here\u001b[39;00m\n\u001b[0;32m--> 229\u001b[0m \u001b[38;5;28;01mraise\u001b[39;00m exception_class(message, screen, stacktrace)\n",
      "\u001b[0;31mSessionNotCreatedException\u001b[0m: Message: session not created: This version of ChromeDriver only supports Chrome version 122\nCurrent browser version is 124.0.6367.60 with binary path /usr/bin/google-chrome\nStacktrace:\n#0 0x63e8094e4e93 <unknown>\n#1 0x63e8091dcce6 <unknown>\n#2 0x63e80921762b <unknown>\n#3 0x63e8092167f5 <unknown>\n#4 0x63e809211a05 <unknown>\n#5 0x63e80920d6ed <unknown>\n#6 0x63e80925671c <unknown>\n#7 0x63e809249c53 <unknown>\n#8 0x63e80921adb3 <unknown>\n#9 0x63e80921b77e <unknown>\n#10 0x63e8094aa7cb <unknown>\n#11 0x63e8094ae7e5 <unknown>\n#12 0x63e8094980e1 <unknown>\n#13 0x63e8094af372 <unknown>\n#14 0x63e80947c1bf <unknown>\n#15 0x63e8094d3488 <unknown>\n#16 0x63e8094d3683 <unknown>\n#17 0x63e8094e4044 <unknown>\n#18 0x7d8d51094ac3 <unknown>\n"
     ]
    }
   ],
   "source": [
    "driver_location = '/usr/bin/chromedriver'\n",
    "binary_location = '/usr/bin/google-chrome'\n",
    "\n",
    "options = ChromeOptions()\n",
    "options.binary_location = binary_location\n",
    "\n",
    "service = Service(executable_path=driver_location)\n",
    "\n",
    "browser = Chrome(service=service, options=options)\n",
    "actions = ActionChains(browser)"
   ]
  },
  {
   "cell_type": "code",
   "execution_count": 4,
   "metadata": {},
   "outputs": [],
   "source": [
    "options = ChromeOptions()\n",
    "options.add_experimental_option(\"detach\", True)\n",
    "options.add_argument(\"--disable-extensions\")\n",
    "# options.add_argument(\"--headless\")\n",
    "options.add_argument(\"--incognito\")\n",
    "options.add_argument(\"--window-size=1920x1080\")"
   ]
  },
  {
   "cell_type": "code",
   "execution_count": 5,
   "metadata": {},
   "outputs": [],
   "source": [
    "browser.get(\"https://www.facebook.com/huet.hueuni\")"
   ]
  },
  {
   "cell_type": "code",
   "execution_count": 6,
   "metadata": {},
   "outputs": [],
   "source": [
    "try:\n",
    "    browser.find_element(By.XPATH, \"/html/body/div[1]/div/div[1]/div/div[5]/div/div/div[1]/div/div[2]/div/div/div/div[1]/div\").click()\n",
    "except NoSuchElementException:\n",
    "    sleep(5)\n",
    "    try:\n",
    "        browser.find_element(By.XPATH, \"/html/body/div[1]/div/div[1]/div/div[5]/div/div/div[1]/div/div[2]/div/div/div/div[1]/div\").click()\n",
    "    except NoSuchElementException:\n",
    "        pass"
   ]
  },
  {
   "cell_type": "code",
   "execution_count": 7,
   "metadata": {},
   "outputs": [],
   "source": [
    "browser.execute_script(\"window.scrollTo(0, 1000);\")"
   ]
  },
  {
   "cell_type": "code",
   "execution_count": 8,
   "metadata": {},
   "outputs": [],
   "source": [
    "browser.execute_script(\"window.scrollTo(0, document.body.scrollHeight);\")"
   ]
  },
  {
   "cell_type": "code",
   "execution_count": 9,
   "metadata": {},
   "outputs": [
    {
     "name": "stdout",
     "output_type": "stream",
     "text": [
      "https://www.facebook.com/huet.hueuni/posts/pfbid0dAbTJttRNXWsNDHnUze1j7GCwViLVH3kEajjxTkkLooDRY8T1V7qgV6fty75eofKl?\n",
      "https://www.facebook.com/huet.hueuni/posts/pfbid0FjtiwW7qcgVf31479uTh7dbYJBdarhqoBV832Bn4ETEwXN42g5GfqsX8SCyTeJ29l?\n",
      "https://www.facebook.com/huet.hueuni/posts/pfbid02XcKBkN8EUyN62e9s4ehMYZxqroj9E4jaucSgZPkgTdrcfVKupHHdBGDhfBTH7v8el?\n",
      "https://www.facebook.com/huet.hueuni/posts/pfbid033qMYXb8YfvSeB1cEHHSn7nWy5KURhmVeV9e3Hv9sXnmtJ3uy83kszv77W9Pqog6il?\n",
      "https://www.facebook.com/huet.hueuni/posts/pfbid032jgiMS7wRuT2uGX18SjK5JEfMvMgqSitDYyyVAG7tfLrkAPoFmEbeomZec9ms49jl?\n",
      "https://www.facebook.com/huet.hueuni/posts/pfbid02qDYBnkHsWEaL2WXWYj4H1T9LxmyaznNtwX3xjKmaHZtF9oTcvCMAPy4YLMkZ9EQPl?\n",
      "https://www.facebook.com/huet.hueuni/posts/pfbid02x6vHGfiaiUbfjUT9X1gLMpeGMwdnvLMSKi8JgNz6P8qahYdvLoVoiLHtYFouXvsal?\n",
      "https://www.facebook.com/huet.hueuni/posts/pfbid0wT2NuZix16GQaJZRbxjJNeCKxXLGN8jzAjDw3ZLEXmqhMnmMMZ8HcaUmJ9D8t3DHl?\n",
      "https://www.facebook.com/huet.hueuni/posts/pfbid02Zoer6g9Sxr5nAQKxqBThEbSRyVHpkmPKG73Vz38ceb7gfeLYiVMjsMeWYpy8ho57l?\n",
      "https://www.facebook.com/huet.hueuni/posts/pfbid0XpSLi5oNxrGtWUF2PBUcM9YSnw29RmFKqKEFHePodLxNPxUqY8kCLtd7SoxtZnZ9l?\n",
      "https://www.facebook.com/huet.hueuni/posts/pfbid02J3tiAxH9J3QGcjqtvo2zi3jD3xieYMTu1EtJNCap9FrEx2k8yEZe4f7MGiWhLgiDl?\n",
      "https://www.facebook.com/events/1069498110880909/?\n",
      "https://www.facebook.com/events/411413064718116/?\n",
      "https://www.facebook.com/huet.hueuni/posts/pfbid02vkj1BZKwzxkcLTEgnkeeWpntkC9zYmZYxHfM1vzwBko9wfMwWQuWQPcwFuxE2Jirl?\n",
      "https://www.facebook.com/huet.hueuni/posts/pfbid0KWK6Yqb6MWmohw6UFTwxkLsNyGoPvYy5xnzkzebAmuZfkNbAj9mginHPueodpJg6l?\n"
     ]
    }
   ],
   "source": [
    "browser.execute_script(\"window.scrollTo(0, document.body.scrollHeight);\")\n",
    "post_link = []\n",
    "for i in range(1,50):\n",
    "    try:\n",
    "        browser.execute_script(\"window.scrollTo(0, 1000);\")\n",
    "        # Hover chuột vào post\n",
    "        post = browser.find_element(By.XPATH,\n",
    "                                    f\"/html/body/div[1]/div/div[1]/div/div[3]/div/div/div[1]/div[1]/div/div/div[4]/div[2]/div/div[2]/div/div[{i}]/div/div/div/div/div/div/div/div/div/div/div[2]/div/div/div[2]/div/div[2]/div/div[2]/span/span/span[2]/span\"\n",
    "                                    )\n",
    "        actions.move_to_element(post).perform()\n",
    "        browser.execute_script(\"window.scrollTo(0, 1000);\")\n",
    "\n",
    "        # Lấy link từ post và in ra \n",
    "        a_tag = post.find_element(By.XPATH, \".//a\")\n",
    "        link = a_tag.get_attribute(\"href\")\n",
    "        link = re.sub(r\"__cft__.*\", \"\", link)\n",
    "        print(link)\n",
    "        post_link.append(link)\n",
    "        sleep(2)\n",
    "    except:\n",
    "        browser.execute_script(\"window.scrollTo(0, 1000);\")\n",
    "    if len(post_link) >= 15: break "
   ]
  },
  {
   "cell_type": "code",
   "execution_count": 10,
   "metadata": {},
   "outputs": [
    {
     "name": "stdout",
     "output_type": "stream",
     "text": [
      "Post ID from url1: pfbid0VcLGNeaSU2EVABiBMcTswuZY6nFWbxiwJz2bmVJAMwkF4onVsZKuicMAwqx5EUwpl\n",
      "Post ID from url2: pfbid0QgXhaGSEvUUppimJJrchAokfYo7K2s21HBJnXphR19vg9SrLid9rGHssRjPTRbenl\n",
      "Post ID from url3: 2008246392704353\n",
      "Post ID from url4: 1588004321936628\n"
     ]
    }
   ],
   "source": [
    "import re\n",
    "\n",
    "def extract_post_id(url):\n",
    "    # Define the regular expression pattern to match the post ID\n",
    "    pattern = r\"(?:story_fbid=|posts/|id=|videos/)([^/&?]+)\"\n",
    "    # Search for the pattern in the URL\n",
    "    match = re.search(pattern, url)\n",
    "    # If a match is found, extract the post ID\n",
    "    if match:\n",
    "        post_id = match.group(1)\n",
    "        # Remove any trailing characters after the post ID\n",
    "        post_id = post_id.split(\":\")[0]\n",
    "        return post_id\n",
    "    else:\n",
    "        return None\n",
    "\n",
    "# Test the function with the given URLs | 4 kinds of URLs\n",
    "url1 = \"https://www.facebook.com/permalink.php?story_fbid=pfbid0VcLGNeaSU2EVABiBMcTswuZY6nFWbxiwJz2bmVJAMwkF4onVsZKuicMAwqx5EUwpl&id=100085371855630&\"\n",
    "url2 = \"https://www.facebook.com/THPTBinhDien.Hue/posts/pfbid0QgXhaGSEvUUppimJJrchAokfYo7K2s21HBJnXphR19vg9SrLid9rGHssRjPTRbenl?\"\n",
    "url3 = \"https://www.facebook.com/THPTBinhDien.Hue/posts/2008246392704353:2008246392704353?\"\n",
    "url4 = \"https://www.facebook.com/doantruongthptALuoi/videos/1588004321936628/?\"\n",
    "\n",
    "post_id1 = extract_post_id(url1)\n",
    "post_id2 = extract_post_id(url2)\n",
    "post_id3 = extract_post_id(url3)\n",
    "post_id4 = extract_post_id(url4)\n",
    "\n",
    "print(\"Post ID from url1:\", post_id1)\n",
    "print(\"Post ID from url2:\", post_id2)\n",
    "print(\"Post ID from url3:\", post_id3)\n",
    "print(\"Post ID from url4:\", post_id4)"
   ]
  },
  {
   "cell_type": "code",
   "execution_count": null,
   "metadata": {},
   "outputs": [],
   "source": []
  }
 ],
 "metadata": {
  "kernelspec": {
   "display_name": "fb_crawl",
   "language": "python",
   "name": "python3"
  },
  "language_info": {
   "codemirror_mode": {
    "name": "ipython",
    "version": 3
   },
   "file_extension": ".py",
   "mimetype": "text/x-python",
   "name": "python",
   "nbconvert_exporter": "python",
   "pygments_lexer": "ipython3",
   "version": "3.9.18"
  }
 },
 "nbformat": 4,
 "nbformat_minor": 2
}
