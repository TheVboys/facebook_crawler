{
 "cells": [
  {
   "cell_type": "code",
   "execution_count": 1,
   "metadata": {},
   "outputs": [],
   "source": [
    "from selenium.webdriver.common.by import By\n",
    "from selenium.webdriver import ChromeOptions, Chrome\n",
    "from selenium.webdriver.chrome.service import Service\n",
    "\n",
    "from selenium.common.exceptions import NoSuchElementException\n",
    "\n",
    "\n",
    "from selenium.webdriver.common.action_chains import ActionChains\n",
    "import re\n",
    "import pandas as pd\n",
    "from time import sleep\n",
    "import random\n",
    "import csv"
   ]
  },
  {
   "cell_type": "code",
   "execution_count": 3,
   "metadata": {},
   "outputs": [],
   "source": [
    "driver_location = '/usr/bin/chromedriver'\n",
    "binary_location = '/usr/bin/google-chrome'\n",
    "\n",
    "options = ChromeOptions()\n",
    "options.binary_location = binary_location\n",
    "\n",
    "service = Service(executable_path=driver_location)\n",
    "\n",
    "browser = Chrome(service=service, options=options)\n",
    "actions = ActionChains(browser)"
   ]
  },
  {
   "cell_type": "code",
   "execution_count": 4,
   "metadata": {},
   "outputs": [],
   "source": [
    "options = ChromeOptions()\n",
    "options.add_experimental_option(\"detach\", True)\n",
    "options.add_argument(\"--disable-extensions\")\n",
    "# options.add_argument(\"--headless\")\n",
    "options.add_argument(\"--incognito\")\n",
    "options.add_argument(\"--window-size=1920x1080\")"
   ]
  },
  {
   "cell_type": "code",
   "execution_count": 5,
   "metadata": {},
   "outputs": [],
   "source": [
    "browser.get(\"https://www.facebook.com/huet.hueuni\")"
   ]
  },
  {
   "cell_type": "code",
   "execution_count": 6,
   "metadata": {},
   "outputs": [],
   "source": [
    "try:\n",
    "    browser.find_element(By.XPATH, \"/html/body/div[1]/div/div[1]/div/div[5]/div/div/div[1]/div/div[2]/div/div/div/div[1]/div\").click()\n",
    "except NoSuchElementException:\n",
    "    sleep(5)\n",
    "    try:\n",
    "        browser.find_element(By.XPATH, \"/html/body/div[1]/div/div[1]/div/div[5]/div/div/div[1]/div/div[2]/div/div/div/div[1]/div\").click()\n",
    "    except NoSuchElementException:\n",
    "        pass"
   ]
  },
  {
   "cell_type": "code",
   "execution_count": 7,
   "metadata": {},
   "outputs": [],
   "source": [
    "browser.execute_script(\"window.scrollTo(0, 1000);\")"
   ]
  },
  {
   "cell_type": "code",
   "execution_count": 8,
   "metadata": {},
   "outputs": [],
   "source": [
    "browser.execute_script(\"window.scrollTo(0, document.body.scrollHeight);\")"
   ]
  },
  {
   "cell_type": "code",
   "execution_count": 9,
   "metadata": {},
   "outputs": [
    {
     "name": "stdout",
     "output_type": "stream",
     "text": [
      "https://www.facebook.com/huet.hueuni/posts/pfbid0dAbTJttRNXWsNDHnUze1j7GCwViLVH3kEajjxTkkLooDRY8T1V7qgV6fty75eofKl?\n",
      "https://www.facebook.com/huet.hueuni/posts/pfbid0FjtiwW7qcgVf31479uTh7dbYJBdarhqoBV832Bn4ETEwXN42g5GfqsX8SCyTeJ29l?\n",
      "https://www.facebook.com/huet.hueuni/posts/pfbid02XcKBkN8EUyN62e9s4ehMYZxqroj9E4jaucSgZPkgTdrcfVKupHHdBGDhfBTH7v8el?\n",
      "https://www.facebook.com/huet.hueuni/posts/pfbid033qMYXb8YfvSeB1cEHHSn7nWy5KURhmVeV9e3Hv9sXnmtJ3uy83kszv77W9Pqog6il?\n",
      "https://www.facebook.com/huet.hueuni/posts/pfbid032jgiMS7wRuT2uGX18SjK5JEfMvMgqSitDYyyVAG7tfLrkAPoFmEbeomZec9ms49jl?\n",
      "https://www.facebook.com/huet.hueuni/posts/pfbid02qDYBnkHsWEaL2WXWYj4H1T9LxmyaznNtwX3xjKmaHZtF9oTcvCMAPy4YLMkZ9EQPl?\n",
      "https://www.facebook.com/huet.hueuni/posts/pfbid02x6vHGfiaiUbfjUT9X1gLMpeGMwdnvLMSKi8JgNz6P8qahYdvLoVoiLHtYFouXvsal?\n",
      "https://www.facebook.com/huet.hueuni/posts/pfbid0wT2NuZix16GQaJZRbxjJNeCKxXLGN8jzAjDw3ZLEXmqhMnmMMZ8HcaUmJ9D8t3DHl?\n",
      "https://www.facebook.com/huet.hueuni/posts/pfbid02Zoer6g9Sxr5nAQKxqBThEbSRyVHpkmPKG73Vz38ceb7gfeLYiVMjsMeWYpy8ho57l?\n",
      "https://www.facebook.com/huet.hueuni/posts/pfbid0XpSLi5oNxrGtWUF2PBUcM9YSnw29RmFKqKEFHePodLxNPxUqY8kCLtd7SoxtZnZ9l?\n",
      "https://www.facebook.com/huet.hueuni/posts/pfbid02J3tiAxH9J3QGcjqtvo2zi3jD3xieYMTu1EtJNCap9FrEx2k8yEZe4f7MGiWhLgiDl?\n",
      "https://www.facebook.com/events/1069498110880909/?\n",
      "https://www.facebook.com/events/411413064718116/?\n",
      "https://www.facebook.com/huet.hueuni/posts/pfbid02vkj1BZKwzxkcLTEgnkeeWpntkC9zYmZYxHfM1vzwBko9wfMwWQuWQPcwFuxE2Jirl?\n",
      "https://www.facebook.com/huet.hueuni/posts/pfbid0KWK6Yqb6MWmohw6UFTwxkLsNyGoPvYy5xnzkzebAmuZfkNbAj9mginHPueodpJg6l?\n"
     ]
    }
   ],
   "source": [
    "browser.execute_script(\"window.scrollTo(0, document.body.scrollHeight);\")\n",
    "post_link = []\n",
    "for i in range(1,50):\n",
    "    try:\n",
    "        browser.execute_script(\"window.scrollTo(0, 1000);\")\n",
    "        # Hover chuột vào post\n",
    "        post = browser.find_element(By.XPATH,\n",
    "                                    f\"/html/body/div[1]/div/div[1]/div/div[3]/div/div/div[1]/div[1]/div/div/div[4]/div[2]/div/div[2]/div/div[{i}]/div/div/div/div/div/div/div/div/div/div/div[2]/div/div/div[2]/div/div[2]/div/div[2]/span/span/span[2]/span\"\n",
    "                                    )\n",
    "        actions.move_to_element(post).perform()\n",
    "        browser.execute_script(\"window.scrollTo(0, 1000);\")\n",
    "\n",
    "        # Lấy link từ post và in ra \n",
    "        a_tag = post.find_element(By.XPATH, \".//a\")\n",
    "        link = a_tag.get_attribute(\"href\")\n",
    "        link = re.sub(r\"__cft__.*\", \"\", link)\n",
    "        print(link)\n",
    "        post_link.append(link)\n",
    "        sleep(2)\n",
    "    except:\n",
    "        browser.execute_script(\"window.scrollTo(0, 1000);\")\n",
    "    if len(post_link) >= 15: break "
   ]
  },
  {
   "cell_type": "code",
   "execution_count": 10,
   "metadata": {},
   "outputs": [
    {
     "name": "stdout",
     "output_type": "stream",
     "text": [
      "Post ID from url1: pfbid0VcLGNeaSU2EVABiBMcTswuZY6nFWbxiwJz2bmVJAMwkF4onVsZKuicMAwqx5EUwpl\n",
      "Post ID from url2: pfbid0QgXhaGSEvUUppimJJrchAokfYo7K2s21HBJnXphR19vg9SrLid9rGHssRjPTRbenl\n",
      "Post ID from url3: 2008246392704353\n",
      "Post ID from url4: 1588004321936628\n"
     ]
    }
   ],
   "source": [
    "import re\n",
    "\n",
    "def extract_post_id(url):\n",
    "    # Define the regular expression pattern to match the post ID\n",
    "    pattern = r\"(?:story_fbid=|posts/|id=|videos/)([^/&?]+)\"\n",
    "    # Search for the pattern in the URL\n",
    "    match = re.search(pattern, url)\n",
    "    # If a match is found, extract the post ID\n",
    "    if match:\n",
    "        post_id = match.group(1)\n",
    "        # Remove any trailing characters after the post ID\n",
    "        post_id = post_id.split(\":\")[0]\n",
    "        return post_id\n",
    "    else:\n",
    "        return None\n",
    "\n",
    "# Test the function with the given URLs | 4 kinds of URLs\n",
    "url1 = \"https://www.facebook.com/permalink.php?story_fbid=pfbid0VcLGNeaSU2EVABiBMcTswuZY6nFWbxiwJz2bmVJAMwkF4onVsZKuicMAwqx5EUwpl&id=100085371855630&\"\n",
    "url2 = \"https://www.facebook.com/THPTBinhDien.Hue/posts/pfbid0QgXhaGSEvUUppimJJrchAokfYo7K2s21HBJnXphR19vg9SrLid9rGHssRjPTRbenl?\"\n",
    "url3 = \"https://www.facebook.com/THPTBinhDien.Hue/posts/2008246392704353:2008246392704353?\"\n",
    "url4 = \"https://www.facebook.com/doantruongthptALuoi/videos/1588004321936628/?\"\n",
    "\n",
    "post_id1 = extract_post_id(url1)\n",
    "post_id2 = extract_post_id(url2)\n",
    "post_id3 = extract_post_id(url3)\n",
    "post_id4 = extract_post_id(url4)\n",
    "\n",
    "print(\"Post ID from url1:\", post_id1)\n",
    "print(\"Post ID from url2:\", post_id2)\n",
    "print(\"Post ID from url3:\", post_id3)\n",
    "print(\"Post ID from url4:\", post_id4)"
   ]
  },
  {
   "cell_type": "code",
   "execution_count": null,
   "metadata": {},
   "outputs": [],
   "source": []
  }
 ],
 "metadata": {
  "kernelspec": {
   "display_name": "fb_crawl",
   "language": "python",
   "name": "python3"
  },
  "language_info": {
   "codemirror_mode": {
    "name": "ipython",
    "version": 3
   },
   "file_extension": ".py",
   "mimetype": "text/x-python",
   "name": "python",
   "nbconvert_exporter": "python",
   "pygments_lexer": "ipython3",
   "version": "3.9.18"
  }
 },
 "nbformat": 4,
 "nbformat_minor": 2
}
