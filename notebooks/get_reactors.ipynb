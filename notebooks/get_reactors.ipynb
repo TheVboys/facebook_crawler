{
 "cells": [
  {
   "cell_type": "code",
   "execution_count": 1,
   "metadata": {},
   "outputs": [
    {
     "name": "stderr",
     "output_type": "stream",
     "text": [
      "/home/admin1/anaconda3/envs/fb_crawl/lib/python3.9/site-packages/tqdm/auto.py:21: TqdmWarning: IProgress not found. Please update jupyter and ipywidgets. See https://ipywidgets.readthedocs.io/en/stable/user_install.html\n",
      "  from .autonotebook import tqdm as notebook_tqdm\n"
     ]
    }
   ],
   "source": [
    "from facebook_scraper import *\n",
    "from facebook_scraper import get_posts"
   ]
  },
  {
   "cell_type": "code",
   "execution_count": 2,
   "metadata": {},
   "outputs": [
    {
     "data": {
      "text/plain": [
       "[]"
      ]
     },
     "execution_count": 2,
     "metadata": {},
     "output_type": "execute_result"
    }
   ],
   "source": [
    "FANPAGE_LINK = \"huet.hueuni\"\n",
    "post_list = []\n",
    "for post in get_posts(FANPAGE_LINK, start_url=\"\",\n",
    "                    options={\"comments\": True, \"reactions\": True, \"allow_extra_requests\": True}, \n",
    "                    extra_info=True, pages=10, cookies=\"../cookies/facebook_cookies.txt\"):\n",
    "    post_list.append(post)\n",
    "post_list"
   ]
  },
  {
   "cell_type": "code",
   "execution_count": 3,
   "metadata": {},
   "outputs": [],
   "source": [
    "from facebook_scraper import get_reactors\n",
    "links = []\n",
    "names = []\n",
    "POST = \"pfbid0Tw2UrqU9T7gymaEqPoaLS7jhKq1FbYU6R9R8akEJThKmnTSmQaRVKqayZd8oZp87l\"\n",
    "for reactors in get_reactors(POST, cookies='../cookies/facebook_cookies.txt',\n",
    "                      options={\"allow_extra_requests\": True,\n",
    "                               \"reactions\": True, 'reactors': True},\n",
    "                     ):\n",
    "    links.append(reactors[\"link\"])\n",
    "    names.append(reactors[\"name\"])"
   ]
  },
  {
   "cell_type": "code",
   "execution_count": 4,
   "metadata": {},
   "outputs": [
    {
     "data": {
      "text/plain": [
       "['https://facebook.com/hoang.iangw?eav=AfaorxChbv4My4MtTl7wRr8w3MQnCfiDeQ0zSu0FBhgyaZIuc5LjNsDI6G-g9cP0aWc&fref=pb&paipv=0',\n",
       " 'https://facebook.com/profile.php?id=100039100239177&eav=AfZ2jcbR4zpYUEkNq_yIRemmPIlkf1znJihtDXoxpfmGX6-LZCJX43eGm2QbJ459OGk&fref=pb&paipv=0',\n",
       " 'https://facebook.com/duc.nguyenthanh.1422409?eav=Afb_n_Xmbxxt_8F8rtvwysgtkE3nA0dnus1UiYvtGwElQPlVI9n6YM58K2tDWb4vUw8&fref=pb&paipv=0',\n",
       " 'https://facebook.com/suu.ca.21?eav=AfbU2X_vPYtXQlQEz3IkpPnmlsgMS-hMnziOcdM7X_32HNRtjJYSQes4VU-lSWMK7hc&fref=pb&paipv=0',\n",
       " 'https://facebook.com/profile.php?id=100027236988414&eav=AfYnzvHLr8yOfqvs--iXMMTyNLyIluLZrlyvwomLm5DmCB0USiwaOiEMDDrX8oDS4A8&fref=pb&paipv=0',\n",
       " 'https://facebook.com/profile.php?id=100025348770975&eav=AfbxkYWm5wyz8wKR3TGwbrk5wCFQE-vuXGDxxttlhhAfdrVkTZWrVbzhkzCHd8ltFT0&fref=pb&paipv=0',\n",
       " 'https://facebook.com/profile.php?id=100010696665782&eav=AfbPHP0q2DWLXZlVOCW_QbURJoA7cPFD9-TmLpot_xiDAckrxN4apUHvp42orB2tiGk&fref=pb&paipv=0',\n",
       " 'https://facebook.com/profile.php?id=100009272519201&eav=AfZNnrWADYAMT63Jx-H_zMQnKbwNWP55RjDeM4iULVui9eVxg4cYH9xTURkRyeoYuVY&fref=pb&paipv=0',\n",
       " 'https://facebook.com/kudat281?eav=AfbY2Cl1Y_lmAOL9dHU9AARKVduOZFr7iF-V7znEljfaMio57nV50LolTOE_wTP2vWw&fref=pb&paipv=0',\n",
       " 'https://facebook.com/hodacthaison?eav=Afb5cq5NYeqPc3957FjC6XCwGrM4kvMdT9KSlGGFA6wYc07rI0dZIpH03cgW2y4E1XU&fref=pb&paipv=0',\n",
       " 'https://facebook.com/nguyenducvinhquang?eav=AfaxI3GOPqkE86iY-L0uK4agiXb6aFo6n8Nbf6yayG2Tz4QTR3gFFUnwDQBZLuGf7Y8&fref=pb&paipv=0',\n",
       " 'https://facebook.com/tuat.tran.52?eav=AfYM8qJlSa9u4y1ghPOjJ2qYQ2Bsyv9OCV0XF6MuIH9a655d1Ofb5XvKgfBGd5DuVPI&fref=pb&paipv=0',\n",
       " 'https://facebook.com/nhimnguyen812?eav=Afbyn-T4HL7iOCH6TpTk_JpRtNENg2V5rD3SvoGtbUFJSsirwF4Am92FJ0B0dHXNwlg&fref=pb&paipv=0',\n",
       " 'https://facebook.com/lich.q.nguyen?eav=AfZXU9TWj6NYvva4dCQ2xHkTdSqSfWWB3wNXM-gxeuD0fiMVuCUMFaCAJOLveh0Atu0&fref=pb&paipv=0',\n",
       " 'https://facebook.com/profile.php?id=100000191990345&eav=AfbKt_pYClsqtLRQuG-4FmaU1CZrFIYDGbFOOKrl5SlbigQxHtlHPZ-fJNDRrg8c_zI&fref=pb&paipv=0',\n",
       " 'https://facebook.com/huynh.linh.52?eav=Afa1Eh4x2RjXMuUIyM50unSBXbeXuHwdrSeUwxfHfHcX8Op8J196y48JRZyzseMdjkY&fref=pb&paipv=0',\n",
       " 'https://facebook.com/profile.php?id=1556416498&eav=AfbqewcP5_nzJgJZfBE-LwhKSah57Fy0GreEYNWOYzboL_BAgqeo7MPmYbbLw4bEByM&fref=pb&paipv=0',\n",
       " 'https://facebook.com/bim.cupi?eav=AfZOtKpq6TnSOV99T4Nw3IAPHZb7MU5GaGXLxLIlInsxwGq5zHxPMBkszF1HaqxKUxo&fref=pb&paipv=0',\n",
       " 'https://facebook.com/huet.hueuni?eav=AfZrtBcRgrvN2jMY-lkKNMXZdwRyVQ5Koi4vzZLob-2du_0ClQKaltGyGRQA7QaMDYs&fref=pb&paipv=0',\n",
       " 'https://facebook.com/huet.clbroboticsai?eav=Afat0UZsWOVFFs3by8r5r7i6DtEtlyNZq9c0lCv9FQ0Md_puvgWF-FehkggyojYBe3g&fref=pb&paipv=0']"
      ]
     },
     "execution_count": 4,
     "metadata": {},
     "output_type": "execute_result"
    }
   ],
   "source": [
    "links"
   ]
  },
  {
   "cell_type": "code",
   "execution_count": 5,
   "metadata": {},
   "outputs": [],
   "source": [
    "import facebook_scraper as fs\n",
    "\n",
    "# get POST_ID from the URL of the post which can have the following structure:\n",
    "# https://www.facebook.com/USER/posts/POST_ID\n",
    "# https://www.facebook.com/groups/GROUP_ID/posts/POST_ID\n",
    "POST_ID = \"pfbid02NsuAiBU9o1ouwBrw1vYAQ7khcVXvz8F8zMvkVat9UJ6uiwdgojgddQRLpXcVBqYbl\"\n",
    "\n",
    "# number of comments to download -- set this to True to download all comments\n",
    "MAX_COMMENTS = 100\n",
    "\n",
    "# get the post (this gives a generator)\n",
    "gen = fs.get_posts(\n",
    "    post_urls=[POST_ID],\n",
    "    options={\"allow_extra_requests\": True,\n",
    "                               \"reactions\": True, 'reactors': True},\n",
    "                    \n",
    ")"
   ]
  },
  {
   "cell_type": "code",
   "execution_count": 6,
   "metadata": {},
   "outputs": [
    {
     "data": {
      "text/plain": [
       "{'original_request_url': 'pfbid02NsuAiBU9o1ouwBrw1vYAQ7khcVXvz8F8zMvkVat9UJ6uiwdgojgddQRLpXcVBqYbl',\n",
       " 'post_url': 'https://m.facebook.com/pfbid02NsuAiBU9o1ouwBrw1vYAQ7khcVXvz8F8zMvkVat9UJ6uiwdgojgddQRLpXcVBqYbl'}"
      ]
     },
     "execution_count": 6,
     "metadata": {},
     "output_type": "execute_result"
    }
   ],
   "source": [
    "post = next(gen)\n",
    "post"
   ]
  },
  {
   "cell_type": "code",
   "execution_count": null,
   "metadata": {},
   "outputs": [],
   "source": []
  }
 ],
 "metadata": {
  "kernelspec": {
   "display_name": "fb_crawl",
   "language": "python",
   "name": "python3"
  },
  "language_info": {
   "codemirror_mode": {
    "name": "ipython",
    "version": 3
   },
   "file_extension": ".py",
   "mimetype": "text/x-python",
   "name": "python",
   "nbconvert_exporter": "python",
   "pygments_lexer": "ipython3",
   "version": "3.9.18"
  }
 },
 "nbformat": 4,
 "nbformat_minor": 2
}
