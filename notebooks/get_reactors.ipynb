{
 "cells": [
  {
   "cell_type": "code",
   "execution_count": 1,
   "metadata": {},
   "outputs": [
    {
     "name": "stderr",
     "output_type": "stream",
     "text": [
      "/home/admin1/anaconda3/envs/fb_crawl/lib/python3.9/site-packages/tqdm/auto.py:21: TqdmWarning: IProgress not found. Please update jupyter and ipywidgets. See https://ipywidgets.readthedocs.io/en/stable/user_install.html\n",
      "  from .autonotebook import tqdm as notebook_tqdm\n"
     ]
    }
   ],
   "source": [
    "from facebook_scraper import *\n",
    "from facebook_scraper import get_posts"
   ]
  },
  {
   "cell_type": "code",
   "execution_count": 6,
   "metadata": {},
   "outputs": [
    {
     "data": {
      "text/plain": [
       "[]"
      ]
     },
     "execution_count": 6,
     "metadata": {},
     "output_type": "execute_result"
    }
   ],
   "source": [
    "FANPAGE_LINK = \"huet.hueuni\"\n",
    "post_list = []\n",
    "for post in get_posts(FANPAGE_LINK, start_url=\"\",\n",
    "                    options={\"comments\": True, \"reactions\": True, \"allow_extra_requests\": True}, \n",
    "                    extra_info=True, pages=10, cookies=\"../cookies/facebook_cookies.txt\"):\n",
    "    post_list.append(post)\n",
    "post_list"
   ]
  },
  {
   "cell_type": "code",
   "execution_count": 8,
   "metadata": {},
   "outputs": [],
   "source": [
    "from facebook_scraper import get_reactors\n",
    "links = []\n",
    "names = []\n",
    "POST = \"pfbid0Tw2UrqU9T7gymaEqPoaLS7jhKq1FbYU6R9R8akEJThKmnTSmQaRVKqayZd8oZp87l\"\n",
    "for reactors in get_reactors(POST, cookies='../cookies/facebook_cookies.txt',\n",
    "                      options={\"allow_extra_requests\": True,\n",
    "                               \"reactions\": True, 'reactors': True},\n",
    "                     ):\n",
    "    links.append(reactors[\"link\"])\n",
    "    names.append(reactors[\"name\"])"
   ]
  },
  {
   "cell_type": "code",
   "execution_count": 14,
   "metadata": {},
   "outputs": [
    {
     "data": {
      "text/plain": [
       "['https://facebook.com/profile.php?id=100039100239177&eav=AfZjw5AsOgXsXSxp9QoRK_BDrTYO5JgZsLwjjEoqmmJJtQm82MoWAxhT7YCLZdKJxHI&fref=pb&paipv=0',\n",
       " 'https://facebook.com/duc.nguyenthanh.1422409?eav=Afb_0gQBWpeEzJMMA_6qqNgdw5aGRKUickyjNFBQhx3qWcKS_vcmpmgnKaDKnOj2xPs&fref=pb&paipv=0',\n",
       " 'https://facebook.com/suu.ca.21?eav=AfaZ8G2pa8Q_GGxisB1xTNQBi5vzJND4XDYMaX0CjHQyC3MSsFfEDlnLfBUKHxgUKJQ&fref=pb&paipv=0',\n",
       " 'https://facebook.com/profile.php?id=100027236988414&eav=AfZqFXateHMkZwtbN9hx41qZjHaADlnmStTaOWICjvsuxs6dUJjewgaubG-B5sScacg&fref=pb&paipv=0',\n",
       " 'https://facebook.com/profile.php?id=100025348770975&eav=Afa3ONKTT8SOTahvG7ixNkwb-EbodArwYpXju-hJsT4Df-P59Q28y1VAOmBb_CQ6XGc&fref=pb&paipv=0',\n",
       " 'https://facebook.com/profile.php?id=100010696665782&eav=AfYSjtrIfpz032Uj6GPxp-l63YjY2wAeC3Wj6XpIDSh9M9Cl_V_-AQgxtLV-IJ96Pew&fref=pb&paipv=0',\n",
       " 'https://facebook.com/profile.php?id=100009272519201&eav=AfbeRTH8Txb9mOnCPyMJEXeCijGfFiuRinlmatQbUHAGq9LXpIUVU4lntF5s40WU7yk&fref=pb&paipv=0',\n",
       " 'https://facebook.com/kudat281?eav=AfYDgZrm6gr2kD0PjXaK2-omwbciuGgy00MW-3biUcXujsS9hI4X-Q9AfJXMIfPF1JM&fref=pb&paipv=0',\n",
       " 'https://facebook.com/hodacthaison?eav=AfYBJWDiuaK7K-8DMoeZyHnDTHn20Qw2KtnjxUMpQFEt187dAQal185uiMpHns7PKP8&fref=pb&paipv=0',\n",
       " 'https://facebook.com/nguyenducvinhquang?eav=AfZFCbfKR_IUGalk2qLNpiR0F3Hx5opoB6yy6XQUQZJ5puAoPGfaulyHSX-fEb1eMEw&fref=pb&paipv=0',\n",
       " 'https://facebook.com/tuat.tran.52?eav=AfaOQawCjP-eqZbB8lMRN7E5SJzsUYEAqt8Pi0JUfTVx9Q84p5idlfCqmYtxFvesel4&fref=pb&paipv=0',\n",
       " 'https://facebook.com/nhimnguyen812?eav=AfbjGjS3CBEoFFuwF_Xmc42kfcIbAqDzLDYLNxQ1IGjXgrcDaACgpucBrq9kMlzdSgg&fref=pb&paipv=0',\n",
       " 'https://facebook.com/lich.q.nguyen?eav=AfZZqqylN3g_utvgyBAkjA_uY0tEtDgwbu2_bQNfsNedcbh-pgKJWtaCjuLM6wxUVYc&fref=pb&paipv=0',\n",
       " 'https://facebook.com/profile.php?id=100000191990345&eav=AfYTPfxMabQ3N9c1H1g4_aRodsHQwcwTeyUtu3f6TuuDKWaL8SRkiUvDtepxqljao30&fref=pb&paipv=0',\n",
       " 'https://facebook.com/huynh.linh.52?eav=AfbVP-XiEpUWHPZ5cELeldZCS1ZgPZcAHJ4-nxtgyl74YyiQGvlJ1F9n_nRPAPAVFFs&fref=pb&paipv=0',\n",
       " 'https://facebook.com/vh112?eav=AfZ81ZCecnFNTp_M7A9HHFpEkPfAqj6L7X4JaEvUsarwtbwuSaOq1G28Q5pmSLwOAmw&fref=pb&paipv=0',\n",
       " 'https://facebook.com/bim.cupi?eav=AfaBoZd9CzhDoDogDv7XybLC60SiMoDP-aGIdVsQvux8Aqii0V6bvSQFkij-9jMpWkI&fref=pb&paipv=0',\n",
       " 'https://facebook.com/huet.hueuni?eav=Afaglf1-SkDwVK4Jcn5p5LP1AX1zeWqSr5Lu-Ui-ouoHC2-vZABCa838D9TOegBBomI&fref=pb&paipv=0',\n",
       " 'https://facebook.com/huet.roboticsai?eav=AfY66DQu_iKPK8JOjYEJSR69_XUaCCKL4Cx2LEEIs24Zwokp59scC4amL3z3mGZOijw&fref=pb&paipv=0']"
      ]
     },
     "execution_count": 14,
     "metadata": {},
     "output_type": "execute_result"
    }
   ],
   "source": [
    "links"
   ]
  },
  {
   "cell_type": "code",
   "execution_count": 9,
   "metadata": {},
   "outputs": [],
   "source": [
    "import facebook_scraper as fs\n",
    "\n",
    "# get POST_ID from the URL of the post which can have the following structure:\n",
    "# https://www.facebook.com/USER/posts/POST_ID\n",
    "# https://www.facebook.com/groups/GROUP_ID/posts/POST_ID\n",
    "POST_ID = \"pfbid02NsuAiBU9o1ouwBrw1vYAQ7khcVXvz8F8zMvkVat9UJ6uiwdgojgddQRLpXcVBqYbl\"\n",
    "\n",
    "# number of comments to download -- set this to True to download all comments\n",
    "MAX_COMMENTS = 100\n",
    "\n",
    "# get the post (this gives a generator)\n",
    "gen = fs.get_posts(\n",
    "    post_urls=[POST_ID],\n",
    "    options={\"allow_extra_requests\": True,\n",
    "                               \"reactions\": True, 'reactors': True},\n",
    "                    \n",
    ")"
   ]
  },
  {
   "cell_type": "code",
   "execution_count": 13,
   "metadata": {},
   "outputs": [
    {
     "data": {
      "text/plain": [
       "{'original_request_url': 'pfbid02NsuAiBU9o1ouwBrw1vYAQ7khcVXvz8F8zMvkVat9UJ6uiwdgojgddQRLpXcVBqYbl',\n",
       " 'post_url': 'https://m.facebook.com/pfbid02NsuAiBU9o1ouwBrw1vYAQ7khcVXvz8F8zMvkVat9UJ6uiwdgojgddQRLpXcVBqYbl'}"
      ]
     },
     "execution_count": 13,
     "metadata": {},
     "output_type": "execute_result"
    }
   ],
   "source": [
    "post = next(gen)\n",
    "post"
   ]
  }
 ],
 "metadata": {
  "kernelspec": {
   "display_name": "fb_crawl",
   "language": "python",
   "name": "python3"
  },
  "language_info": {
   "codemirror_mode": {
    "name": "ipython",
    "version": 3
   },
   "file_extension": ".py",
   "mimetype": "text/x-python",
   "name": "python",
   "nbconvert_exporter": "python",
   "pygments_lexer": "ipython3",
   "version": "3.9.18"
  }
 },
 "nbformat": 4,
 "nbformat_minor": 2
}
