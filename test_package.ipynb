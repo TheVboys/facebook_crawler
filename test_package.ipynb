{
 "cells": [
  {
   "cell_type": "code",
   "execution_count": 1,
   "metadata": {},
   "outputs": [
    {
     "name": "stdout",
     "output_type": "stream",
     "text": [
      "Collecting git+https://github.com/kevinzg/facebook-scraper.git"
     ]
    },
    {
     "name": "stderr",
     "output_type": "stream",
     "text": [
      "  Running command git clone --filter=blob:none --quiet https://github.com/kevinzg/facebook-scraper.git 'C:\\Users\\Administrator\\AppData\\Local\\Temp\\pip-req-build-vsyfe0bt'\n"
     ]
    },
    {
     "name": "stdout",
     "output_type": "stream",
     "text": [
      "\n",
      "  Cloning https://github.com/kevinzg/facebook-scraper.git to c:\\users\\administrator\\appdata\\local\\temp\\pip-req-build-vsyfe0bt\n",
      "  Resolved https://github.com/kevinzg/facebook-scraper.git to commit 567711fbab3e014504a1d4f33f882c2b29d71584\n",
      "  Installing build dependencies: started\n",
      "  Installing build dependencies: finished with status 'done'\n",
      "  Getting requirements to build wheel: started\n",
      "  Getting requirements to build wheel: finished with status 'done'\n",
      "  Preparing metadata (pyproject.toml): started\n",
      "  Preparing metadata (pyproject.toml): finished with status 'done'\n",
      "Collecting dateparser<2.0.0,>=1.0.0 (from facebook-scraper==0.2.59)\n",
      "  Downloading dateparser-1.2.0-py2.py3-none-any.whl.metadata (28 kB)\n",
      "Collecting demjson3<4.0.0,>=3.0.5 (from facebook-scraper==0.2.59)\n",
      "  Downloading demjson3-3.0.6.tar.gz (131 kB)\n",
      "     ------------------------------------ 131.5/131.5 kB 969.9 kB/s eta 0:00:00\n",
      "  Preparing metadata (setup.py): started\n",
      "  Preparing metadata (setup.py): finished with status 'done'\n",
      "Collecting requests-html<0.11.0,>=0.10.0 (from facebook-scraper==0.2.59)\n",
      "  Downloading requests_html-0.10.0-py3-none-any.whl.metadata (15 kB)\n",
      "Requirement already satisfied: python-dateutil in c:\\users\\administrator\\miniconda3\\lib\\site-packages (from dateparser<2.0.0,>=1.0.0->facebook-scraper==0.2.59) (2.9.0.post0)\n",
      "Requirement already satisfied: pytz in c:\\users\\administrator\\miniconda3\\lib\\site-packages (from dateparser<2.0.0,>=1.0.0->facebook-scraper==0.2.59) (2024.1)\n",
      "Collecting regex!=2019.02.19,!=2021.8.27 (from dateparser<2.0.0,>=1.0.0->facebook-scraper==0.2.59)\n",
      "  Downloading regex-2023.12.25-cp312-cp312-win_amd64.whl.metadata (41 kB)\n",
      "     ---------------------------------------- 42.0/42.0 kB 2.0 MB/s eta 0:00:00\n",
      "Collecting tzlocal (from dateparser<2.0.0,>=1.0.0->facebook-scraper==0.2.59)\n",
      "  Downloading tzlocal-5.2-py3-none-any.whl.metadata (7.8 kB)\n",
      "Requirement already satisfied: requests in c:\\users\\administrator\\miniconda3\\lib\\site-packages (from requests-html<0.11.0,>=0.10.0->facebook-scraper==0.2.59) (2.31.0)\n",
      "Collecting pyquery (from requests-html<0.11.0,>=0.10.0->facebook-scraper==0.2.59)\n",
      "  Downloading pyquery-2.0.0-py3-none-any.whl.metadata (9.0 kB)\n",
      "Collecting fake-useragent (from requests-html<0.11.0,>=0.10.0->facebook-scraper==0.2.59)\n",
      "  Downloading fake_useragent-1.5.0-py3-none-any.whl.metadata (15 kB)\n",
      "Collecting parse (from requests-html<0.11.0,>=0.10.0->facebook-scraper==0.2.59)\n",
      "  Downloading parse-1.20.1-py2.py3-none-any.whl.metadata (22 kB)\n",
      "Collecting bs4 (from requests-html<0.11.0,>=0.10.0->facebook-scraper==0.2.59)\n",
      "  Downloading bs4-0.0.2-py2.py3-none-any.whl.metadata (411 bytes)\n",
      "Collecting w3lib (from requests-html<0.11.0,>=0.10.0->facebook-scraper==0.2.59)\n",
      "  Downloading w3lib-2.1.2-py3-none-any.whl.metadata (1.1 kB)\n",
      "Collecting pyppeteer>=0.0.14 (from requests-html<0.11.0,>=0.10.0->facebook-scraper==0.2.59)\n",
      "  Downloading pyppeteer-2.0.0-py3-none-any.whl.metadata (7.1 kB)\n",
      "Collecting appdirs<2.0.0,>=1.4.3 (from pyppeteer>=0.0.14->requests-html<0.11.0,>=0.10.0->facebook-scraper==0.2.59)\n",
      "  Downloading appdirs-1.4.4-py2.py3-none-any.whl.metadata (9.0 kB)\n",
      "Requirement already satisfied: certifi>=2023 in c:\\users\\administrator\\miniconda3\\lib\\site-packages (from pyppeteer>=0.0.14->requests-html<0.11.0,>=0.10.0->facebook-scraper==0.2.59) (2024.2.2)\n",
      "Collecting importlib-metadata>=1.4 (from pyppeteer>=0.0.14->requests-html<0.11.0,>=0.10.0->facebook-scraper==0.2.59)\n",
      "  Downloading importlib_metadata-7.0.2-py3-none-any.whl.metadata (4.6 kB)\n",
      "Collecting pyee<12.0.0,>=11.0.0 (from pyppeteer>=0.0.14->requests-html<0.11.0,>=0.10.0->facebook-scraper==0.2.59)\n",
      "  Downloading pyee-11.1.0-py3-none-any.whl.metadata (2.8 kB)\n",
      "Requirement already satisfied: tqdm<5.0.0,>=4.42.1 in c:\\users\\administrator\\miniconda3\\lib\\site-packages (from pyppeteer>=0.0.14->requests-html<0.11.0,>=0.10.0->facebook-scraper==0.2.59) (4.65.0)\n",
      "Collecting urllib3<2.0.0,>=1.25.8 (from pyppeteer>=0.0.14->requests-html<0.11.0,>=0.10.0->facebook-scraper==0.2.59)\n",
      "  Downloading urllib3-1.26.18-py2.py3-none-any.whl.metadata (48 kB)\n",
      "     ---------------------------------------- 48.9/48.9 kB 2.4 MB/s eta 0:00:00\n",
      "Collecting websockets<11.0,>=10.0 (from pyppeteer>=0.0.14->requests-html<0.11.0,>=0.10.0->facebook-scraper==0.2.59)\n",
      "  Downloading websockets-10.4.tar.gz (84 kB)\n",
      "     ---------------------------------------- 84.9/84.9 kB 2.4 MB/s eta 0:00:00\n",
      "  Preparing metadata (setup.py): started\n",
      "  Preparing metadata (setup.py): finished with status 'done'\n",
      "Collecting beautifulsoup4 (from bs4->requests-html<0.11.0,>=0.10.0->facebook-scraper==0.2.59)\n",
      "  Downloading beautifulsoup4-4.12.3-py3-none-any.whl.metadata (3.8 kB)\n",
      "Collecting lxml>=2.1 (from pyquery->requests-html<0.11.0,>=0.10.0->facebook-scraper==0.2.59)\n",
      "  Downloading lxml-5.1.0-cp312-cp312-win_amd64.whl.metadata (3.6 kB)\n",
      "Collecting cssselect>=1.2.0 (from pyquery->requests-html<0.11.0,>=0.10.0->facebook-scraper==0.2.59)\n",
      "  Downloading cssselect-1.2.0-py2.py3-none-any.whl.metadata (2.2 kB)\n",
      "Requirement already satisfied: six>=1.5 in c:\\users\\administrator\\miniconda3\\lib\\site-packages (from python-dateutil->dateparser<2.0.0,>=1.0.0->facebook-scraper==0.2.59) (1.16.0)\n",
      "Requirement already satisfied: charset-normalizer<4,>=2 in c:\\users\\administrator\\miniconda3\\lib\\site-packages (from requests->requests-html<0.11.0,>=0.10.0->facebook-scraper==0.2.59) (2.0.4)\n",
      "Requirement already satisfied: idna<4,>=2.5 in c:\\users\\administrator\\miniconda3\\lib\\site-packages (from requests->requests-html<0.11.0,>=0.10.0->facebook-scraper==0.2.59) (3.4)\n",
      "Requirement already satisfied: tzdata in c:\\users\\administrator\\miniconda3\\lib\\site-packages (from tzlocal->dateparser<2.0.0,>=1.0.0->facebook-scraper==0.2.59) (2024.1)\n",
      "Collecting zipp>=0.5 (from importlib-metadata>=1.4->pyppeteer>=0.0.14->requests-html<0.11.0,>=0.10.0->facebook-scraper==0.2.59)\n",
      "  Downloading zipp-3.17.0-py3-none-any.whl.metadata (3.7 kB)\n",
      "Requirement already satisfied: typing-extensions in c:\\users\\administrator\\miniconda3\\lib\\site-packages (from pyee<12.0.0,>=11.0.0->pyppeteer>=0.0.14->requests-html<0.11.0,>=0.10.0->facebook-scraper==0.2.59) (4.10.0)\n",
      "Requirement already satisfied: colorama in c:\\users\\administrator\\miniconda3\\lib\\site-packages (from tqdm<5.0.0,>=4.42.1->pyppeteer>=0.0.14->requests-html<0.11.0,>=0.10.0->facebook-scraper==0.2.59) (0.4.6)\n",
      "Collecting soupsieve>1.2 (from beautifulsoup4->bs4->requests-html<0.11.0,>=0.10.0->facebook-scraper==0.2.59)\n",
      "  Downloading soupsieve-2.5-py3-none-any.whl.metadata (4.7 kB)\n",
      "Downloading dateparser-1.2.0-py2.py3-none-any.whl (294 kB)\n",
      "   ---------------------------------------- 295.0/295.0 kB 2.0 MB/s eta 0:00:00\n",
      "Downloading requests_html-0.10.0-py3-none-any.whl (13 kB)\n",
      "Downloading pyppeteer-2.0.0-py3-none-any.whl (82 kB)\n",
      "   ---------------------------------------- 82.9/82.9 kB 4.5 MB/s eta 0:00:00\n",
      "Downloading regex-2023.12.25-cp312-cp312-win_amd64.whl (268 kB)\n",
      "   ---------------------------------------- 268.9/268.9 kB 2.8 MB/s eta 0:00:00\n",
      "Downloading bs4-0.0.2-py2.py3-none-any.whl (1.2 kB)\n",
      "Downloading fake_useragent-1.5.0-py3-none-any.whl (17 kB)\n",
      "Downloading parse-1.20.1-py2.py3-none-any.whl (20 kB)\n",
      "Downloading pyquery-2.0.0-py3-none-any.whl (22 kB)\n",
      "Downloading tzlocal-5.2-py3-none-any.whl (17 kB)\n",
      "Downloading w3lib-2.1.2-py3-none-any.whl (21 kB)\n",
      "Downloading appdirs-1.4.4-py2.py3-none-any.whl (9.6 kB)\n",
      "Downloading cssselect-1.2.0-py2.py3-none-any.whl (18 kB)\n",
      "Downloading importlib_metadata-7.0.2-py3-none-any.whl (24 kB)\n",
      "Downloading lxml-5.1.0-cp312-cp312-win_amd64.whl (3.9 MB)\n",
      "   ---------------------------------------- 3.9/3.9 MB 3.1 MB/s eta 0:00:00\n",
      "Downloading pyee-11.1.0-py3-none-any.whl (15 kB)\n",
      "Downloading urllib3-1.26.18-py2.py3-none-any.whl (143 kB)\n",
      "   ---------------------------------------- 143.8/143.8 kB 4.3 MB/s eta 0:00:00\n",
      "Downloading beautifulsoup4-4.12.3-py3-none-any.whl (147 kB)\n",
      "   ---------------------------------------- 147.9/147.9 kB 2.9 MB/s eta 0:00:00\n",
      "Downloading soupsieve-2.5-py3-none-any.whl (36 kB)\n",
      "Using cached zipp-3.17.0-py3-none-any.whl (7.4 kB)\n",
      "Building wheels for collected packages: facebook-scraper, demjson3, websockets\n",
      "  Building wheel for facebook-scraper (pyproject.toml): started\n",
      "  Building wheel for facebook-scraper (pyproject.toml): finished with status 'done'\n",
      "  Created wheel for facebook-scraper: filename=facebook_scraper-0.2.59-py3-none-any.whl size=48714 sha256=18d86a1f6521dc5e265d949aa5d597c511b40cc5c4d23d24e56410efac6ad7a2\n",
      "  Stored in directory: C:\\Users\\Administrator\\AppData\\Local\\Temp\\pip-ephem-wheel-cache-v4ehh5v3\\wheels\\b0\\ae\\a9\\0676e6e6d015c2bef9576eb9b1842d4270f82d9d365af19fc2\n",
      "  Building wheel for demjson3 (setup.py): started\n",
      "  Building wheel for demjson3 (setup.py): finished with status 'done'\n",
      "  Created wheel for demjson3: filename=demjson3-3.0.6-py3-none-any.whl size=75332 sha256=5e61630698e0d008935cbba75302e1c61f36b61f048cbe690cb24a1a313f96ff\n",
      "  Stored in directory: c:\\users\\administrator\\appdata\\local\\pip\\cache\\wheels\\0d\\27\\2d\\e7d52f5e46e36224ba954d99659fd60f76ae3452d1ee7ea3e5\n",
      "  Building wheel for websockets (setup.py): started\n",
      "  Building wheel for websockets (setup.py): finished with status 'done'\n",
      "  Created wheel for websockets: filename=websockets-10.4-cp312-cp312-win_amd64.whl size=95036 sha256=c8f55a2f62ea21d56ddc2e2f1ef6cfa92f66a1a78e576e7fb406eaef1c951a54\n",
      "  Stored in directory: c:\\users\\administrator\\appdata\\local\\pip\\cache\\wheels\\80\\cf\\6d\\5d7e4c920cb41925a178b2d2621889c520d648bab487b1d7fd\n",
      "Successfully built facebook-scraper demjson3 websockets\n",
      "Installing collected packages: parse, fake-useragent, demjson3, appdirs, zipp, websockets, w3lib, urllib3, tzlocal, soupsieve, regex, pyee, lxml, cssselect, pyquery, importlib-metadata, dateparser, beautifulsoup4, pyppeteer, bs4, requests-html, facebook-scraper\n",
      "  Attempting uninstall: urllib3\n",
      "    Found existing installation: urllib3 2.1.0\n",
      "    Uninstalling urllib3-2.1.0:\n",
      "      Successfully uninstalled urllib3-2.1.0\n",
      "Successfully installed appdirs-1.4.4 beautifulsoup4-4.12.3 bs4-0.0.2 cssselect-1.2.0 dateparser-1.2.0 demjson3-3.0.6 facebook-scraper-0.2.59 fake-useragent-1.5.0 importlib-metadata-7.0.2 lxml-5.1.0 parse-1.20.1 pyee-11.1.0 pyppeteer-2.0.0 pyquery-2.0.0 regex-2023.12.25 requests-html-0.10.0 soupsieve-2.5 tzlocal-5.2 urllib3-1.26.18 w3lib-2.1.2 websockets-10.4 zipp-3.17.0\n"
     ]
    }
   ],
   "source": [
    "# https://github.com/kevinzg/facebook-scraper\n",
    "!pip install git+https://github.com/kevinzg/facebook-scraper.git"
   ]
  },
  {
   "cell_type": "code",
   "execution_count": 6,
   "metadata": {},
   "outputs": [
    {
     "data": {
      "text/plain": [
       "{'Friend_count': None,\n",
       " 'Follower_count': None,\n",
       " 'Following_count': None,\n",
       " 'cover_photo': 'https://scontent.fdad1-2.fna.fbcdn.net/v/t1.6435-9/104055519_644315606162442_1222468527286287623_n.jpg?stp=cp0_dst-jpg_e15_fr_q65&_nc_cat=106&ccb=1-7&_nc_sid=ff2d77&_nc_ohc=_3O2DH6iUZYAX85aaZ9&_nc_ht=scontent.fdad1-2.fna&oh=00_AfDsT_QMzIHJ5aUxsEfYemmgnczZuYJlQd2XcdM-ZrIl3Q&oe=66094817',\n",
       " 'profile_picture': 'https://scontent.fdad2-1.fna.fbcdn.net/v/t39.30808-1/411993407_1415772449016750_1627583040268186822_n.jpg?stp=c0.0.120.120a_cp0_dst-jpg_e15_p120x120_q65&_nc_cat=101&ccb=1-7&_nc_sid=4da83f&_nc_ohc=hLb3LAruljUAX9Reje4&_nc_ht=scontent.fdad2-1.fna&oh=00_AfDYHffGQaFPS43_TuVnreqvuwYAlh5u4iiHXUa6ywQWMg&oe=65E66539',\n",
       " 'id': '100017520254667',\n",
       " 'Name': 'Nguyễn Phước',\n",
       " 'Học vấn': 'HUET- Khoa Kỹ thuật và Công nghệ - Đại học Huế\\nCao đẳng/Đại học\\nTHPT Phan Đăng Lưu - Huế\\nTrường trung học',\n",
       " 'Nơi từng sống': 'Huế\\nTỉnh/Thành phố hiện tại\\nHuế\\nQuê quán'}"
      ]
     },
     "execution_count": 6,
     "metadata": {},
     "output_type": "execute_result"
    }
   ],
   "source": [
    "from facebook_scraper import get_profile\n",
    "get_profile(\"ngphuoctthue\") # Or get_profile(\"zuck\", cookies=\"cookies.txt\")"
   ]
  },
  {
   "cell_type": "code",
   "execution_count": 4,
   "metadata": {},
   "outputs": [
    {
     "data": {
      "text/plain": [
       "{'Friend_count': None,\n",
       " 'Follower_count': None,\n",
       " 'Following_count': None,\n",
       " 'cover_photo': 'https://scontent.fdad1-4.fna.fbcdn.net/v/t39.30808-6/245864335_1033455537446256_1797258725929049740_n.jpg?stp=cp0_dst-jpg_e15_fr_q65&_nc_cat=100&ccb=1-7&_nc_sid=ff2d77&_nc_ohc=8Ii5bVbHkwgAX9ufZr6&_nc_ht=scontent.fdad1-4.fna&oh=00_AfAgA09vUK9DM2soTW3NW6-DyDKR_Kl-gTZ4u9jPVZ-BlA&oe=65E60D65',\n",
       " 'profile_picture': 'https://scontent.fdad1-4.fna.fbcdn.net/v/t39.30808-1/419166561_1539554203503051_3989832563644158188_n.jpg?stp=cp1_dst-jpg_e15_p120x120_q65&_nc_cat=103&ccb=1-7&_nc_sid=4da83f&_nc_ohc=Cf9jUSNit9sAX9zhRMd&_nc_oc=AQmFOFMGHX0zoBDUTk3cejR2TsfGUxjUE0UZ8CGSAB5fKpVz86l3YakLKCXB6CvsBKE&_nc_ht=scontent.fdad1-4.fna&oh=00_AfBWKCEoSy-LDIn8Zu7Qp21vY2SrGnHASALpu4ie6gre1g&oe=65E7232A',\n",
       " 'id': '100023454587311',\n",
       " 'Name': 'MY LINH',\n",
       " 'Công việc': 'Better For Hue- BFH\\n1 tháng 3, 2022–nay\\nTrưởng dự án\\nVietSeeds Foundation\\nThành Viên\\n18 tháng 10, 2020 - Hiện tại\\nPROM PĐL - Lễ tri ân và trưởng thành.\\n12 tháng 12, 2019 - Hiện tại',\n",
       " 'Học vấn': 'THPT Phan Đăng Lưu - Huế\\nTrường trung học',\n",
       " 'Nơi từng sống': 'Huế\\nTỉnh/Thành phố hiện tại\\nHuế\\nQuê quán',\n",
       " 'Giới thiệu về LINH': 'My name is Linh ^^'}"
      ]
     },
     "execution_count": 4,
     "metadata": {},
     "output_type": "execute_result"
    }
   ],
   "source": [
    "\n",
    "from facebook_scraper import get_profile\n",
    "get_profile(\"100023454587311\") # Or get_profile(\"zuck\", cookies=\"cookies.txt\")"
   ]
  },
  {
   "cell_type": "code",
   "execution_count": 7,
   "metadata": {},
   "outputs": [
    {
     "data": {
      "text/plain": [
       "{'Friend_count': None,\n",
       " 'Follower_count': None,\n",
       " 'Following_count': None,\n",
       " 'cover_photo': 'https://scontent.fdad1-2.fna.fbcdn.net/v/t39.30808-6/428623491_1183692675955562_7425870063828540799_n.png?stp=cp0_dst-jpg_e15_fr_q65&_nc_cat=106&ccb=1-7&_nc_sid=ff2d77&_nc_ohc=-WdDPN8mLmwAX8xHrT4&_nc_ht=scontent.fdad1-2.fna&oh=00_AfDBnz49ifzy-0rx2yQ6SW7-OyZuB8mGo1WT0xtpqujtoQ&oe=65E62663',\n",
       " 'profile_picture': 'https://scontent.fdad1-2.fna.fbcdn.net/v/t39.30808-1/418499831_1158188045172692_8854755642699296027_n.jpg?stp=cp0_dst-jpg_e15_p120x120_q65&_nc_cat=105&ccb=1-7&_nc_sid=4da83f&_nc_ohc=N6kXqqTsMXQAX87oE1I&_nc_ht=scontent.fdad1-2.fna&oh=00_AfDsF9KQ6qgNe58kxCWK8kQjl_oJwLBUsLmuRuXpFwmlAQ&oe=65E7071D',\n",
       " 'id': '100029445226367',\n",
       " 'Name': 'HUET- Khoa Kỹ thuật và Công nghệ - Đại học Huế'}"
      ]
     },
     "execution_count": 7,
     "metadata": {},
     "output_type": "execute_result"
    }
   ],
   "source": [
    "\n",
    "\n",
    "from facebook_scraper import get_profile\n",
    "get_profile(\"huet.hueuni\") # Or get_profile(\"zuck\", cookies=\"cookies.txt\")"
   ]
  },
  {
   "cell_type": "code",
   "execution_count": 9,
   "metadata": {},
   "outputs": [
    {
     "name": "stderr",
     "output_type": "stream",
     "text": [
      "  0%|          | 0/100 [00:00<?, ?it/s]"
     ]
    },
    {
     "name": "stdout",
     "output_type": "stream",
     "text": [
      "{'comment_id': '7563392797037816', 'comment_url': 'https://facebook.com/7563392797037816', 'commenter_id': '100004318564064', 'commenter_url': None, 'commenter_name': 'Nhật Vinh', 'commenter_meta': None, 'comment_text': 'Chúc mừng Đồng chí', 'comment_time': datetime.datetime(2024, 2, 23, 0, 0), 'comment_image': None, 'comment_reactors': [], 'comment_reactions': None, 'comment_reaction_count': None, 'replies': []}\n",
      "{'comment_id': '249052911593429', 'comment_url': 'https://facebook.com/249052911593429', 'commenter_id': '100057492854467', 'commenter_url': None, 'commenter_name': 'Đức Huỳnh', 'commenter_meta': None, 'comment_text': 'Chúc mừng anh Nguyễn Cửu Sửu nhé. 🥰☺️🤗', 'comment_time': datetime.datetime(2024, 2, 23, 0, 0), 'comment_image': None, 'comment_reactors': [], 'comment_reactions': None, 'comment_reaction_count': None, 'replies': []}\n",
      "{'comment_id': '925261762375451', 'comment_url': 'https://facebook.com/925261762375451', 'commenter_id': '100003279460469', 'commenter_url': None, 'commenter_name': 'Kim Cúc Nguyễn', 'commenter_meta': None, 'comment_text': 'Chúc mừng đ/c Nguyễn Cửu Sửu đã đứng vào hàng ngũ của Đảng', 'comment_time': datetime.datetime(2024, 2, 23, 0, 0), 'comment_image': None, 'comment_reactors': [], 'comment_reactions': None, 'comment_reaction_count': None, 'replies': []}\n",
      "{'comment_id': '1540014723507169', 'comment_url': 'https://facebook.com/1540014723507169', 'commenter_id': '100002906570307', 'commenter_url': None, 'commenter_name': 'Vân Nguyễn', 'commenter_meta': None, 'comment_text': 'Chào đồng Chí Nguyễn Cửu Sửu ... Hy vọng đồng chí sẽ có nhiều thành tích ở cương vị mới..', 'comment_time': datetime.datetime(2024, 2, 23, 0, 0), 'comment_image': None, 'comment_reactors': [], 'comment_reactions': None, 'comment_reaction_count': None, 'replies': []}\n",
      "{'comment_id': '391504416815548', 'comment_url': 'https://facebook.com/391504416815548', 'commenter_id': '100053323263188', 'commenter_url': None, 'commenter_name': 'Trần Thị Diệu Hiền', 'commenter_meta': None, 'comment_text': 'Chúc mừng Sửu ca \\U0001fae1', 'comment_time': datetime.datetime(2024, 2, 23, 0, 0), 'comment_image': None, 'comment_reactors': [], 'comment_reactions': None, 'comment_reaction_count': None, 'replies': []}\n"
     ]
    },
    {
     "name": "stderr",
     "output_type": "stream",
     "text": [
      "\n"
     ]
    }
   ],
   "source": [
    "\"\"\"\n",
    "Download comments for a public Facebook post.\n",
    "\"\"\"\n",
    "\n",
    "import facebook_scraper as fs\n",
    "\n",
    "# get POST_ID from the URL of the post which can have the following structure:\n",
    "# https://www.facebook.com/USER/posts/POST_ID\n",
    "# https://www.facebook.com/groups/GROUP_ID/posts/POST_ID\n",
    "POST_ID = \"pfbid02RMWYodk1V9mNAsNHxbJgLQ6s4dooodHjT9e4iPTM9PGBba1E79o4dVCTo1TSGuBbl\"\n",
    "\n",
    "# number of comments to download -- set this to True to download all comments\n",
    "MAX_COMMENTS = 100\n",
    "\n",
    "# get the post (this gives a generator)\n",
    "gen = fs.get_posts(\n",
    "    post_urls=[POST_ID],\n",
    "    options={\"comments\": MAX_COMMENTS, \"progress\": True}\n",
    ")\n",
    "\n",
    "# take 1st element of the generator which is the post we requested\n",
    "post = next(gen)\n",
    "\n",
    "# extract the comments part\n",
    "comments = post['comments_full']\n",
    "\n",
    "# process comments as you want...\n",
    "for comment in comments:\n",
    "\n",
    "    # e.g. ...print them\n",
    "    print(comment)\n",
    "\n",
    "    # e.g. ...get the replies for them\n",
    "    for reply in comment['replies']:\n",
    "        print(' ', reply)"
   ]
  },
  {
   "cell_type": "code",
   "execution_count": null,
   "metadata": {},
   "outputs": [],
   "source": []
  },
  {
   "cell_type": "code",
   "execution_count": null,
   "metadata": {},
   "outputs": [],
   "source": []
  },
  {
   "cell_type": "code",
   "execution_count": null,
   "metadata": {},
   "outputs": [],
   "source": []
  },
  {
   "cell_type": "code",
   "execution_count": 10,
   "metadata": {},
   "outputs": [
    {
     "name": "stdout",
     "output_type": "stream",
     "text": [
      "Collecting fbthon\n",
      "  Downloading fbthon-0.0.2.tar.gz (50 kB)\n",
      "     -------------------------------------- 50.3/50.3 KB 426.1 kB/s eta 0:00:00\n",
      "  Preparing metadata (setup.py): started\n",
      "  Preparing metadata (setup.py): finished with status 'done'\n",
      "Collecting requests_toolbelt\n",
      "  Using cached requests_toolbelt-1.0.0-py2.py3-none-any.whl (54 kB)\n",
      "Requirement already satisfied: requests in c:\\users\\lenovo\\desktop\\facebook\\.venv\\lib\\site-packages (from fbthon) (2.31.0)\n",
      "Requirement already satisfied: bs4 in c:\\users\\lenovo\\desktop\\facebook\\.venv\\lib\\site-packages (from fbthon) (0.0.2)\n",
      "Requirement already satisfied: beautifulsoup4 in c:\\users\\lenovo\\desktop\\facebook\\.venv\\lib\\site-packages (from bs4->fbthon) (4.12.3)\n",
      "Requirement already satisfied: charset-normalizer<4,>=2 in c:\\users\\lenovo\\desktop\\facebook\\.venv\\lib\\site-packages (from requests->fbthon) (3.3.2)\n",
      "Requirement already satisfied: certifi>=2017.4.17 in c:\\users\\lenovo\\desktop\\facebook\\.venv\\lib\\site-packages (from requests->fbthon) (2024.2.2)\n",
      "Requirement already satisfied: urllib3<3,>=1.21.1 in c:\\users\\lenovo\\desktop\\facebook\\.venv\\lib\\site-packages (from requests->fbthon) (1.26.18)\n",
      "Requirement already satisfied: idna<4,>=2.5 in c:\\users\\lenovo\\desktop\\facebook\\.venv\\lib\\site-packages (from requests->fbthon) (3.6)\n",
      "Requirement already satisfied: soupsieve>1.2 in c:\\users\\lenovo\\desktop\\facebook\\.venv\\lib\\site-packages (from beautifulsoup4->bs4->fbthon) (2.5)\n",
      "Using legacy 'setup.py install' for fbthon, since package 'wheel' is not installed.\n",
      "Installing collected packages: requests_toolbelt, fbthon\n",
      "  Running setup.py install for fbthon: started\n",
      "  Running setup.py install for fbthon: finished with status 'done'\n",
      "Successfully installed fbthon-0.0.2 requests_toolbelt-1.0.0\n"
     ]
    },
    {
     "name": "stderr",
     "output_type": "stream",
     "text": [
      "WARNING: You are using pip version 22.0.4; however, version 24.0 is available.\n",
      "You should consider upgrading via the 'C:\\Users\\LENOVO\\Desktop\\facebook\\.venv\\Scripts\\python.exe -m pip install --upgrade pip' command.\n"
     ]
    }
   ],
   "source": [
    "# https://github.com/MR-X-junior/fbthon\n",
    "!pip install fbthon"
   ]
  },
  {
   "cell_type": "code",
   "execution_count": 11,
   "metadata": {},
   "outputs": [
    {
     "data": {
      "text/plain": [
       "Facebook : host='https://mbasic.facebook.com' cookie='c_user=100004781809422;datr=7enhZdV36NZjO0Pl5Lrd5gjW;fr=0jexX3csEDE5DaI82.AWUPnET23XvyrwEj0T33eMA-eMA.Bl4enu..AAA.0.0.Bl4enu.AWXipaOOmt0;m_page_voice=100004781809422;noscript=1;sb=7enhZU232-R8tETaRHA3Q2s8;xs=29%3AKjrSGCJ4zEyOjQ%3A2%3A1709304302%3A-1%3A6247;dbln=%7B%22100004781809422%22%3A%22fKEtjWNL%22%7D;'"
      ]
     },
     "execution_count": 11,
     "metadata": {},
     "output_type": "execute_result"
    }
   ],
   "source": [
    "from fbthon import Facebook\n",
    "from fbthon import Web_Login\n",
    "user_agent = {'User-Agent':'Mozilla/5.0 (Linux; Android 6.0.1; SM-J510GN Build/MMB29M) AppleWebKit/537.36 (KHTML, like Gecko) Chrome/63.0.3239.111 Mobile Safari/537.36'}\n",
    "email = \"suthanhcong172@gmail.com\" # Ganti email ini dengan email akun Facebook kamu\n",
    "password = \"Stc170202\" # Ganti password ini dengan password Akun Facebook kamu\n",
    "login = Web_Login(email,password, headers = user_agent)\n",
    "cookie = login.get_cookie_str() # Ini adalah cookie akun Facebook kamu\n",
    "fb = Facebook(cookie)\n",
    "fb"
   ]
  },
  {
   "cell_type": "code",
   "execution_count": 14,
   "metadata": {},
   "outputs": [
    {
     "data": {
      "text/plain": [
       "{'name': 'MY LINH',\n",
       " 'first_name': 'MY',\n",
       " 'middle_name': '',\n",
       " 'last_name': 'LINH',\n",
       " 'alternate_name': 'Kuma ',\n",
       " 'about': 'My name is Linh ^^',\n",
       " 'username': '',\n",
       " 'id': '100023454587311',\n",
       " 'contact_info': {'Instagram': 'milinh._'},\n",
       " 'profile_pict': 'https://scontent.fdad1-4.fna.fbcdn.net/v/t39.30808-1/419166561_1539554203503051_3989832563644158188_n.jpg?stp=cp1_dst-jpg_e15_p480x480_q65&_nc_cat=103&ccb=1-7&_nc_sid=4da83f&efg=eyJpIjoiYiJ9&_nc_ohc=Cf9jUSNit9sAX9zhRMd&_nc_ht=scontent.fdad1-4.fna&oh=00_AfCH_ZI2d_Fqs2Twq52OvSwTbvKUp-KX0tf9lgkuDMiNuA&oe=65E7232A',\n",
       " 'basic_info': {'Giới tính': 'Nữ'},\n",
       " 'education': [],\n",
       " 'work': [{'name': 'Better For Hue- BFH', 'time': ''},\n",
       "  {'name': 'VietSeeds Foundation', 'time': '18 tháng 10, 2020 - Hiện tại'},\n",
       "  {'name': 'PROM PĐL - Lễ tri ân và trưởng thành.',\n",
       "   'time': '12 tháng 12, 2019 - Hiện tại'}],\n",
       " 'living': {'Tỉnh/Thành phố hiện tại': 'Huế', 'Quê quán': 'Huế'},\n",
       " 'relationship': 'Độc thân',\n",
       " 'other_name': {'Biệt danh': 'Kuma '},\n",
       " 'family': [{'name': 'HIEU AN',\n",
       "   'username': '/han.ieu211',\n",
       "   'designation': 'Anh trai',\n",
       "   'profile_pict': 'https://scontent.fdad2-1.fna.fbcdn.net/v/t39.30808-1/351315270_713404660538192_8092719854390513596_n.jpg?stp=cp1_dst-jpg_e15_p320x320_q65&_nc_cat=108&ccb=1-7&_nc_sid=4da83f&efg=eyJpIjoiYiJ9&_nc_ohc=HzjBEFP8z84AX-LMHw6&tn=x8j3j6n6CKL7loNR&_nc_ht=scontent.fdad2-1.fna&oh=00_AfABOcDoBPa4uv9Cc_Sd10uEaas28o72Orh2lZOt2T0qEA&oe=65E671E1'}],\n",
       " 'year_overviews': [],\n",
       " 'quote': ''}"
      ]
     },
     "execution_count": 14,
     "metadata": {},
     "output_type": "execute_result"
    }
   ],
   "source": [
    "my_profile = fb.get_profile('100023454587311')\n",
    "my_profile._user_info"
   ]
  },
  {
   "cell_type": "code",
   "execution_count": 15,
   "metadata": {},
   "outputs": [
    {
     "data": {
      "text/plain": [
       "{'name': 'Sử Thành Công',\n",
       " 'first_name': 'Sử',\n",
       " 'middle_name': 'Thành',\n",
       " 'last_name': 'Công',\n",
       " 'alternate_name': 'スー・タインー・コン',\n",
       " 'about': ' · ',\n",
       " 'username': '/stc1702',\n",
       " 'id': '100004781809422',\n",
       " 'contact_info': {'Di động': '079 457 6759',\n",
       "  'Facebook': '/stc1702',\n",
       "  'Instagram': 'https://www.instagram.com/stc1702/',\n",
       "  'Trang web': '',\n",
       "  'Email': 'suthanhcong172@gmail.com'},\n",
       " 'profile_pict': 'https://scontent.fdad2-1.fna.fbcdn.net/v/t39.30808-1/344806563_1659458441196463_6578362479205037020_n.jpg?stp=cp0_dst-jpg_e15_p480x480_q65&_nc_cat=108&ccb=1-7&_nc_sid=4da83f&efg=eyJpIjoiYiJ9&_nc_ohc=2lhVB5Z3sVAAX9Oil3H&_nc_ht=scontent.fdad2-1.fna&oh=00_AfDclSIzqzx2eLgZNcmzQn8NhbfQj4r4p_7dgqsJU1Q-7g&oe=65E6808D',\n",
       " 'basic_info': {'Ngày sinh': '17 tháng 2, 1996',\n",
       "  'Giới tính': 'Nam',\n",
       "  'Ngôn ngữ': ''},\n",
       " 'education': [],\n",
       " 'work': [],\n",
       " 'living': {'Tỉnh/Thành phố hiện tại': 'Huế', 'Quê quán': 'Huế'},\n",
       " 'relationship': '',\n",
       " 'other_name': {'Khác': 'スー・タインー・コン'},\n",
       " 'family': [],\n",
       " 'year_overviews': [{'year': '2020',\n",
       "   'overviews': ['Tốt nghiệp THPT Chuyên Quốc Học Huế']},\n",
       "  {'year': '2017',\n",
       "   'overviews': ['Tốt nghiệp TRƯỜNG THCS CHU VĂN AN HUẾ',\n",
       "    'Bắt đầu học tại THPT Chuyên Quốc Học Huế']}],\n",
       " 'quote': ''}"
      ]
     },
     "execution_count": 15,
     "metadata": {},
     "output_type": "execute_result"
    }
   ],
   "source": [
    "my_profile = fb.get_profile('me')\n",
    "my_profile._user_info"
   ]
  },
  {
   "cell_type": "code",
   "execution_count": null,
   "metadata": {},
   "outputs": [],
   "source": []
  }
 ],
 "metadata": {
  "kernelspec": {
   "display_name": "Python 3.9.1 64-bit",
   "language": "python",
   "name": "python3"
  },
  "language_info": {
   "codemirror_mode": {
    "name": "ipython",
    "version": 3
   },
   "file_extension": ".py",
   "mimetype": "text/x-python",
   "name": "python",
   "nbconvert_exporter": "python",
   "pygments_lexer": "ipython3",
   "version": "3.9.1"
  },
  "vscode": {
   "interpreter": {
    "hash": "6fff98fc3b3d81bd655c2cc48858186e4d9e2db7b515bf1c3221888f12a62f87"
   }
  }
 },
 "nbformat": 4,
 "nbformat_minor": 2
}
