{
 "cells": [
  {
   "cell_type": "code",
   "execution_count": 24,
   "metadata": {},
   "outputs": [
    {
     "name": "stdout",
     "output_type": "stream",
     "text": [
      "Collecting git+https://github.com/kevinzg/facebook-scraper.git\n",
      "  Cloning https://github.com/kevinzg/facebook-scraper.git to /tmp/pip-req-build-kwgynnw8\n",
      "  Running command git clone --filter=blob:none --quiet https://github.com/kevinzg/facebook-scraper.git /tmp/pip-req-build-kwgynnw8\n",
      "  error: RPC failed; curl 92 HTTP/2 stream 0 was not closed cleanly: CANCEL (err 8)\n",
      "  error: 982 bytes of body are still expected\n",
      "  fetch-pack: unexpected disconnect while reading sideband packet\n",
      "  fatal: early EOF\n",
      "  fatal: index-pack failed\n",
      "^C\n",
      "\u001b[31mERROR: Operation cancelled by user\u001b[0m\u001b[31m\n",
      "\u001b[0mNote: you may need to restart the kernel to use updated packages.\n"
     ]
    }
   ],
   "source": [
    "# https://github.com/kevinzg/facebook-scraper\n",
    "%pip install git+https://github.com/kevinzg/facebook-scraper.git"
   ]
  },
  {
   "cell_type": "code",
   "execution_count": 15,
   "metadata": {},
   "outputs": [
    {
     "data": {
      "text/plain": [
       "{'Friend_count': None,\n",
       " 'Follower_count': None,\n",
       " 'Following_count': 1411,\n",
       " 'profile_picture': 'https://scontent.fdad1-4.fna.fbcdn.net/v/t39.30808-6/245864335_1033455537446256_1797258725929049740_n.jpg?stp=cp0_dst-jpg_e15_fr_q65&_nc_cat=100&ccb=1-7&_nc_sid=5f2048&efg=eyJpIjoidCJ9&_nc_ohc=_Y5ssjSkqZoAX9VtMGk&_nc_ht=scontent.fdad1-4.fna&oh=00_AfAdiPdt_rg8kbPxWdjR--913aseJsZFXVN54JXIrsRR4g&oe=65F5DF65&manual_redirect=1',\n",
       " 'id': '100023454587311',\n",
       " 'Name': 'MY LINH',\n",
       " 'Học vấn': 'KHOA TIẾNG TRUNG_ ĐẠI HỌC NGOẠI NGỮ HUẾ\\nCao đẳng/Đại học\\n31 tháng 8, 2020 - Hiện tại\\nTHPT Phan Đăng Lưu - Huế\\nTrường trung học',\n",
       " 'Công việc': 'Better For Hue- BFH\\n1 tháng 3, 2022–nay\\nTrưởng dự án\\nVietSeeds Foundation\\nThành Viên\\n18 tháng 10, 2020 - Hiện tại\\nPROM PĐL - Lễ tri ân và trưởng thành.\\n12 tháng 12, 2019 - Hiện tại',\n",
       " 'Nơi từng sống': 'Huế\\nTỉnh/Thành phố hiện tại\\nHuế\\nQuê quán',\n",
       " 'Thông tin liên hệ': 'milinh._\\nInstagram',\n",
       " 'Thông tin cơ bản': 'Nữ\\nGiới tính',\n",
       " 'Các tên khác': 'Kuma\\nBiệt danh',\n",
       " 'Mối quan hệ': 'Độc thân',\n",
       " 'Thành viên trong gia đình': 'HIEU AN\\nAnh trai',\n",
       " 'Giới thiệu về LINH': 'My name is Linh ^^',\n",
       " 'Sự kiện trong đời': ''}"
      ]
     },
     "execution_count": 15,
     "metadata": {},
     "output_type": "execute_result"
    }
   ],
   "source": [
    "from facebook_scraper import get_profile\n",
    "get_profile(\"100023454587311\") # Or get_profile(\"zuck\", cookies=\"cookies.txt\")"
   ]
  },
  {
   "cell_type": "code",
   "execution_count": 16,
   "metadata": {},
   "outputs": [
    {
     "data": {
      "text/plain": [
       "{'Friend_count': None,\n",
       " 'Follower_count': None,\n",
       " 'Following_count': 87,\n",
       " 'cover_photo_text': \"Ảnh bìa: 'Cùng tham gia vào ngôi nhà chung #HUET của chúng mình, bạn nhé! 🧡\\n#ichooseHUET\\n-\\\\-\\\\-\\\\-\\\\-\\\\-\\\\-\\\\-\\\\-\\\\-\\\\-\\\\-\\\\-\\\\-\\\\-\\\\-\\\\-\\\\-\\\\-\\\\-\\\\-\\\\-\\\\-\\\\-\\\\-\\\\-\\\\-\\\\-\\\\-\\\\-\\\\-\\\\-\\\\-\\\\-\\\\-\\\\-\\\\-\\n📚Khoa Kỹ thuật và Công nghệ - Đại học Huế\\n🔶Add: Số 01 Điện Biên Phủ, phường Vĩnh Ninh, thành phố Huế.\\n🔶Hotline: (+84) 0234 3845 799\\n🔶Email: huet@hueuni.edu.vn\\n🔶Website: http://huet.hueuni.edu.vn/\\n🔶Fanpage: https://www.facebook.com/et.hueuni/'\",\n",
       " 'cover_photo': 'https://scontent.fdad1-2.fna.fbcdn.net/v/t39.30808-6/428623491_1183692675955562_7425870063828540799_n.png?_nc_cat=106&ccb=1-7&_nc_sid=5f2048&efg=eyJpIjoidCJ9&_nc_ohc=hlJtsJDrPDQAX9-7Qee&_nc_ht=scontent.fdad1-2.fna&oh=00_AfBEF2OrX8jIRzyUTxCbyBcXEvYvmutFULzz4HnuXJVB3A&oe=65F5F863&manual_redirect=1',\n",
       " 'profile_picture': 'https://scontent.fdad1-4.fna.fbcdn.net/v/t39.30808-6/418499831_1158188045172692_8854755642699296027_n.jpg?stp=cp0_dst-jpg_e15_fr_q65&_nc_cat=105&ccb=1-7&_nc_sid=5f2048&efg=eyJpIjoidCJ9&_nc_ohc=FCkksbRgOMYAX9_EXEP&tn=JXzQUfeTYmIXXgGU&_nc_ht=scontent.fdad1-4.fna&oh=00_AfDOvrruBVJ9vwGZ-hR3jsd0lm_8tYg-_yHUbt35_nKmoQ&oe=65F5AF5F&manual_redirect=1',\n",
       " 'id': '100029445226367',\n",
       " 'Name': 'HUET- Khoa Kỹ thuật và Công nghệ - Đại học Huế',\n",
       " 'Hạng mục': 'Khoa học, công nghệ & kỹ thuật',\n",
       " 'Thông tin liên hệ': '01 Điện Biên Phủ, Hue, Vietnam\\nĐịa chỉ\\n/huet.hueuni\\nFacebook\\nhttp://huet.hueuni.edu.vn/\\nTrang web',\n",
       " 'Thông tin cơ bản': 'Ngày sinh',\n",
       " 'Tính minh bạch của Trang\\nXem tất cả': 'Xem tất cả\\nFacebook hiển thị thông tin để bạn hiểu rõ mục đích của Trang này.\\n102418954529344\\nID Trang\\n25 tháng 10, 2019\\nNgày tạo\\nThông tin về quản trị viên\\nTrang này có thể có nhiều quản trị viên. Họ có thể có quyền đăng nội dung, bình luận hoặc gửi tin nhắn dưới tên Trang.\\nTrang này hiện không chạy quảng cáo.',\n",
       " 'Sự kiện trong đời': ''}"
      ]
     },
     "execution_count": 16,
     "metadata": {},
     "output_type": "execute_result"
    }
   ],
   "source": [
    "from facebook_scraper import get_profile\n",
    "get_profile(\"huet.hueuni\") # Or get_profile(\"zuck\", cookies=\"cookies.txt\")"
   ]
  },
  {
   "cell_type": "code",
   "execution_count": null,
   "metadata": {},
   "outputs": [
    {
     "name": "stdout",
     "output_type": "stream",
     "text": [
      "{'comment_id': '7563392797037816', 'comment_url': 'https://facebook.com/7563392797037816', 'commenter_id': None, 'commenter_url': 'https://facebook.com/nhat.vinh.161?eav=AfbbAHk_xAXoA04WPf47fsmrOSPAi-Qh0mw0KbCiav-NDrHC_qi5ER1b3cZstz-gZl0&rc=p&refid=52&__tn__=R&paipv=0', 'commenter_name': 'Nhật Vinh', 'commenter_meta': None, 'comment_text': 'Chúc mừng Đồng chí', 'comment_time': datetime.datetime(2024, 2, 22, 0, 0), 'comment_image': None, 'comment_reactors': [], 'comment_reactions': None, 'comment_reaction_count': None, 'replies': []}\n",
      "{'comment_id': None, 'comment_url': 'https://facebook.com/', 'commenter_id': None, 'commenter_url': 'https://facebook.com/nhat.vinh.161?eav=AfbbAHk_xAXoA04WPf47fsmrOSPAi-Qh0mw0KbCiav-NDrHC_qi5ER1b3cZstz-gZl0&rc=p&refid=52&__tn__=R&paipv=0', 'commenter_name': 'Nhật Vinh', 'commenter_meta': None, 'comment_text': 'Nhật Vinh\\nChúc mừng Đồng chí\\nĐã chỉnh sửa · Thích · Bày tỏ cảm xúc · Phản hồi · Xem thêm · 22 tháng 2', 'comment_time': datetime.datetime(2024, 2, 22, 0, 0), 'comment_image': None, 'comment_reactors': [], 'comment_reactions': None, 'comment_reaction_count': None, 'replies': []}\n",
      "{'comment_id': '249052911593429', 'comment_url': 'https://facebook.com/249052911593429', 'commenter_id': None, 'commenter_url': 'https://facebook.com/profile.php?id=100057492854467&eav=AfZSue2CLUfZAanyEDZLAmPHJuoWOqK1pLsfK6LKY_iD7T_I2SOS_C0x4T0_I032-DU&rc=p&refid=52&__tn__=R&paipv=0', 'commenter_name': 'Đức Huỳnh', 'commenter_meta': None, 'comment_text': 'Chúc mừng anh Nguyễn Cửu Sửu nhé. 🥰☺️🤗', 'comment_time': datetime.datetime(2024, 2, 22, 0, 0), 'comment_image': None, 'comment_reactors': [], 'comment_reactions': None, 'comment_reaction_count': None, 'replies': []}\n",
      "{'comment_id': None, 'comment_url': 'https://facebook.com/', 'commenter_id': None, 'commenter_url': 'https://facebook.com/profile.php?id=100057492854467&eav=AfZSue2CLUfZAanyEDZLAmPHJuoWOqK1pLsfK6LKY_iD7T_I2SOS_C0x4T0_I032-DU&rc=p&refid=52&__tn__=R&paipv=0', 'commenter_name': 'Đức Huỳnh', 'commenter_meta': None, 'comment_text': 'Đức Huỳnh\\nChúc mừng anh Nguyễn Cửu Sửu nhé. 🥰☺️🤗\\nThích · Bày tỏ cảm xúc · Phản hồi · Xem thêm · 22 tháng 2', 'comment_time': datetime.datetime(2024, 2, 22, 0, 0), 'comment_image': None, 'comment_reactors': [], 'comment_reactions': None, 'comment_reaction_count': None, 'replies': []}\n",
      "{'comment_id': '391504416815548', 'comment_url': 'https://facebook.com/391504416815548', 'commenter_id': None, 'commenter_url': 'https://facebook.com/tran.christine.1804?eav=AfbPouia1LpgzpD0vMAH_-wYyBVUx060R32a7n1EIogVYfINLKQgCFv0Yov-Qaexv9Y&rc=p&refid=52&__tn__=R&paipv=0', 'commenter_name': 'Trần Thị Diệu Hiền', 'commenter_meta': None, 'comment_text': 'Chúc mừng Sửu ca \\U0001fae1', 'comment_time': datetime.datetime(2024, 2, 22, 0, 0), 'comment_image': None, 'comment_reactors': [], 'comment_reactions': None, 'comment_reaction_count': None, 'replies': []}\n",
      "{'comment_id': None, 'comment_url': 'https://facebook.com/', 'commenter_id': None, 'commenter_url': 'https://facebook.com/tran.christine.1804?eav=AfbPouia1LpgzpD0vMAH_-wYyBVUx060R32a7n1EIogVYfINLKQgCFv0Yov-Qaexv9Y&rc=p&refid=52&__tn__=R&paipv=0', 'commenter_name': 'Trần Thị Diệu Hiền', 'commenter_meta': None, 'comment_text': 'Trần Thị Diệu Hiền\\nChúc mừng Sửu ca \\U0001fae1\\nThích · Bày tỏ cảm xúc · Phản hồi · Xem thêm · 22 tháng 2', 'comment_time': datetime.datetime(2024, 2, 22, 0, 0), 'comment_image': None, 'comment_reactors': [], 'comment_reactions': None, 'comment_reaction_count': None, 'replies': []}\n",
      "{'comment_id': '1540014723507169', 'comment_url': 'https://facebook.com/1540014723507169', 'commenter_id': None, 'commenter_url': 'https://facebook.com/longvan.nguyenduc?eav=AfZakDYVrHWDMDTginPZ7w-tgoMUbUZAn9Ary2wiRP2_w7y2phSDM-axRY6D5erOrRA&rc=p&refid=52&__tn__=R&paipv=0', 'commenter_name': 'Vân Nguyễn', 'commenter_meta': None, 'comment_text': 'Chào đồng Chí Nguyễn Cửu Sửu ... Hy vọng đồng chí sẽ có nhiều thành tích ở cương vị mới..', 'comment_time': datetime.datetime(2024, 2, 22, 0, 0), 'comment_image': None, 'comment_reactors': [], 'comment_reactions': None, 'comment_reaction_count': None, 'replies': []}\n",
      "{'comment_id': None, 'comment_url': 'https://facebook.com/', 'commenter_id': None, 'commenter_url': 'https://facebook.com/longvan.nguyenduc?eav=AfZakDYVrHWDMDTginPZ7w-tgoMUbUZAn9Ary2wiRP2_w7y2phSDM-axRY6D5erOrRA&rc=p&refid=52&__tn__=R&paipv=0', 'commenter_name': 'Vân Nguyễn', 'commenter_meta': None, 'comment_text': 'Vân Nguyễn\\nChào đồng Chí Nguyễn Cửu Sửu ... Hy vọng đồng chí sẽ có nhiều thành tích ở cương vị mới..\\nThích · Bày tỏ cảm xúc · Phản hồi · Xem thêm · 22 tháng 2', 'comment_time': datetime.datetime(2024, 2, 22, 0, 0), 'comment_image': None, 'comment_reactors': [], 'comment_reactions': None, 'comment_reaction_count': None, 'replies': []}\n",
      "{'comment_id': '925261762375451', 'comment_url': 'https://facebook.com/925261762375451', 'commenter_id': None, 'commenter_url': 'https://facebook.com/kimcuc.nguyen.716?eav=AfazHuCnN4YbmTGWrTxWsX9ToXOSbS1FxMAJlRWTX9Nfi5viyn29aZgEhYEOFae4VUA&rc=p&refid=52&__tn__=R&paipv=0', 'commenter_name': 'Kim Cúc Nguyễn', 'commenter_meta': None, 'comment_text': 'Chúc mừng đ/c Nguyễn Cửu Sửu đã đứng vào hàng ngũ của Đảng', 'comment_time': datetime.datetime(2024, 2, 22, 0, 0), 'comment_image': None, 'comment_reactors': [{'name': 'Nguyễn Cửu Sửu', 'link': 'https://facebook.com/suu.ca.21?eav=Afaxkfxghl_msuRNhYdVITkM39JiUwm6qVWzOmpbydkqbMC955RqJI4rxOA0hNsQXZA&fref=pb&paipv=0', 'type': 'love'}, {'name': 'Huynh Linh', 'link': 'https://facebook.com/huynh.linh.52?eav=AfazVXN3t4qHRJveCHDik_jILFu3t2kvM4PU8r6XC7OWi1SHwq77t0VGQPBpPVwyJ-w&fref=pb&paipv=0', 'type': 'love'}], 'comment_reactions': {'love': 2}, 'comment_reaction_count': 2, 'replies': []}\n",
      "{'comment_id': None, 'comment_url': 'https://facebook.com/', 'commenter_id': None, 'commenter_url': 'https://facebook.com/kimcuc.nguyen.716?eav=AfazHuCnN4YbmTGWrTxWsX9ToXOSbS1FxMAJlRWTX9Nfi5viyn29aZgEhYEOFae4VUA&rc=p&refid=52&__tn__=R&paipv=0', 'commenter_name': 'Kim Cúc Nguyễn', 'commenter_meta': None, 'comment_text': 'Kim Cúc Nguyễn\\nChúc mừng đ/c Nguyễn Cửu Sửu đã đứng vào hàng ngũ của Đảng\\n2 · Thích · Bày tỏ cảm xúc · Phản hồi · Xem thêm · 22 tháng 2', 'comment_time': datetime.datetime(2024, 2, 22, 0, 0), 'comment_image': None, 'comment_reactors': [], 'comment_reactions': None, 'comment_reaction_count': None, 'replies': []}\n"
     ]
    }
   ],
   "source": [
    "\"\"\"\n",
    "Download comments for a public Facebook post.\n",
    "\"\"\"\n",
    "\n",
    "import facebook_scraper as fs\n",
    "\n",
    "# get POST_ID from the URL of the post which can have the following structure:\n",
    "# https://www.facebook.com/USER/posts/POST_ID\n",
    "# https://www.facebook.com/groups/GROUP_ID/posts/POST_ID\n",
    "POST_ID = \"pfbid02RMWYodk1V9mNAsNHxbJgLQ6s4dooodHjT9e4iPTM9PGBba1E79o4dVCTo1TSGuBbl\"\n",
    "\n",
    "# number of comments to download -- set this to True to download all comments\n",
    "MAX_COMMENTS = 100\n",
    "\n",
    "# get the post (this gives a generator)\n",
    "gen = fs.get_posts(\n",
    "    post_urls=[POST_ID],\n",
    "    # options={\"comments\": MAX_COMMENTS,\"reactors\": True, \"progress\": True, }\n",
    "    options={\n",
    "                \"comments\" : True,\n",
    "                \"comments\" : \"generator\",\n",
    "                \"allow_extra_requests\": True,\n",
    "                \"comment_reactors\": True,\n",
    "                \"reactions\": True,\n",
    "                \"reactors\" : True\n",
    "            },\n",
    ")\n",
    "\n",
    "# take 1st element of the generator which is the post we requested\n",
    "post = next(gen)\n",
    "\n",
    "# extract the comments part\n",
    "comments = post['comments_full']\n",
    "\n",
    "# process comments as you want...\n",
    "for comment in comments:\n",
    "\n",
    "    # e.g. ...print them\n",
    "    print(comment)\n",
    "\n",
    "    # e.g. ...get the replies for them\n",
    "    for reply in comment['replies']:\n",
    "        print(' ', reply)"
   ]
  },
  {
   "cell_type": "code",
   "execution_count": null,
   "metadata": {},
   "outputs": [
    {
     "data": {
      "text/plain": [
       "{'original_request_url': 'pfbid02RMWYodk1V9mNAsNHxbJgLQ6s4dooodHjT9e4iPTM9PGBba1E79o4dVCTo1TSGuBbl',\n",
       " 'post_url': 'https://facebook.com/story.php?story_fbid=pfbid0MR3ryQLAN2tTwu3S8NNxZLV4oGvjbSCsrZrgDwCKSoohMwQSC9P38qtzehofyNDul&id=100029445226367',\n",
       " 'post_id': 'pfbid0MR3ryQLAN2tTwu3S8NNxZLV4oGvjbSCsrZrgDwCKSoohMwQSC9P38qtzehofyNDul',\n",
       " 'text': 'LỄ KẾT NẠP ĐẢNG VIÊN\\n\\nVào ngày hôm nay 22/2/2024, Chi bộ Khoa Kỹ thuật và Công nghệ đã tổ chức Lễ kết nạp Đảng viên cho đồng chí Nguyễn Cửu Sửu, sinh viên lớp Kỹ thuật điều khiển và Tự động hóa K1. Tham dự buổi lễ có sự hiện diện của đồng chí Trần Đăng Huy - Ủy viên BTV Đảng ủy, Trưởng Ban Tổ chức cán bộ Đại học Huế, Ủy viên BTV Đảng ủy Cơ quan Đại học Huế; đồng chí Nguyễn Quang Lịch - Khoa trưởng, Bí thư Chi bộ, cùng toàn thể Đảng viên Chi bộ Khoa Kỹ thuật và Công nghệ.\\n\\nLễ kết nạp đảng viên được diễn ra trong không khí trang nghiêm, đúng trình tự, thủ tục của Điều lệ Đảng Cộng sản Việt Nam. Thay mặt BTV Đảng ủy Cơ quan Đại học Huế và Chi bộ Khoa Kỹ thuật công nghệ, đồng chí Trần Đăng Huy và đồng chí Nguyễn Quang Lịch đã trao Quyết định kết nạp Đảng và tặng hoa chúc mừng đồng chí Nguyễn Cửu Sửu sau một thời gian phấn đấu, rèn luyện đã được vinh dự đứng trong hàng ngũ của Đảng Cộng sản Việt Nam.\\n\\nĐại diện Chi bộ Khoa Kỹ thuật và Công nghệ, đồng chí Nguyễn Quang Lịch có lời phát biểu chúc mừng đồng chí Nguyễn Cửu Sửu - đảng viên đầu tiên được kết nạp tại Chi bộ. Đây là thành tựu cá nhân sau một quá trình dài đồng chí rèn luyện, tu dưỡng, đồng thời là kết quả có được nhờ sự dìu dắt và quan tâm của Đảng ủy Cơ quan Đại học Huế và Chi bộ Khoa Kỹ thuật và Công nghệ. Đồng chí Nguyễn Cửu Sửu cần tiếp tục giữ vững tinh thần, ý chí, tiếp tục phát huy năng lực, hoàn thành nhiệm vụ Chi bộ giao phó, đặc biệt trong công tác dìu dắt, hỗ trợ các thế hệ sinh viên tiếp theo về học tập, nghiên cứu khoa học; trong công tác phát triển phong trào Đoàn thanh niên vững mạnh.\\n\\nTại buổi lễ, đại diện BTV Đảng ủy Cơ quan Đại học Huế, đồng chí Trần Đăng Huy đã có lời biểu dương sự quan tâm và cố gắng của Chi bộ Khoa Kỹ thuật và Công nghệ trong công tác xây dựng, phát triển đội ngũ, đồng thời chúc Chi bộ Khoa Kỹ thuật và Công nghệ tiếp tục phát huy tìm kiếm, phát hiện những quần chúng ưu tú từ lực lượng sinh viên, bồi dưỡng kết nạp vào hàng ngũ của Đảng.\\n\\nLĩnh hội ý kiến chỉ đạo của đại diện BTV Đảng ủy Cơ quan Đại học Huế, Chi bộ Khoa Kỹ thuật và Công nghệ lấy đây là cột mốc ý nghĩa khởi đầu Xuân mới, tiếp tục đẩy mạnh phát huy công tác phát triển đảng viên, hướng tới những thành tựu mới trong năm 2024.',\n",
       " 'post_text': 'LỄ KẾT NẠP ĐẢNG VIÊN\\n\\nVào ngày hôm nay 22/2/2024, Chi bộ Khoa Kỹ thuật và Công nghệ đã tổ chức Lễ kết nạp Đảng viên cho đồng chí Nguyễn Cửu Sửu, sinh viên lớp Kỹ thuật điều khiển và Tự động hóa K1. Tham dự buổi lễ có sự hiện diện của đồng chí Trần Đăng Huy - Ủy viên BTV Đảng ủy, Trưởng Ban Tổ chức cán bộ Đại học Huế, Ủy viên BTV Đảng ủy Cơ quan Đại học Huế; đồng chí Nguyễn Quang Lịch - Khoa trưởng, Bí thư Chi bộ, cùng toàn thể Đảng viên Chi bộ Khoa Kỹ thuật và Công nghệ.\\n\\nLễ kết nạp đảng viên được diễn ra trong không khí trang nghiêm, đúng trình tự, thủ tục của Điều lệ Đảng Cộng sản Việt Nam. Thay mặt BTV Đảng ủy Cơ quan Đại học Huế và Chi bộ Khoa Kỹ thuật công nghệ, đồng chí Trần Đăng Huy và đồng chí Nguyễn Quang Lịch đã trao Quyết định kết nạp Đảng và tặng hoa chúc mừng đồng chí Nguyễn Cửu Sửu sau một thời gian phấn đấu, rèn luyện đã được vinh dự đứng trong hàng ngũ của Đảng Cộng sản Việt Nam.\\n\\nĐại diện Chi bộ Khoa Kỹ thuật và Công nghệ, đồng chí Nguyễn Quang Lịch có lời phát biểu chúc mừng đồng chí Nguyễn Cửu Sửu - đảng viên đầu tiên được kết nạp tại Chi bộ. Đây là thành tựu cá nhân sau một quá trình dài đồng chí rèn luyện, tu dưỡng, đồng thời là kết quả có được nhờ sự dìu dắt và quan tâm của Đảng ủy Cơ quan Đại học Huế và Chi bộ Khoa Kỹ thuật và Công nghệ. Đồng chí Nguyễn Cửu Sửu cần tiếp tục giữ vững tinh thần, ý chí, tiếp tục phát huy năng lực, hoàn thành nhiệm vụ Chi bộ giao phó, đặc biệt trong công tác dìu dắt, hỗ trợ các thế hệ sinh viên tiếp theo về học tập, nghiên cứu khoa học; trong công tác phát triển phong trào Đoàn thanh niên vững mạnh.\\n\\nTại buổi lễ, đại diện BTV Đảng ủy Cơ quan Đại học Huế, đồng chí Trần Đăng Huy đã có lời biểu dương sự quan tâm và cố gắng của Chi bộ Khoa Kỹ thuật và Công nghệ trong công tác xây dựng, phát triển đội ngũ, đồng thời chúc Chi bộ Khoa Kỹ thuật và Công nghệ tiếp tục phát huy tìm kiếm, phát hiện những quần chúng ưu tú từ lực lượng sinh viên, bồi dưỡng kết nạp vào hàng ngũ của Đảng.\\n\\nLĩnh hội ý kiến chỉ đạo của đại diện BTV Đảng ủy Cơ quan Đại học Huế, Chi bộ Khoa Kỹ thuật và Công nghệ lấy đây là cột mốc ý nghĩa khởi đầu Xuân mới, tiếp tục đẩy mạnh phát huy công tác phát triển đảng viên, hướng tới những thành tựu mới trong năm 2024.',\n",
       " 'shared_text': '',\n",
       " 'original_text': None,\n",
       " 'time': datetime.datetime(2024, 2, 22, 11, 41),\n",
       " 'timestamp': None,\n",
       " 'image': 'https://m.facebook.com/photo/view_full_size/?fbid=1184485629209600&ref_component=mbasic_photo_permalink&ref_page=%2Fwap%2Fphoto.php&refid=13&__tn__=%2Cg',\n",
       " 'image_lowquality': 'https://scontent.fdad2-1.fna.fbcdn.net/v/t39.30808-6/428697739_1184485612542935_2256920075570557233_n.jpg?stp=cp1_dst-jpg_e15_p160x160_q65&_nc_cat=108&ccb=1-7&_nc_sid=5f2048&_nc_ohc=y40qHxP2SvEAX86hRjy&_nc_ht=scontent.fdad2-1.fna&oh=00_AfBF1csRu4URp5sNzVMGuYaoIbIdqTVVBVKLWXocy2PU-Q&oe=65F4FF8C',\n",
       " 'images': ['https://m.facebook.com/photo/view_full_size/?fbid=1184485629209600&ref_component=mbasic_photo_permalink&ref_page=%2Fwap%2Fphoto.php&refid=13&__tn__=%2Cg',\n",
       "  'https://m.facebook.com/photo/view_full_size/?fbid=1184485599209603&ref_component=mbasic_photo_permalink&ref_page=%2Fwap%2Fphoto.php&refid=13&__tn__=%2Cg',\n",
       "  'https://m.facebook.com/photo/view_full_size/?fbid=1184485655876264&ref_component=mbasic_photo_permalink&ref_page=%2Fwap%2Fphoto.php&refid=13&__tn__=%2Cg',\n",
       "  'https://m.facebook.com/photo/view_full_size/?fbid=1184485709209592&ref_component=mbasic_photo_permalink&ref_page=%2Fwap%2Fphoto.php&refid=13&__tn__=%2Cg',\n",
       "  'https://m.facebook.com/photo/view_full_size/?fbid=1184485815876248&ref_component=mbasic_photo_permalink&ref_page=%2Fwap%2Fphoto.php&refid=13&__tn__=%2Cg',\n",
       "  None,\n",
       "  'https://m.facebook.com/photo/view_full_size/?fbid=1184486419209521&ref_component=mbasic_photo_permalink&ref_page=%2Fwap%2Fphoto.php&refid=13&__tn__=%2Cg',\n",
       "  'https://m.facebook.com/photo/view_full_size/?fbid=1184485832542913&ref_component=mbasic_photo_permalink&ref_page=%2Fwap%2Fphoto.php&refid=13&__tn__=%2Cg'],\n",
       " 'images_description': ['May be an image of 10 people and text',\n",
       "  'May be an image of 3 people, dais and text that says \"王 HUẾ CÃNG NGHỆ ĐẢNG ỦY QUAN CHI KHOA THUẬT LỄ KẾT NẠP ĐẢNG VIÊN Thửa Huế,n gày22 2tháng 02nã 2024 Kቀስ\"',\n",
       "  'May be an image of 2 people and text',\n",
       "  'May be an image of 1 person, dais, temple and text',\n",
       "  'May be an image of 3 people and text',\n",
       "  'May be an image of \\u200e1 person, dais, temple and \\u200etext that says \"\\u200e= ररयय و山 V રામ ĐẢNG ỦY cơ QUAN ĐẠI HỌC HUẾ CHI BỘ KHOA KÝ THUẬT VÀ CÃNG NGHỆ LỄ KẾT NẠP ĐẢNG VIÊN Thừa Thiên Huế, ngày 22 tháng 02 năm 2024\\u200e\"\\u200e\\u200e',\n",
       "  'May be an image of 4 people and text that says \"ĐẢNG ỦY CƠ QUAN ẠI HỌC HUẾ CHI KHOA THUẬT CÃNG NGHỆ LỄKẾTNAAVIÊN LỄ KẾT NẠP ĐẢNG VIÊN Thửs Thiên Huế, ngày tháng 2năm 2024 NG GHUY CHUE\"',\n",
       "  'May be an image of 1 person, temple and text'],\n",
       " 'images_lowquality': ['https://scontent.fdad2-1.fna.fbcdn.net/v/t39.30808-6/428697739_1184485612542935_2256920075570557233_n.jpg?stp=cp1_dst-jpg_e15_p160x160_q65&_nc_cat=108&ccb=1-7&_nc_sid=5f2048&_nc_ohc=y40qHxP2SvEAX86hRjy&_nc_ht=scontent.fdad2-1.fna&oh=00_AfBF1csRu4URp5sNzVMGuYaoIbIdqTVVBVKLWXocy2PU-Q&oe=65F4FF8C',\n",
       "  'https://scontent.fdad1-3.fna.fbcdn.net/v/t39.30808-6/428708103_1184485595876270_6869008486363011628_n.jpg?stp=cp1_dst-jpg_e15_p160x160_q65&_nc_cat=111&ccb=1-7&_nc_sid=5f2048&_nc_ohc=LNy1VKDknKcAX-mXurg&_nc_ht=scontent.fdad1-3.fna&oh=00_AfDNKTjjBltGCnw7TmA3h8xyGvA7XfsEiuWeZfcTaHOenQ&oe=65F4A797',\n",
       "  'https://scontent.fdad1-2.fna.fbcdn.net/v/t39.30808-6/428671349_1184485642542932_8507106886711686447_n.jpg?stp=cp1_dst-jpg_e15_p118x118_q65&_nc_cat=106&ccb=1-7&_nc_sid=5f2048&_nc_ohc=Mw77LAkHVX4AX-KmHZB&_nc_ht=scontent.fdad1-2.fna&oh=00_AfD_Zd_7rT0Ob4IxuDRabHjRfCyb00E5wxQhsL5T1erhhg&oe=65F62FCE',\n",
       "  'https://scontent.fdad1-3.fna.fbcdn.net/v/t39.30808-6/428679985_1184485699209593_4392671303644113298_n.jpg?stp=cp1_dst-jpg_e15_p118x118_q65&_nc_cat=111&ccb=1-7&_nc_sid=5f2048&_nc_ohc=Z-_T7HzhB6MAX9Qsd_Q&_nc_ht=scontent.fdad1-3.fna&oh=00_AfCLfZM6kA3a1FZA2Q8ruI2bDOBYHVPMN48cz4XgY0I7WA&oe=65F58810',\n",
       "  'https://scontent.fdad1-3.fna.fbcdn.net/v/t39.30808-6/428695865_1184485799209583_8481404791176316840_n.jpg?stp=cp1_dst-jpg_e15_p118x118_q65&_nc_cat=110&ccb=1-7&_nc_sid=5f2048&_nc_ohc=dD19jf7me7MAX-ZBG11&_nc_ht=scontent.fdad1-3.fna&oh=00_AfDVI-znrlQxWmwURwayIg0YbZu1KlpS6DMechgjnYSI9w&oe=65F64F69'],\n",
       " 'images_lowquality_description': ['May be an image of 10 people and text',\n",
       "  'May be an image of 3 people, dais and text that says \"王 HUẾ CÃNG NGHỆ ĐẢNG ỦY QUAN CHI KHOA THUẬT LỄ KẾT NẠP ĐẢNG VIÊN Thửa Huế,n gày22 2tháng 02nã 2024 Kቀስ\"',\n",
       "  'May be an image of 2 people and text',\n",
       "  'May be an image of 1 person, dais, temple and text',\n",
       "  'May be an image of 3 people and text'],\n",
       " 'video': None,\n",
       " 'video_duration_seconds': None,\n",
       " 'video_height': None,\n",
       " 'video_id': None,\n",
       " 'video_quality': None,\n",
       " 'video_size_MB': None,\n",
       " 'video_thumbnail': None,\n",
       " 'video_watches': None,\n",
       " 'video_width': None,\n",
       " 'likes': 50,\n",
       " 'comments': 5,\n",
       " 'shares': 4,\n",
       " 'link': None,\n",
       " 'links': [{'link': '/photos/viewer/?photoset_token=pcb.1184517575873072&photo=1184485629209600&profileid=0&source=48&refid=52&__tn__=EH-R',\n",
       "   'text': ''},\n",
       "  {'link': '/photos/viewer/?photoset_token=pcb.1184517575873072&photo=1184485599209603&profileid=0&source=48&refid=52&__tn__=EH-R',\n",
       "   'text': ''},\n",
       "  {'link': '/photos/viewer/?photoset_token=pcb.1184517575873072&photo=1184485655876264&profileid=0&source=48&refid=52&__tn__=EH-R',\n",
       "   'text': ''},\n",
       "  {'link': '/photos/viewer/?photoset_token=pcb.1184517575873072&photo=1184485709209592&profileid=0&source=48&refid=52&__tn__=EH-R',\n",
       "   'text': ''},\n",
       "  {'link': '/photos/viewer/?photoset_token=pcb.1184517575873072&photo=1184485815876248&profileid=0&source=48&refid=52&__tn__=EH-R',\n",
       "   'text': '+4'}],\n",
       " 'user_id': None,\n",
       " 'username': 'HUET- Khoa Kỹ thuật và Công nghệ - Đại học Huế',\n",
       " 'user_url': 'https://facebook.com/huet.hueuni?refid=52&__tn__=C-R',\n",
       " 'is_live': False,\n",
       " 'factcheck': None,\n",
       " 'shared_post_id': None,\n",
       " 'shared_time': None,\n",
       " 'shared_user_id': None,\n",
       " 'shared_username': None,\n",
       " 'shared_user_url': None,\n",
       " 'shared_post_url': None,\n",
       " 'available': True,\n",
       " 'comments_full': <generator object PostExtractor.extract_comments_full at 0x73b45e57d6d0>,\n",
       " 'reactors': None,\n",
       " 'w3_fb_url': None,\n",
       " 'reactions': None,\n",
       " 'reaction_count': 50,\n",
       " 'with': None,\n",
       " 'page_id': None,\n",
       " 'sharers': None,\n",
       " 'translated_text': '',\n",
       " 'image_id': None,\n",
       " 'image_ids': [],\n",
       " 'video_ids': [],\n",
       " 'videos': [],\n",
       " 'was_live': False}"
      ]
     },
     "execution_count": 10,
     "metadata": {},
     "output_type": "execute_result"
    }
   ],
   "source": [
    "post"
   ]
  },
  {
   "cell_type": "code",
   "execution_count": null,
   "metadata": {},
   "outputs": [],
   "source": []
  },
  {
   "cell_type": "code",
   "execution_count": null,
   "metadata": {},
   "outputs": [],
   "source": []
  },
  {
   "cell_type": "code",
   "execution_count": null,
   "metadata": {},
   "outputs": [
    {
     "name": "stdout",
     "output_type": "stream",
     "text": [
      "Collecting fbthon\n",
      "  Downloading fbthon-0.0.2.tar.gz (50 kB)\n",
      "\u001b[2K     \u001b[90m━━━━━━━━━━━━━━━━━━━━━━━━━━━━━━━━━━━━━━━\u001b[0m \u001b[32m50.3/50.3 kB\u001b[0m \u001b[31m756.0 kB/s\u001b[0m eta \u001b[36m0:00:00\u001b[0m \u001b[36m0:00:01\u001b[0m\n",
      "\u001b[?25h  Preparing metadata (setup.py) ... \u001b[?25ldone\n",
      "\u001b[?25hCollecting requests_toolbelt (from fbthon)\n",
      "  Downloading requests_toolbelt-1.0.0-py2.py3-none-any.whl.metadata (14 kB)\n",
      "Requirement already satisfied: requests in /home/admin1/anaconda3/envs/fb_crawl/lib/python3.9/site-packages (from fbthon) (2.31.0)\n",
      "Requirement already satisfied: bs4 in /home/admin1/anaconda3/envs/fb_crawl/lib/python3.9/site-packages (from fbthon) (0.0.2)\n",
      "Requirement already satisfied: beautifulsoup4 in /home/admin1/anaconda3/envs/fb_crawl/lib/python3.9/site-packages (from bs4->fbthon) (4.12.3)\n",
      "Requirement already satisfied: charset-normalizer<4,>=2 in /home/admin1/anaconda3/envs/fb_crawl/lib/python3.9/site-packages (from requests->fbthon) (3.3.2)\n",
      "Requirement already satisfied: idna<4,>=2.5 in /home/admin1/anaconda3/envs/fb_crawl/lib/python3.9/site-packages (from requests->fbthon) (3.6)\n",
      "Requirement already satisfied: urllib3<3,>=1.21.1 in /home/admin1/anaconda3/envs/fb_crawl/lib/python3.9/site-packages (from requests->fbthon) (1.26.18)\n",
      "Requirement already satisfied: certifi>=2017.4.17 in /home/admin1/anaconda3/envs/fb_crawl/lib/python3.9/site-packages (from requests->fbthon) (2024.2.2)\n",
      "Requirement already satisfied: soupsieve>1.2 in /home/admin1/anaconda3/envs/fb_crawl/lib/python3.9/site-packages (from beautifulsoup4->bs4->fbthon) (2.5)\n",
      "Downloading requests_toolbelt-1.0.0-py2.py3-none-any.whl (54 kB)\n",
      "\u001b[2K   \u001b[90m━━━━━━━━━━━━━━━━━━━━━━━━━━━━━━━━━━━━━━━━\u001b[0m \u001b[32m54.5/54.5 kB\u001b[0m \u001b[31m2.8 MB/s\u001b[0m eta \u001b[36m0:00:00\u001b[0m\n",
      "\u001b[?25hBuilding wheels for collected packages: fbthon\n",
      "  Building wheel for fbthon (setup.py) ... \u001b[?25ldone\n",
      "\u001b[?25h  Created wheel for fbthon: filename=fbthon-0.0.2-py3-none-any.whl size=46951 sha256=c094fa89bea1eeb1b462a6cf3689dece21b8b09faacc8e269355bb4ec9fdc504\n",
      "  Stored in directory: /home/admin1/.cache/pip/wheels/b0/d2/a4/83b7d345c0ce823bd152e1a39663ee8d041cac4a15f945c0f6\n",
      "Successfully built fbthon\n",
      "Installing collected packages: requests_toolbelt, fbthon\n",
      "Successfully installed fbthon-0.0.2 requests_toolbelt-1.0.0\n",
      "Note: you may need to restart the kernel to use updated packages.\n"
     ]
    }
   ],
   "source": [
    "# https://github.com/MR-X-junior/fbthon\n",
    "%pip install fbthon"
   ]
  },
  {
   "cell_type": "code",
   "execution_count": 17,
   "metadata": {},
   "outputs": [
    {
     "data": {
      "text/plain": [
       "Facebook : host='https://mbasic.facebook.com' cookie='c_user=61557289680110;datr=f5XxZRC2NBHbNX7RQi3x-QLr;fr=0aRS3kpV9JxfG83Li.AWUOP1ncVwTPX8v3zu1MWKuQszs.Bl8ZWB..AAA.0.0.Bl8ZWB.AWWhqg05s9Y;m_page_voice=61557289680110;noscript=1;ps_l=0;ps_n=0;sb=f5XxZUOg2i_bnt1kGwve5nNl;xs=46%3Ac68dwQE-t7X1-g%3A2%3A1710331266%3A-1%3A-1;dbln=%7B%2261557289680110%22%3A%22HS3jCdV8%22%7D;'"
      ]
     },
     "execution_count": 17,
     "metadata": {},
     "output_type": "execute_result"
    }
   ],
   "source": [
    "from fbthon import Facebook\n",
    "from fbthon import Web_Login\n",
    "user_agent = {'User-Agent':'Mozilla/5.0 (Linux; Android 6.0.1; SM-J510GN Build/MMB29M) AppleWebKit/537.36 (KHTML, like Gecko) Chrome/63.0.3239.111 Mobile Safari/537.36'}\n",
    "email = \"lth2112002@gmail.com\" # Ganti email ini dengan email akun Facebook kamu\n",
    "password = \"Baoanh123\" # Ganti password ini dengan password Akun Facebook kamu\n",
    "login = Web_Login(email,password, headers = user_agent)\n",
    "cookie = login.get_cookie_str() # Ini adalah cookie akun Facebook kamu\n",
    "fb = Facebook(cookie)\n",
    "fb"
   ]
  },
  {
   "cell_type": "code",
   "execution_count": null,
   "metadata": {},
   "outputs": [
    {
     "data": {
      "text/plain": [
       "{'name': 'MY LINH',\n",
       " 'first_name': 'MY',\n",
       " 'middle_name': '',\n",
       " 'last_name': 'LINH',\n",
       " 'alternate_name': 'Kuma ',\n",
       " 'about': 'My name is Linh ^^',\n",
       " 'username': '',\n",
       " 'id': '100023454587311',\n",
       " 'contact_info': {'Instagram': 'milinh._'},\n",
       " 'profile_pict': 'https://scontent.fdad3-1.fna.fbcdn.net/v/t39.30808-1/419166561_1539554203503051_3989832563644158188_n.jpg?stp=cp1_dst-jpg_e15_p480x480_q65&_nc_cat=103&ccb=1-7&_nc_sid=5f2048&efg=eyJpIjoiYiJ9&_nc_ohc=5IMxAbuxzQYAX9oJJ_d&tn=EyjqXHV6ZdLn5gbG&_nc_ht=scontent.fdad3-1.fna&oh=00_AfBPcSUbvbSiy22Dog7J_tnwflX-v9pM84SYZ6GM3Flc_w&oe=65F6F52A',\n",
       " 'basic_info': {'Giới tính': 'Nữ'},\n",
       " 'education': [],\n",
       " 'work': [{'name': 'Better For Hue- BFH', 'time': ''},\n",
       "  {'name': 'VietSeeds Foundation', 'time': '18 tháng 10, 2020 - Hiện tại'},\n",
       "  {'name': 'PROM PĐL - Lễ tri ân và trưởng thành.',\n",
       "   'time': '12 tháng 12, 2019 - Hiện tại'}],\n",
       " 'living': {'Tỉnh/Thành phố hiện tại': 'Huế', 'Quê quán': 'Huế'},\n",
       " 'relationship': 'Độc thân',\n",
       " 'other_name': {'Biệt danh': 'Kuma '},\n",
       " 'family': [{'name': 'HIEU AN',\n",
       "   'username': '/han.ieu211',\n",
       "   'designation': 'Anh trai',\n",
       "   'profile_pict': 'https://scontent.fdad3-1.fna.fbcdn.net/v/t39.30808-1/351315270_713404660538192_8092719854390513596_n.jpg?stp=cp1_dst-jpg_e15_p320x320_q65&_nc_cat=108&ccb=1-7&_nc_sid=5f2048&efg=eyJpIjoiYiJ9&_nc_ohc=y-ZekzQGFbQAX_ySVpI&tn=EyjqXHV6ZdLn5gbG&_nc_ht=scontent.fdad3-1.fna&oh=00_AfD37MJBlCsQxusyXWWeHAWFTfpZ8zNBakBiiyEymiHDaw&oe=65F643E1'}],\n",
       " 'year_overviews': [],\n",
       " 'quote': ''}"
      ]
     },
     "execution_count": 15,
     "metadata": {},
     "output_type": "execute_result"
    }
   ],
   "source": [
    "my_profile = fb.get_profile('100023454587311')\n",
    "my_profile._user_info"
   ]
  },
  {
   "cell_type": "code",
   "execution_count": null,
   "metadata": {},
   "outputs": [
    {
     "data": {
      "text/plain": [
       "{'name': 'Sử Thành Công',\n",
       " 'first_name': 'Sử',\n",
       " 'middle_name': 'Thành',\n",
       " 'last_name': 'Công',\n",
       " 'alternate_name': 'スー・タインー・コン',\n",
       " 'about': ' · ',\n",
       " 'username': '/stc1702',\n",
       " 'id': '100004781809422',\n",
       " 'contact_info': {'Di động': '079 457 6759',\n",
       "  'Facebook': '/stc1702',\n",
       "  'Instagram': 'https://www.instagram.com/stc1702/',\n",
       "  'Trang web': '',\n",
       "  'Email': 'suthanhcong172@gmail.com'},\n",
       " 'profile_pict': 'https://scontent.fdad3-1.fna.fbcdn.net/v/t39.30808-1/344806563_1659458441196463_6578362479205037020_n.jpg?stp=cp0_dst-jpg_e15_p480x480_q65&_nc_cat=108&ccb=1-7&_nc_sid=5f2048&efg=eyJpIjoiYiJ9&_nc_ohc=VFiIeWjtxeUAX_NdN3f&_nc_ht=scontent.fdad3-1.fna&oh=00_AfAP6DnvcuF71-91pAqN-pF2dhU08NrEjWygGvVIkFOloQ&oe=65F6528D',\n",
       " 'basic_info': {'Ngày sinh': '17 tháng 2, 1996',\n",
       "  'Giới tính': 'Nam',\n",
       "  'Ngôn ngữ': ''},\n",
       " 'education': [],\n",
       " 'work': [],\n",
       " 'living': {'Tỉnh/Thành phố hiện tại': 'Huế', 'Quê quán': 'Huế'},\n",
       " 'relationship': '',\n",
       " 'other_name': {'Khác': 'スー・タインー・コン'},\n",
       " 'family': [],\n",
       " 'year_overviews': [{'year': '2020',\n",
       "   'overviews': ['Tốt nghiệp THPT Chuyên Quốc Học Huế']},\n",
       "  {'year': '2017',\n",
       "   'overviews': ['Tốt nghiệp TRƯỜNG THCS CHU VĂN AN HUẾ',\n",
       "    'Bắt đầu học tại THPT Chuyên Quốc Học Huế']}],\n",
       " 'quote': ''}"
      ]
     },
     "execution_count": 16,
     "metadata": {},
     "output_type": "execute_result"
    }
   ],
   "source": [
    "my_profile = fb.get_profile('me')\n",
    "my_profile._user_info"
   ]
  },
  {
   "cell_type": "code",
   "execution_count": 4,
   "metadata": {},
   "outputs": [],
   "source": [
    "from facebook_scraper import *\n",
    "from facebook_scraper import get_posts\n"
   ]
  },
  {
   "cell_type": "code",
   "execution_count": 18,
   "metadata": {},
   "outputs": [
    {
     "data": {
      "text/plain": [
       "[]"
      ]
     },
     "execution_count": 18,
     "metadata": {},
     "output_type": "execute_result"
    }
   ],
   "source": [
    "FANPAGE_LINK = \"huet.hueuni\"\n",
    "post_list = []\n",
    "for post in get_posts(FANPAGE_LINK, start_url=\"\",\n",
    "                    options={\"comments\": True, \"reactions\": True, \"allow_extra_requests\": True}, \n",
    "                    extra_info=True, pages=10, cookies=\"facebook_cookies.txt\"):\n",
    "    post_list.append(post)\n",
    "post_list"
   ]
  },
  {
   "cell_type": "code",
   "execution_count": 19,
   "metadata": {},
   "outputs": [],
   "source": [
    "for post in get_posts('huet.hueuni', pages=3):\n",
    "    print(post['link'])"
   ]
  },
  {
   "cell_type": "code",
   "execution_count": 20,
   "metadata": {},
   "outputs": [],
   "source": [
    "from facebook_scraper import get_posts\n"
   ]
  },
  {
   "cell_type": "code",
   "execution_count": 21,
   "metadata": {},
   "outputs": [],
   "source": [
    "FANPAGE_LINK = \"huet.hueuni\"\n",
    "# POST = \"pfbid033hi2ZE6pVAtHh2kRDUGRhvrd9iaAMEn2mf4ARmykW9U9TjMSkPVqXRJCCc2g5zAtl\"\n",
    "posts = []\n",
    "for post in get_posts(FANPAGE_LINK, cookies='facebook_cookies.txt',\n",
    "                      options={\"allow_extra_requests\": True,\n",
    "                               \"reactions\": True, 'reactors': True},\n",
    "                      extra_info=True, pages=5,):\n",
    "    print(\"FB Post Successfully Readed!\")\n",
    "    posts.append(post)"
   ]
  },
  {
   "cell_type": "code",
   "execution_count": 22,
   "metadata": {},
   "outputs": [
    {
     "data": {
      "text/plain": [
       "[]"
      ]
     },
     "execution_count": 22,
     "metadata": {},
     "output_type": "execute_result"
    }
   ],
   "source": [
    "posts"
   ]
  },
  {
   "cell_type": "code",
   "execution_count": 3,
   "metadata": {},
   "outputs": [],
   "source": [
    "from facebook_scraper import get_reactors\n",
    "links = []\n",
    "names = []\n",
    "POST = \"pfbid0Tw2UrqU9T7gymaEqPoaLS7jhKq1FbYU6R9R8akEJThKmnTSmQaRVKqayZd8oZp87l\"\n",
    "for reactors in get_reactors(POST, cookies='facebook_cookies.txt',\n",
    "                      options={\"allow_extra_requests\": True,\n",
    "                               \"reactions\": True, 'reactors': True},\n",
    "                     ):\n",
    "    links.append(reactors[\"link\"])\n",
    "    names.append(reactors[\"name\"])"
   ]
  },
  {
   "cell_type": "code",
   "execution_count": 10,
   "metadata": {},
   "outputs": [
    {
     "data": {
      "text/plain": [
       "False"
      ]
     },
     "execution_count": 10,
     "metadata": {},
     "output_type": "execute_result"
    }
   ],
   "source": [
    "type(\"names\") is list "
   ]
  },
  {
   "cell_type": "code",
   "execution_count": null,
   "metadata": {},
   "outputs": [],
   "source": [
    "\n",
    "import facebook_scraper as fs\n",
    "\n",
    "# get POST_ID from the URL of the post which can have the following structure:\n",
    "# https://www.facebook.com/USER/posts/POST_ID\n",
    "# https://www.facebook.com/groups/GROUP_ID/posts/POST_ID\n",
    "POST_ID = \"pfbid02NsuAiBU9o1ouwBrw1vYAQ7khcVXvz8F8zMvkVat9UJ6uiwdgojgddQRLpXcVBqYbl\"\n",
    "\n",
    "# number of comments to download -- set this to True to download all comments\n",
    "MAX_COMMENTS = 100\n",
    "\n",
    "# get the post (this gives a generator)\n",
    "gen = fs.get_posts(\n",
    "    post_urls=[POST_ID],\n",
    "    options={\"allow_extra_requests\": True,\n",
    "                               \"reactions\": True, 'reactors': True},\n",
    "                    \n",
    ")\n"
   ]
  },
  {
   "cell_type": "code",
   "execution_count": null,
   "metadata": {},
   "outputs": [],
   "source": [
    "post = next(gen)"
   ]
  },
  {
   "cell_type": "code",
   "execution_count": null,
   "metadata": {},
   "outputs": [
    {
     "data": {
      "text/plain": [
       "{'original_request_url': 'pfbid02NsuAiBU9o1ouwBrw1vYAQ7khcVXvz8F8zMvkVat9UJ6uiwdgojgddQRLpXcVBqYbl',\n",
       " 'post_url': 'https://facebook.com/story.php?story_fbid=pfbid02NjiRfgttVCTm2o4S1rrVJhg1tnQyeJbMmVubwCWCRJwZtc6ksBYYrvMYeZKeEMi4l&id=100007093505056',\n",
       " 'post_id': None,\n",
       " 'text': 'Mai nyolcadikos matek felvételi 10-es azaz utolsó feladat.\\nLégyszi gondolkodjatok el és szavazzatok.\\n\\n\"Három szám összege 103.\\nGabi észrevette, hogy ha\\n-- az első számot kettővel növelné,\\n-- a második számot kétszerezné,\\n-- a harmadik számot megfelezné,\\nakkor ugyanazt a számot kapná eredményül.\\nMelyek az eredeti számok?\"\\n\\nSzavazás:\\nha szerinted a megoldás 18, 17, 72 -- akkor nyomj egy nevetőt,\\nha szerinted a megoldás 9, 30, 64 -- akkor nyomj egy szívecskét,\\nha szerinted a megoldás 28, 15, 60 -- akkor nyomj egy ölelőt,\\nha szerinted a megoldás más -- akkor nyomj egy csodálkozót.\\n\\nA kommentek között van olyan, ami lelövi a poént, úgyhogy szavazás előtt légyszi ne nézzétek a kommenteket.\\n\\nPuskázni nem ér, megosztani igen.\\n\\nNagyon kíváncsi vagyok az eredményre.\\n\\n#matekfelvételi',\n",
       " 'post_text': 'Mai nyolcadikos matek felvételi 10-es azaz utolsó feladat.\\nLégyszi gondolkodjatok el és szavazzatok.\\n\\n\"Három szám összege 103.\\nGabi észrevette, hogy ha\\n-- az első számot kettővel növelné,\\n-- a második számot kétszerezné,\\n-- a harmadik számot megfelezné,\\nakkor ugyanazt a számot kapná eredményül.\\nMelyek az eredeti számok?\"\\n\\nSzavazás:\\nha szerinted a megoldás 18, 17, 72 -- akkor nyomj egy nevetőt,\\nha szerinted a megoldás 9, 30, 64 -- akkor nyomj egy szívecskét,\\nha szerinted a megoldás 28, 15, 60 -- akkor nyomj egy ölelőt,\\nha szerinted a megoldás más -- akkor nyomj egy csodálkozót.\\n\\nA kommentek között van olyan, ami lelövi a poént, úgyhogy szavazás előtt légyszi ne nézzétek a kommenteket.\\n\\nPuskázni nem ér, megosztani igen.\\n\\nNagyon kíváncsi vagyok az eredményre.\\n\\n#matekfelvételi',\n",
       " 'shared_text': '',\n",
       " 'original_text': None,\n",
       " 'time': datetime.datetime(2023, 1, 22, 0, 23),\n",
       " 'timestamp': None,\n",
       " 'image': None,\n",
       " 'image_lowquality': None,\n",
       " 'images': None,\n",
       " 'images_description': None,\n",
       " 'images_lowquality': [],\n",
       " 'images_lowquality_description': [],\n",
       " 'video': None,\n",
       " 'video_duration_seconds': None,\n",
       " 'video_height': None,\n",
       " 'video_id': None,\n",
       " 'video_quality': None,\n",
       " 'video_size_MB': None,\n",
       " 'video_thumbnail': None,\n",
       " 'video_watches': None,\n",
       " 'video_width': None,\n",
       " 'likes': 0,\n",
       " 'comments': 0,\n",
       " 'shares': 0,\n",
       " 'link': None,\n",
       " 'links': [],\n",
       " 'user_id': None,\n",
       " 'username': 'Sass Bálint',\n",
       " 'user_url': 'https://facebook.com/balint.sass.3?eav=AfbXISQL7mvN07iNzkHqUZEDhWkLhHWvo0CE4fGhPqBDPSx6fdviDXFQcsz-gyyetkY&refid=52&__tn__=C-R&paipv=0',\n",
       " 'is_live': False,\n",
       " 'factcheck': None,\n",
       " 'shared_post_id': None,\n",
       " 'shared_time': None,\n",
       " 'shared_user_id': None,\n",
       " 'shared_username': None,\n",
       " 'shared_user_url': None,\n",
       " 'shared_post_url': None,\n",
       " 'available': True,\n",
       " 'comments_full': None,\n",
       " 'reactors': None,\n",
       " 'w3_fb_url': None,\n",
       " 'reactions': None,\n",
       " 'reaction_count': 0,\n",
       " 'with': None,\n",
       " 'page_id': None,\n",
       " 'sharers': None,\n",
       " 'translated_text': '',\n",
       " 'image_id': None,\n",
       " 'image_ids': [],\n",
       " 'was_live': False}"
      ]
     },
     "execution_count": 41,
     "metadata": {},
     "output_type": "execute_result"
    }
   ],
   "source": [
    "post"
   ]
  },
  {
   "cell_type": "code",
   "execution_count": null,
   "metadata": {},
   "outputs": [],
   "source": []
  }
 ],
 "metadata": {
  "kernelspec": {
   "display_name": ".venv",
   "language": "python",
   "name": "python3"
  },
  "language_info": {
   "codemirror_mode": {
    "name": "ipython",
    "version": 3
   },
   "file_extension": ".py",
   "mimetype": "text/x-python",
   "name": "python",
   "nbconvert_exporter": "python",
   "pygments_lexer": "ipython3",
   "version": "3.9.18"
  }
 },
 "nbformat": 4,
 "nbformat_minor": 2
}
